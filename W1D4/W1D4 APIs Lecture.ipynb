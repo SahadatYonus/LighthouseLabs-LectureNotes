{
 "cells": [
  {
   "cell_type": "markdown",
   "metadata": {},
   "source": [
    "# Agenda\n",
    "\n",
    "* #### Questions on API (10 minutes)\n",
    "\n",
    "* #### API Activity (10-15 minutes)\n",
    "\n",
    "* #### Python Activity (create a Class and Object) (5 minutes)\n",
    "\n",
    "* #### Python Regular Expression Activity (10-15 mins)\n",
    "\n",
    "* #### Break\n",
    "\n",
    "* #### Discuss the value of mini projects (some individual and some group work) (30 min)\n",
    "\n",
    "* #### Strategies on approaching mini projects(explore, design,implement,present) (30 mins)\n"
   ]
  },
  {
   "cell_type": "markdown",
   "metadata": {},
   "source": [
    "Zoom Poll: How many feel comfortable with Python?"
   ]
  },
  {
   "cell_type": "markdown",
   "metadata": {},
   "source": [
    "## 1.  API Activity"
   ]
  },
  {
   "cell_type": "markdown",
   "metadata": {},
   "source": [
    "### Review Questions"
   ]
  },
  {
   "cell_type": "markdown",
   "metadata": {},
   "source": [
    "* What are the Type of HTTP Requests?\n",
    "* What are the Type of Response Status Codes during API call?\n",
    "* What is the response format generally ?"
   ]
  },
  {
   "cell_type": "markdown",
   "metadata": {},
   "source": [
    "### API Review Activity"
   ]
  },
  {
   "cell_type": "markdown",
   "metadata": {},
   "source": [
    "* Create a twitter account on https://developer.twitter.com/\n",
    "* Create a 'demo twitter app' on it and get the access_key,secret_access_key,consumer_key,secret_consumer_key\n",
    "* set these as environment variables to access them within python using os.environ\n",
    "* pip install tweepy \n",
    "* Check tweepy docs to answer the questions below: http://docs.tweepy.org/en/latest/\n",
    "* Search for tweets on Trump\n",
    "* post a Tweet"
   ]
  },
  {
   "cell_type": "code",
   "execution_count": 1,
   "metadata": {},
   "outputs": [],
   "source": [
    "import os\n",
    "import tweepy as tw"
   ]
  },
  {
   "cell_type": "code",
   "execution_count": 6,
   "metadata": {},
   "outputs": [],
   "source": [
    "consumer_key= os.environ['twitter_API_key']\n",
    "consumer_secret= os.environ['twitter_API_secret_key']\n",
    "access_token= os.environ['twitter_access_token']\n",
    "access_token_secret= os.environ['twitter_access_token_secret']"
   ]
  },
  {
   "cell_type": "markdown",
   "metadata": {},
   "source": [
    "#### Authorize your twitter account as below"
   ]
  },
  {
   "cell_type": "code",
   "execution_count": 11,
   "metadata": {},
   "outputs": [],
   "source": [
    "auth = tw.OAuthHandler(consumer_key, consumer_secret)\n",
    "auth.set_access_token(access_token, access_token_secret)\n",
    "api = tw.API(auth, wait_on_rate_limit=True)"
   ]
  },
  {
   "cell_type": "markdown",
   "metadata": {},
   "source": [
    "#### Use <code>api.update_status</code> to post a tweet"
   ]
  },
  {
   "cell_type": "code",
   "execution_count": null,
   "metadata": {
    "scrolled": true
   },
   "outputs": [],
   "source": [
    "api.update_status(\"Look, I'm tweeting from within Python\")"
   ]
  },
  {
   "cell_type": "markdown",
   "metadata": {},
   "source": [
    "#### Use <code>tweepy.Cursor</code> to search for 100 tweets on trump from today"
   ]
  },
  {
   "cell_type": "code",
   "execution_count": null,
   "metadata": {},
   "outputs": [],
   "source": [
    "for tweet in tw.Cursor(api.search,q=\"Trump\",count=100,lang=\"en\",since='2020-07-22').items():\n",
    "    print(tweet.created_at,\" \",tweet.text.encode(\"utf-8\"))"
   ]
  },
  {
   "cell_type": "markdown",
   "metadata": {},
   "source": [
    "#### 2. Python Activity - Create a class and an Object\n",
    "* Create class Snake \n",
    "* Class should accept name in constructor\n",
    "* function to change name of Snake"
   ]
  },
  {
   "cell_type": "code",
   "execution_count": 1,
   "metadata": {},
   "outputs": [
    {
     "name": "stdout",
     "output_type": "stream",
     "text": [
      "name of snake is python\n",
      "name of snake is changed to anaconda\n"
     ]
    }
   ],
   "source": [
    "class Snake:\n",
    "\n",
    "    def __init__(self, name):\n",
    "        self.name = name\n",
    "\n",
    "    def change_name(self, new_name):\n",
    "        self.name = new_name\n",
    "pyth = Snake(\"python\")\n",
    "print(\"name of snake is {}\".format(pyth.name))\n",
    "pyth.change_name('anaconda')\n",
    "print(\"name of snake is changed to {}\".format(pyth.name))"
   ]
  },
  {
   "cell_type": "markdown",
   "metadata": {},
   "source": [
    "#### 2A. Python Activity - Create a class and an Object of Class which does the following:\n",
    "* Write a Python class named Circle constructed by a radius as input \n",
    "* two methods which will compute the area and the perimeter of a circle"
   ]
  },
  {
   "cell_type": "code",
   "execution_count": 2,
   "metadata": {},
   "outputs": [
    {
     "name": "stdout",
     "output_type": "stream",
     "text": [
      "200.96\n",
      "50.24\n"
     ]
    }
   ],
   "source": [
    "class Circle():\n",
    "    def __init__(self, r):\n",
    "        self.radius = r\n",
    "\n",
    "    def area(self):\n",
    "        return self.radius**2*3.14\n",
    "\n",
    "    def perimeter(self):\n",
    "        return 2*self.radius*3.14\n",
    "\n",
    "NewCircle = Circle(8)\n",
    "print(NewCircle.area())\n",
    "print(NewCircle.perimeter())\n"
   ]
  },
  {
   "cell_type": "markdown",
   "metadata": {},
   "source": [
    "### 3. Regular Expressions in Python"
   ]
  },
  {
   "cell_type": "code",
   "execution_count": 18,
   "metadata": {},
   "outputs": [],
   "source": [
    "import re"
   ]
  },
  {
   "cell_type": "markdown",
   "metadata": {},
   "source": [
    "| Basic Regex | Meaning|\n",
    "|-----------|--------|\n",
    "| ^ | The start of a string |\n",
    "| $ | The end of a string |\n",
    "| . | Wildcard which matches any character, except newline (\\n). |\n",
    "| | | Matches a specific character or group of characters on either side (e.g. a|b corresponds to a or b) |\n",
    "| \\ | Used to escape a special character |\n",
    "| a | The character \"a\" |\n",
    "| ab | The string \"ab\" |"
   ]
  },
  {
   "cell_type": "markdown",
   "metadata": {},
   "source": [
    "| QUANTIFIERS | DESCRIPTION |\n",
    "|--------| -------------|\n",
    "| * | Used to match 0 or more of the previous (e.g. xy*z could correspond to \"xz\", \"xyz\", \"xyyz\", etc.) |\n",
    "| ? | Matches 0 or 1 of the previous |\n",
    "| + | Matches 1 or more of the previous |\n",
    "| {5} | Matches exactly 5 |\n",
    "| {5, 10} | Matches everything between 5-10 |"
   ]
  },
  {
   "cell_type": "markdown",
   "metadata": {},
   "source": [
    "| CHARACTER CLASSES | DESCRIPTION |\n",
    "| ----------------- | ----------- |\n",
    "| \\s | Matches a whitespace character |\n",
    "| \\S | Matches a non-whitespace character |\n",
    "| \\w | Matches a word character |\n",
    "| \\W | Matches a non-word character |\n",
    "| \\d | Matches one digit |\n",
    "| \\D | Matches one non-digit |\n",
    "| [\\b] | A backspace character |\n",
    "| \\c | A control character |"
   ]
  },
  {
   "cell_type": "markdown",
   "metadata": {},
   "source": [
    "| GROUPS | DESCRIPTION |\n",
    "| -----  | ----------- |\n",
    "| (xyz)\t| Grouping of characters |\n",
    "| (?:xyz) | Non-capturing group of characters |\n",
    "| [xyz] | Matches a range of characters (e.g. x or y or z) |\n",
    "| [^xyz]\t| Matches a character other than x or y or z |\n",
    "| [a-q]\t| Matches a character from within a specified range |\n",
    "| [0-7]\t| Matches a digit from within a specified range |\n",
    "\n",
    "for other useful regular expressions check the link: https://www.keycdn.com/support/regex-cheatsheet"
   ]
  },
  {
   "cell_type": "markdown",
   "metadata": {},
   "source": [
    "Using <code>findall()</code>"
   ]
  },
  {
   "cell_type": "code",
   "execution_count": 25,
   "metadata": {},
   "outputs": [
    {
     "name": "stdout",
     "output_type": "stream",
     "text": [
      "['ai', 'ai']\n"
     ]
    }
   ],
   "source": [
    "txt = \"The rain in Spain\"\n",
    "x = re.findall(\"ai\", txt)\n",
    "print(x)"
   ]
  },
  {
   "cell_type": "markdown",
   "metadata": {},
   "source": [
    "Using <code>search()</code>"
   ]
  },
  {
   "cell_type": "code",
   "execution_count": 26,
   "metadata": {},
   "outputs": [
    {
     "name": "stdout",
     "output_type": "stream",
     "text": [
      "The first white-space character is located in position: 3\n"
     ]
    }
   ],
   "source": [
    "txt = \"The rain in Spain\"\n",
    "x = re.search(\"\\s\", txt)\n",
    "\n",
    "print(\"The first white-space character is located in position:\", x.start())"
   ]
  },
  {
   "cell_type": "markdown",
   "metadata": {},
   "source": [
    "#### Let us write a regex to find dates in the format dd-mm-yyyy"
   ]
  },
  {
   "cell_type": "code",
   "execution_count": 54,
   "metadata": {},
   "outputs": [],
   "source": [
    "regex_for_date = '((0[1-9]|[12][0-9]|3[01])[- /.](0[1-9]|1[012])[- /.](19|20)\\d\\d)'"
   ]
  },
  {
   "cell_type": "code",
   "execution_count": 60,
   "metadata": {},
   "outputs": [],
   "source": [
    "txt = \" I went to school on 09-09-1990. \\\n",
    "I went to college on September 12,2005. \\\n",
    "My last visit to London was on 21/05/2011\""
   ]
  },
  {
   "cell_type": "code",
   "execution_count": 61,
   "metadata": {},
   "outputs": [
    {
     "name": "stdout",
     "output_type": "stream",
     "text": [
      " I went to school on 09-09-1990. I went to college on September 12,2005. My last visit to London was on 21/05/2011\n"
     ]
    }
   ],
   "source": [
    "print(txt)"
   ]
  },
  {
   "cell_type": "code",
   "execution_count": 62,
   "metadata": {},
   "outputs": [],
   "source": [
    "matches = re.findall(regex_for_date,txt)"
   ]
  },
  {
   "cell_type": "code",
   "execution_count": 63,
   "metadata": {},
   "outputs": [
    {
     "data": {
      "text/plain": [
       "[('09-09-1990', '09', '09', '19'), ('21/05/2011', '21', '05', '20')]"
      ]
     },
     "execution_count": 63,
     "metadata": {},
     "output_type": "execute_result"
    }
   ],
   "source": [
    "matches"
   ]
  },
  {
   "cell_type": "markdown",
   "metadata": {},
   "source": [
    "#### Python RegEx Acitvity\n",
    "* Write a Python program that matches a word containing 'z', not at the start or end of the word in a sentence.\n",
    "* Sample Sentence: 'The quick brown fox jumps over the lazy dog.'"
   ]
  },
  {
   "cell_type": "code",
   "execution_count": 3,
   "metadata": {},
   "outputs": [
    {
     "name": "stdout",
     "output_type": "stream",
     "text": [
      "Found a match!\n",
      "Not matched!\n"
     ]
    }
   ],
   "source": [
    "import re\n",
    "def text_match(text):\n",
    "        patterns = '\\Bz\\B'\n",
    "        if re.search(patterns,  text):\n",
    "                return 'Found a match!'\n",
    "        else:\n",
    "                return('Not matched!')\n",
    "\n",
    "print(text_match(\"The quick brown fox jumps over the lazy dog.\"))\n",
    "print(text_match(\"Python Exercises.\"))\n"
   ]
  },
  {
   "cell_type": "code",
   "execution_count": null,
   "metadata": {},
   "outputs": [],
   "source": []
  }
 ],
 "metadata": {
  "kernelspec": {
   "display_name": "Python 3",
   "language": "python",
   "name": "python3"
  },
  "language_info": {
   "codemirror_mode": {
    "name": "ipython",
    "version": 3
   },
   "file_extension": ".py",
   "mimetype": "text/x-python",
   "name": "python",
   "nbconvert_exporter": "python",
   "pygments_lexer": "ipython3",
   "version": "3.7.7"
  }
 },
 "nbformat": 4,
 "nbformat_minor": 4
}
