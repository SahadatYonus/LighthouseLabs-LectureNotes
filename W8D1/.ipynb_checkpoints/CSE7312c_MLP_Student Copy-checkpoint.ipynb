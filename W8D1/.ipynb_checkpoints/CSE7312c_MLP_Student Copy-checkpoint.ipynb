{
 "cells": [
  {
   "cell_type": "markdown",
   "metadata": {},
   "source": [
    "### Problem Statement\n",
    "\n",
    "    Identify products at risk of backorder before the event occurs so that business has time to react."
   ]
  },
  {
   "cell_type": "markdown",
   "metadata": {},
   "source": [
    "### What is a Backorder?\n",
    "    Backorders are products that are temporarily out of stock, but a customer is permitted to place an order against future inventory. A backorder generally indicates that customer demand for a product or service exceeds a company’s capacity to supply it. Back orders are both good and bad. Strong demand can drive back orders, but so can suboptimal planning."
   ]
  },
  {
   "cell_type": "markdown",
   "metadata": {},
   "source": [
    "### Data\n",
    "\n",
    "Data file contains the historical data for the 8 weeks prior to the week we are trying to predict. The data was taken as weekly snapshots at the start of each week. Columns are defined as follows:\n",
    "\n",
    "    sku - Random ID for the product\n",
    "\n",
    "    national_inv - Current inventory level for the part\n",
    "\n",
    "    lead_time - Transit time for product (if available)\n",
    "\n",
    "    in_transit_qty - Amount of product in transit from source\n",
    "\n",
    "    forecast_3_month - Forecast sales for the next 3 months\n",
    "\n",
    "    forecast_6_month - Forecast sales for the next 6 months\n",
    "\n",
    "    forecast_9_month - Forecast sales for the next 9 months\n",
    "\n",
    "    sales_1_month - Sales quantity for the prior 1 month time period\n",
    "\n",
    "    sales_3_month - Sales quantity for the prior 3 month time period\n",
    "\n",
    "    sales_6_month - Sales quantity for the prior 6 month time period\n",
    "\n",
    "    sales_9_month - Sales quantity for the prior 9 month time period\n",
    "\n",
    "    min_bank - Minimum recommend amount to stock\n",
    "\n",
    "    potential_issue - Source issue for part identified\n",
    "\n",
    "    pieces_past_due - Parts overdue from source\n",
    "\n",
    "    perf_6_month_avg - Source performance for prior 6 month period\n",
    "\n",
    "    perf_12_month_avg - Source performance for prior 12 month period\n",
    "\n",
    "    local_bo_qty - Amount of stock orders overdue\n",
    "\n",
    "    deck_risk - Part risk flag\n",
    "\n",
    "    oe_constraint - Part risk flag\n",
    "\n",
    "    ppap_risk - Part risk flag\n",
    "\n",
    "    stop_auto_buy - Part risk flag\n",
    "\n",
    "    rev_stop - Part risk flag\n",
    "\n",
    "    went_on_backorder - Product actually went on backorder. This is the target value."
   ]
  },
  {
   "cell_type": "markdown",
   "metadata": {},
   "source": [
    "### Data Pre-processing\n",
    "#### Loading the required libraries"
   ]
  },
  {
   "cell_type": "code",
   "execution_count": 22,
   "metadata": {
    "collapsed": true
   },
   "outputs": [],
   "source": [
    "import pandas as pd\n",
    "import numpy as np\n",
    "import os\n",
    "\n",
    "from sklearn.model_selection import train_test_split\n",
    "from sklearn.metrics import confusion_matrix, roc_curve, auc\n",
    "from sklearn.preprocessing import StandardScaler\n",
    "import tensorflow as tf\n",
    "\n",
    "from keras.regularizers import l2\n",
    "\n",
    "from keras.models import Sequential\n",
    "from keras.layers import Dense, Dropout, BatchNormalization\n",
    "\n",
    "from keras.utils import to_categorical\n",
    "from keras import optimizers\n",
    "from keras.callbacks import Callback\n",
    "from keras import backend as K\n",
    "\n",
    "import matplotlib.pyplot as plt\n",
    "%matplotlib inline  \n",
    "\n",
    "\n",
    "import warnings\n",
    "warnings.filterwarnings(\"ignore\", category=DeprecationWarning) "
   ]
  },
  {
   "cell_type": "markdown",
   "metadata": {},
   "source": [
    "Get current working directory"
   ]
  },
  {
   "cell_type": "code",
   "execution_count": 23,
   "metadata": {
    "collapsed": true
   },
   "outputs": [],
   "source": [
    "PATH = os.getcwd()"
   ]
  },
  {
   "cell_type": "markdown",
   "metadata": {},
   "source": [
    "Change directory"
   ]
  },
  {
   "cell_type": "code",
   "execution_count": 24,
   "metadata": {
    "collapsed": true
   },
   "outputs": [],
   "source": [
    "os.chdir(PATH)"
   ]
  },
  {
   "cell_type": "markdown",
   "metadata": {},
   "source": [
    "#### Loading the data"
   ]
  },
  {
   "cell_type": "code",
   "execution_count": 25,
   "metadata": {
    "collapsed": true,
    "scrolled": true
   },
   "outputs": [],
   "source": [
    "data = pd.read_csv(\"BackOrders.csv\",header=0)"
   ]
  },
  {
   "cell_type": "markdown",
   "metadata": {},
   "source": [
    "#### Understand the Data"
   ]
  },
  {
   "cell_type": "markdown",
   "metadata": {},
   "source": [
    "See the number row and columns"
   ]
  },
  {
   "cell_type": "code",
   "execution_count": 26,
   "metadata": {},
   "outputs": [
    {
     "data": {
      "text/plain": [
       "(61589, 23)"
      ]
     },
     "execution_count": 26,
     "metadata": {},
     "output_type": "execute_result"
    }
   ],
   "source": [
    "data.shape"
   ]
  },
  {
   "cell_type": "markdown",
   "metadata": {},
   "source": [
    "Display the columns"
   ]
  },
  {
   "cell_type": "code",
   "execution_count": 27,
   "metadata": {},
   "outputs": [
    {
     "data": {
      "text/plain": [
       "Index(['sku', 'national_inv', 'lead_time', 'in_transit_qty',\n",
       "       'forecast_3_month', 'forecast_6_month', 'forecast_9_month',\n",
       "       'sales_1_month', 'sales_3_month', 'sales_6_month', 'sales_9_month',\n",
       "       'min_bank', 'potential_issue', 'pieces_past_due', 'perf_6_month_avg',\n",
       "       'perf_12_month_avg', 'local_bo_qty', 'deck_risk', 'oe_constraint',\n",
       "       'ppap_risk', 'stop_auto_buy', 'rev_stop', 'went_on_backorder'],\n",
       "      dtype='object')"
      ]
     },
     "execution_count": 27,
     "metadata": {},
     "output_type": "execute_result"
    }
   ],
   "source": [
    "data.columns"
   ]
  },
  {
   "cell_type": "markdown",
   "metadata": {},
   "source": [
    "Display the index"
   ]
  },
  {
   "cell_type": "code",
   "execution_count": 28,
   "metadata": {},
   "outputs": [
    {
     "data": {
      "text/plain": [
       "RangeIndex(start=0, stop=61589, step=1)"
      ]
     },
     "execution_count": 28,
     "metadata": {},
     "output_type": "execute_result"
    }
   ],
   "source": [
    "data.index"
   ]
  },
  {
   "cell_type": "markdown",
   "metadata": {},
   "source": [
    "See the top rows of the data"
   ]
  },
  {
   "cell_type": "code",
   "execution_count": 29,
   "metadata": {},
   "outputs": [
    {
     "data": {
      "text/html": [
       "<div>\n",
       "<style>\n",
       "    .dataframe thead tr:only-child th {\n",
       "        text-align: right;\n",
       "    }\n",
       "\n",
       "    .dataframe thead th {\n",
       "        text-align: left;\n",
       "    }\n",
       "\n",
       "    .dataframe tbody tr th {\n",
       "        vertical-align: top;\n",
       "    }\n",
       "</style>\n",
       "<table border=\"1\" class=\"dataframe\">\n",
       "  <thead>\n",
       "    <tr style=\"text-align: right;\">\n",
       "      <th></th>\n",
       "      <th>sku</th>\n",
       "      <th>national_inv</th>\n",
       "      <th>lead_time</th>\n",
       "      <th>in_transit_qty</th>\n",
       "      <th>forecast_3_month</th>\n",
       "      <th>forecast_6_month</th>\n",
       "      <th>forecast_9_month</th>\n",
       "      <th>sales_1_month</th>\n",
       "      <th>sales_3_month</th>\n",
       "      <th>sales_6_month</th>\n",
       "      <th>...</th>\n",
       "      <th>pieces_past_due</th>\n",
       "      <th>perf_6_month_avg</th>\n",
       "      <th>perf_12_month_avg</th>\n",
       "      <th>local_bo_qty</th>\n",
       "      <th>deck_risk</th>\n",
       "      <th>oe_constraint</th>\n",
       "      <th>ppap_risk</th>\n",
       "      <th>stop_auto_buy</th>\n",
       "      <th>rev_stop</th>\n",
       "      <th>went_on_backorder</th>\n",
       "    </tr>\n",
       "  </thead>\n",
       "  <tbody>\n",
       "    <tr>\n",
       "      <th>0</th>\n",
       "      <td>1888279</td>\n",
       "      <td>117</td>\n",
       "      <td>NaN</td>\n",
       "      <td>0</td>\n",
       "      <td>0</td>\n",
       "      <td>0</td>\n",
       "      <td>0</td>\n",
       "      <td>0</td>\n",
       "      <td>0</td>\n",
       "      <td>15</td>\n",
       "      <td>...</td>\n",
       "      <td>0</td>\n",
       "      <td>-99.00</td>\n",
       "      <td>-99.00</td>\n",
       "      <td>0</td>\n",
       "      <td>No</td>\n",
       "      <td>No</td>\n",
       "      <td>Yes</td>\n",
       "      <td>Yes</td>\n",
       "      <td>No</td>\n",
       "      <td>No</td>\n",
       "    </tr>\n",
       "    <tr>\n",
       "      <th>1</th>\n",
       "      <td>1870557</td>\n",
       "      <td>7</td>\n",
       "      <td>2.0</td>\n",
       "      <td>0</td>\n",
       "      <td>0</td>\n",
       "      <td>0</td>\n",
       "      <td>0</td>\n",
       "      <td>0</td>\n",
       "      <td>0</td>\n",
       "      <td>0</td>\n",
       "      <td>...</td>\n",
       "      <td>0</td>\n",
       "      <td>0.50</td>\n",
       "      <td>0.28</td>\n",
       "      <td>0</td>\n",
       "      <td>Yes</td>\n",
       "      <td>No</td>\n",
       "      <td>No</td>\n",
       "      <td>Yes</td>\n",
       "      <td>No</td>\n",
       "      <td>No</td>\n",
       "    </tr>\n",
       "    <tr>\n",
       "      <th>2</th>\n",
       "      <td>1475481</td>\n",
       "      <td>258</td>\n",
       "      <td>15.0</td>\n",
       "      <td>10</td>\n",
       "      <td>10</td>\n",
       "      <td>77</td>\n",
       "      <td>184</td>\n",
       "      <td>46</td>\n",
       "      <td>132</td>\n",
       "      <td>256</td>\n",
       "      <td>...</td>\n",
       "      <td>0</td>\n",
       "      <td>0.54</td>\n",
       "      <td>0.70</td>\n",
       "      <td>0</td>\n",
       "      <td>No</td>\n",
       "      <td>No</td>\n",
       "      <td>No</td>\n",
       "      <td>Yes</td>\n",
       "      <td>No</td>\n",
       "      <td>No</td>\n",
       "    </tr>\n",
       "    <tr>\n",
       "      <th>3</th>\n",
       "      <td>1758220</td>\n",
       "      <td>46</td>\n",
       "      <td>2.0</td>\n",
       "      <td>0</td>\n",
       "      <td>0</td>\n",
       "      <td>0</td>\n",
       "      <td>0</td>\n",
       "      <td>1</td>\n",
       "      <td>2</td>\n",
       "      <td>6</td>\n",
       "      <td>...</td>\n",
       "      <td>0</td>\n",
       "      <td>0.75</td>\n",
       "      <td>0.90</td>\n",
       "      <td>0</td>\n",
       "      <td>Yes</td>\n",
       "      <td>No</td>\n",
       "      <td>No</td>\n",
       "      <td>Yes</td>\n",
       "      <td>No</td>\n",
       "      <td>No</td>\n",
       "    </tr>\n",
       "    <tr>\n",
       "      <th>4</th>\n",
       "      <td>1360312</td>\n",
       "      <td>2</td>\n",
       "      <td>2.0</td>\n",
       "      <td>0</td>\n",
       "      <td>4</td>\n",
       "      <td>6</td>\n",
       "      <td>10</td>\n",
       "      <td>2</td>\n",
       "      <td>2</td>\n",
       "      <td>5</td>\n",
       "      <td>...</td>\n",
       "      <td>0</td>\n",
       "      <td>0.97</td>\n",
       "      <td>0.92</td>\n",
       "      <td>0</td>\n",
       "      <td>No</td>\n",
       "      <td>No</td>\n",
       "      <td>No</td>\n",
       "      <td>Yes</td>\n",
       "      <td>No</td>\n",
       "      <td>No</td>\n",
       "    </tr>\n",
       "  </tbody>\n",
       "</table>\n",
       "<p>5 rows × 23 columns</p>\n",
       "</div>"
      ],
      "text/plain": [
       "       sku  national_inv  lead_time  in_transit_qty  forecast_3_month  \\\n",
       "0  1888279           117        NaN               0                 0   \n",
       "1  1870557             7        2.0               0                 0   \n",
       "2  1475481           258       15.0              10                10   \n",
       "3  1758220            46        2.0               0                 0   \n",
       "4  1360312             2        2.0               0                 4   \n",
       "\n",
       "   forecast_6_month  forecast_9_month  sales_1_month  sales_3_month  \\\n",
       "0                 0                 0              0              0   \n",
       "1                 0                 0              0              0   \n",
       "2                77               184             46            132   \n",
       "3                 0                 0              1              2   \n",
       "4                 6                10              2              2   \n",
       "\n",
       "   sales_6_month        ...         pieces_past_due  perf_6_month_avg  \\\n",
       "0             15        ...                       0            -99.00   \n",
       "1              0        ...                       0              0.50   \n",
       "2            256        ...                       0              0.54   \n",
       "3              6        ...                       0              0.75   \n",
       "4              5        ...                       0              0.97   \n",
       "\n",
       "  perf_12_month_avg  local_bo_qty  deck_risk  oe_constraint  ppap_risk  \\\n",
       "0            -99.00             0         No             No        Yes   \n",
       "1              0.28             0        Yes             No         No   \n",
       "2              0.70             0         No             No         No   \n",
       "3              0.90             0        Yes             No         No   \n",
       "4              0.92             0         No             No         No   \n",
       "\n",
       "  stop_auto_buy rev_stop went_on_backorder  \n",
       "0           Yes       No                No  \n",
       "1           Yes       No                No  \n",
       "2           Yes       No                No  \n",
       "3           Yes       No                No  \n",
       "4           Yes       No                No  \n",
       "\n",
       "[5 rows x 23 columns]"
      ]
     },
     "execution_count": 29,
     "metadata": {},
     "output_type": "execute_result"
    }
   ],
   "source": [
    "data.head()"
   ]
  },
  {
   "cell_type": "markdown",
   "metadata": {},
   "source": [
    "Shows a quick statistic summary of your data using describe.\n",
    "\n",
    "    For object data (e.g. strings or timestamps), the result’s index will include count, unique, top, and freq. \n",
    "\n",
    "        The top is the most common value.\n",
    "\n",
    "        The freq is the most common value’s frequency."
   ]
  },
  {
   "cell_type": "code",
   "execution_count": 30,
   "metadata": {
    "scrolled": true
   },
   "outputs": [
    {
     "data": {
      "text/html": [
       "<div>\n",
       "<style>\n",
       "    .dataframe thead tr:only-child th {\n",
       "        text-align: right;\n",
       "    }\n",
       "\n",
       "    .dataframe thead th {\n",
       "        text-align: left;\n",
       "    }\n",
       "\n",
       "    .dataframe tbody tr th {\n",
       "        vertical-align: top;\n",
       "    }\n",
       "</style>\n",
       "<table border=\"1\" class=\"dataframe\">\n",
       "  <thead>\n",
       "    <tr style=\"text-align: right;\">\n",
       "      <th></th>\n",
       "      <th>sku</th>\n",
       "      <th>national_inv</th>\n",
       "      <th>lead_time</th>\n",
       "      <th>in_transit_qty</th>\n",
       "      <th>forecast_3_month</th>\n",
       "      <th>forecast_6_month</th>\n",
       "      <th>forecast_9_month</th>\n",
       "      <th>sales_1_month</th>\n",
       "      <th>sales_3_month</th>\n",
       "      <th>sales_6_month</th>\n",
       "      <th>...</th>\n",
       "      <th>pieces_past_due</th>\n",
       "      <th>perf_6_month_avg</th>\n",
       "      <th>perf_12_month_avg</th>\n",
       "      <th>local_bo_qty</th>\n",
       "      <th>deck_risk</th>\n",
       "      <th>oe_constraint</th>\n",
       "      <th>ppap_risk</th>\n",
       "      <th>stop_auto_buy</th>\n",
       "      <th>rev_stop</th>\n",
       "      <th>went_on_backorder</th>\n",
       "    </tr>\n",
       "  </thead>\n",
       "  <tbody>\n",
       "    <tr>\n",
       "      <th>count</th>\n",
       "      <td>6.158900e+04</td>\n",
       "      <td>61589.000000</td>\n",
       "      <td>58186.000000</td>\n",
       "      <td>61589.000000</td>\n",
       "      <td>6.158900e+04</td>\n",
       "      <td>6.158900e+04</td>\n",
       "      <td>6.158900e+04</td>\n",
       "      <td>61589.000000</td>\n",
       "      <td>61589.000000</td>\n",
       "      <td>6.158900e+04</td>\n",
       "      <td>...</td>\n",
       "      <td>61589.000000</td>\n",
       "      <td>61589.000000</td>\n",
       "      <td>61589.000000</td>\n",
       "      <td>61589.000000</td>\n",
       "      <td>61589</td>\n",
       "      <td>61589</td>\n",
       "      <td>61589</td>\n",
       "      <td>61589</td>\n",
       "      <td>61589</td>\n",
       "      <td>61589</td>\n",
       "    </tr>\n",
       "    <tr>\n",
       "      <th>unique</th>\n",
       "      <td>NaN</td>\n",
       "      <td>NaN</td>\n",
       "      <td>NaN</td>\n",
       "      <td>NaN</td>\n",
       "      <td>NaN</td>\n",
       "      <td>NaN</td>\n",
       "      <td>NaN</td>\n",
       "      <td>NaN</td>\n",
       "      <td>NaN</td>\n",
       "      <td>NaN</td>\n",
       "      <td>...</td>\n",
       "      <td>NaN</td>\n",
       "      <td>NaN</td>\n",
       "      <td>NaN</td>\n",
       "      <td>NaN</td>\n",
       "      <td>2</td>\n",
       "      <td>2</td>\n",
       "      <td>2</td>\n",
       "      <td>2</td>\n",
       "      <td>2</td>\n",
       "      <td>2</td>\n",
       "    </tr>\n",
       "    <tr>\n",
       "      <th>top</th>\n",
       "      <td>NaN</td>\n",
       "      <td>NaN</td>\n",
       "      <td>NaN</td>\n",
       "      <td>NaN</td>\n",
       "      <td>NaN</td>\n",
       "      <td>NaN</td>\n",
       "      <td>NaN</td>\n",
       "      <td>NaN</td>\n",
       "      <td>NaN</td>\n",
       "      <td>NaN</td>\n",
       "      <td>...</td>\n",
       "      <td>NaN</td>\n",
       "      <td>NaN</td>\n",
       "      <td>NaN</td>\n",
       "      <td>NaN</td>\n",
       "      <td>No</td>\n",
       "      <td>No</td>\n",
       "      <td>No</td>\n",
       "      <td>Yes</td>\n",
       "      <td>No</td>\n",
       "      <td>No</td>\n",
       "    </tr>\n",
       "    <tr>\n",
       "      <th>freq</th>\n",
       "      <td>NaN</td>\n",
       "      <td>NaN</td>\n",
       "      <td>NaN</td>\n",
       "      <td>NaN</td>\n",
       "      <td>NaN</td>\n",
       "      <td>NaN</td>\n",
       "      <td>NaN</td>\n",
       "      <td>NaN</td>\n",
       "      <td>NaN</td>\n",
       "      <td>NaN</td>\n",
       "      <td>...</td>\n",
       "      <td>NaN</td>\n",
       "      <td>NaN</td>\n",
       "      <td>NaN</td>\n",
       "      <td>NaN</td>\n",
       "      <td>48145</td>\n",
       "      <td>61577</td>\n",
       "      <td>53792</td>\n",
       "      <td>59303</td>\n",
       "      <td>61569</td>\n",
       "      <td>50296</td>\n",
       "    </tr>\n",
       "    <tr>\n",
       "      <th>mean</th>\n",
       "      <td>2.037188e+06</td>\n",
       "      <td>287.721882</td>\n",
       "      <td>7.559619</td>\n",
       "      <td>30.192843</td>\n",
       "      <td>1.692728e+02</td>\n",
       "      <td>3.150413e+02</td>\n",
       "      <td>4.535760e+02</td>\n",
       "      <td>44.742957</td>\n",
       "      <td>150.732631</td>\n",
       "      <td>2.835465e+02</td>\n",
       "      <td>...</td>\n",
       "      <td>1.605400</td>\n",
       "      <td>-6.264182</td>\n",
       "      <td>-5.863664</td>\n",
       "      <td>1.205361</td>\n",
       "      <td>NaN</td>\n",
       "      <td>NaN</td>\n",
       "      <td>NaN</td>\n",
       "      <td>NaN</td>\n",
       "      <td>NaN</td>\n",
       "      <td>NaN</td>\n",
       "    </tr>\n",
       "    <tr>\n",
       "      <th>std</th>\n",
       "      <td>6.564178e+05</td>\n",
       "      <td>4233.906931</td>\n",
       "      <td>6.498952</td>\n",
       "      <td>792.869253</td>\n",
       "      <td>5.286742e+03</td>\n",
       "      <td>9.774362e+03</td>\n",
       "      <td>1.420201e+04</td>\n",
       "      <td>1373.805831</td>\n",
       "      <td>5224.959649</td>\n",
       "      <td>8.872270e+03</td>\n",
       "      <td>...</td>\n",
       "      <td>42.309229</td>\n",
       "      <td>25.537906</td>\n",
       "      <td>24.844514</td>\n",
       "      <td>29.981155</td>\n",
       "      <td>NaN</td>\n",
       "      <td>NaN</td>\n",
       "      <td>NaN</td>\n",
       "      <td>NaN</td>\n",
       "      <td>NaN</td>\n",
       "      <td>NaN</td>\n",
       "    </tr>\n",
       "    <tr>\n",
       "      <th>min</th>\n",
       "      <td>1.068628e+06</td>\n",
       "      <td>-2999.000000</td>\n",
       "      <td>0.000000</td>\n",
       "      <td>0.000000</td>\n",
       "      <td>0.000000e+00</td>\n",
       "      <td>0.000000e+00</td>\n",
       "      <td>0.000000e+00</td>\n",
       "      <td>0.000000</td>\n",
       "      <td>0.000000</td>\n",
       "      <td>0.000000e+00</td>\n",
       "      <td>...</td>\n",
       "      <td>0.000000</td>\n",
       "      <td>-99.000000</td>\n",
       "      <td>-99.000000</td>\n",
       "      <td>0.000000</td>\n",
       "      <td>NaN</td>\n",
       "      <td>NaN</td>\n",
       "      <td>NaN</td>\n",
       "      <td>NaN</td>\n",
       "      <td>NaN</td>\n",
       "      <td>NaN</td>\n",
       "    </tr>\n",
       "    <tr>\n",
       "      <th>25%</th>\n",
       "      <td>1.498574e+06</td>\n",
       "      <td>3.000000</td>\n",
       "      <td>4.000000</td>\n",
       "      <td>0.000000</td>\n",
       "      <td>0.000000e+00</td>\n",
       "      <td>0.000000e+00</td>\n",
       "      <td>0.000000e+00</td>\n",
       "      <td>0.000000</td>\n",
       "      <td>0.000000</td>\n",
       "      <td>0.000000e+00</td>\n",
       "      <td>...</td>\n",
       "      <td>0.000000</td>\n",
       "      <td>0.620000</td>\n",
       "      <td>0.640000</td>\n",
       "      <td>0.000000</td>\n",
       "      <td>NaN</td>\n",
       "      <td>NaN</td>\n",
       "      <td>NaN</td>\n",
       "      <td>NaN</td>\n",
       "      <td>NaN</td>\n",
       "      <td>NaN</td>\n",
       "    </tr>\n",
       "    <tr>\n",
       "      <th>50%</th>\n",
       "      <td>1.898033e+06</td>\n",
       "      <td>10.000000</td>\n",
       "      <td>8.000000</td>\n",
       "      <td>0.000000</td>\n",
       "      <td>0.000000e+00</td>\n",
       "      <td>0.000000e+00</td>\n",
       "      <td>0.000000e+00</td>\n",
       "      <td>0.000000</td>\n",
       "      <td>2.000000</td>\n",
       "      <td>4.000000e+00</td>\n",
       "      <td>...</td>\n",
       "      <td>0.000000</td>\n",
       "      <td>0.820000</td>\n",
       "      <td>0.800000</td>\n",
       "      <td>0.000000</td>\n",
       "      <td>NaN</td>\n",
       "      <td>NaN</td>\n",
       "      <td>NaN</td>\n",
       "      <td>NaN</td>\n",
       "      <td>NaN</td>\n",
       "      <td>NaN</td>\n",
       "    </tr>\n",
       "    <tr>\n",
       "      <th>75%</th>\n",
       "      <td>2.314826e+06</td>\n",
       "      <td>57.000000</td>\n",
       "      <td>8.000000</td>\n",
       "      <td>0.000000</td>\n",
       "      <td>1.200000e+01</td>\n",
       "      <td>2.500000e+01</td>\n",
       "      <td>3.600000e+01</td>\n",
       "      <td>6.000000</td>\n",
       "      <td>17.000000</td>\n",
       "      <td>3.400000e+01</td>\n",
       "      <td>...</td>\n",
       "      <td>0.000000</td>\n",
       "      <td>0.960000</td>\n",
       "      <td>0.950000</td>\n",
       "      <td>0.000000</td>\n",
       "      <td>NaN</td>\n",
       "      <td>NaN</td>\n",
       "      <td>NaN</td>\n",
       "      <td>NaN</td>\n",
       "      <td>NaN</td>\n",
       "      <td>NaN</td>\n",
       "    </tr>\n",
       "    <tr>\n",
       "      <th>max</th>\n",
       "      <td>3.284895e+06</td>\n",
       "      <td>673445.000000</td>\n",
       "      <td>52.000000</td>\n",
       "      <td>170976.000000</td>\n",
       "      <td>1.126656e+06</td>\n",
       "      <td>2.094336e+06</td>\n",
       "      <td>3.062016e+06</td>\n",
       "      <td>295197.000000</td>\n",
       "      <td>934593.000000</td>\n",
       "      <td>1.799099e+06</td>\n",
       "      <td>...</td>\n",
       "      <td>7392.000000</td>\n",
       "      <td>1.000000</td>\n",
       "      <td>1.000000</td>\n",
       "      <td>2999.000000</td>\n",
       "      <td>NaN</td>\n",
       "      <td>NaN</td>\n",
       "      <td>NaN</td>\n",
       "      <td>NaN</td>\n",
       "      <td>NaN</td>\n",
       "      <td>NaN</td>\n",
       "    </tr>\n",
       "  </tbody>\n",
       "</table>\n",
       "<p>11 rows × 23 columns</p>\n",
       "</div>"
      ],
      "text/plain": [
       "                 sku   national_inv     lead_time  in_transit_qty  \\\n",
       "count   6.158900e+04   61589.000000  58186.000000    61589.000000   \n",
       "unique           NaN            NaN           NaN             NaN   \n",
       "top              NaN            NaN           NaN             NaN   \n",
       "freq             NaN            NaN           NaN             NaN   \n",
       "mean    2.037188e+06     287.721882      7.559619       30.192843   \n",
       "std     6.564178e+05    4233.906931      6.498952      792.869253   \n",
       "min     1.068628e+06   -2999.000000      0.000000        0.000000   \n",
       "25%     1.498574e+06       3.000000      4.000000        0.000000   \n",
       "50%     1.898033e+06      10.000000      8.000000        0.000000   \n",
       "75%     2.314826e+06      57.000000      8.000000        0.000000   \n",
       "max     3.284895e+06  673445.000000     52.000000   170976.000000   \n",
       "\n",
       "        forecast_3_month  forecast_6_month  forecast_9_month  sales_1_month  \\\n",
       "count       6.158900e+04      6.158900e+04      6.158900e+04   61589.000000   \n",
       "unique               NaN               NaN               NaN            NaN   \n",
       "top                  NaN               NaN               NaN            NaN   \n",
       "freq                 NaN               NaN               NaN            NaN   \n",
       "mean        1.692728e+02      3.150413e+02      4.535760e+02      44.742957   \n",
       "std         5.286742e+03      9.774362e+03      1.420201e+04    1373.805831   \n",
       "min         0.000000e+00      0.000000e+00      0.000000e+00       0.000000   \n",
       "25%         0.000000e+00      0.000000e+00      0.000000e+00       0.000000   \n",
       "50%         0.000000e+00      0.000000e+00      0.000000e+00       0.000000   \n",
       "75%         1.200000e+01      2.500000e+01      3.600000e+01       6.000000   \n",
       "max         1.126656e+06      2.094336e+06      3.062016e+06  295197.000000   \n",
       "\n",
       "        sales_3_month  sales_6_month        ...         pieces_past_due  \\\n",
       "count    61589.000000   6.158900e+04        ...            61589.000000   \n",
       "unique            NaN            NaN        ...                     NaN   \n",
       "top               NaN            NaN        ...                     NaN   \n",
       "freq              NaN            NaN        ...                     NaN   \n",
       "mean       150.732631   2.835465e+02        ...                1.605400   \n",
       "std       5224.959649   8.872270e+03        ...               42.309229   \n",
       "min          0.000000   0.000000e+00        ...                0.000000   \n",
       "25%          0.000000   0.000000e+00        ...                0.000000   \n",
       "50%          2.000000   4.000000e+00        ...                0.000000   \n",
       "75%         17.000000   3.400000e+01        ...                0.000000   \n",
       "max     934593.000000   1.799099e+06        ...             7392.000000   \n",
       "\n",
       "        perf_6_month_avg perf_12_month_avg  local_bo_qty  deck_risk  \\\n",
       "count       61589.000000      61589.000000  61589.000000      61589   \n",
       "unique               NaN               NaN           NaN          2   \n",
       "top                  NaN               NaN           NaN         No   \n",
       "freq                 NaN               NaN           NaN      48145   \n",
       "mean           -6.264182         -5.863664      1.205361        NaN   \n",
       "std            25.537906         24.844514     29.981155        NaN   \n",
       "min           -99.000000        -99.000000      0.000000        NaN   \n",
       "25%             0.620000          0.640000      0.000000        NaN   \n",
       "50%             0.820000          0.800000      0.000000        NaN   \n",
       "75%             0.960000          0.950000      0.000000        NaN   \n",
       "max             1.000000          1.000000   2999.000000        NaN   \n",
       "\n",
       "        oe_constraint  ppap_risk stop_auto_buy rev_stop went_on_backorder  \n",
       "count           61589      61589         61589    61589             61589  \n",
       "unique              2          2             2        2                 2  \n",
       "top                No         No           Yes       No                No  \n",
       "freq            61577      53792         59303    61569             50296  \n",
       "mean              NaN        NaN           NaN      NaN               NaN  \n",
       "std               NaN        NaN           NaN      NaN               NaN  \n",
       "min               NaN        NaN           NaN      NaN               NaN  \n",
       "25%               NaN        NaN           NaN      NaN               NaN  \n",
       "50%               NaN        NaN           NaN      NaN               NaN  \n",
       "75%               NaN        NaN           NaN      NaN               NaN  \n",
       "max               NaN        NaN           NaN      NaN               NaN  \n",
       "\n",
       "[11 rows x 23 columns]"
      ]
     },
     "execution_count": 30,
     "metadata": {},
     "output_type": "execute_result"
    }
   ],
   "source": [
    "data.describe(include='all')"
   ]
  },
  {
   "cell_type": "markdown",
   "metadata": {},
   "source": [
    "Display data type of each variable"
   ]
  },
  {
   "cell_type": "code",
   "execution_count": 31,
   "metadata": {},
   "outputs": [
    {
     "data": {
      "text/plain": [
       "sku                    int64\n",
       "national_inv           int64\n",
       "lead_time            float64\n",
       "in_transit_qty         int64\n",
       "forecast_3_month       int64\n",
       "forecast_6_month       int64\n",
       "forecast_9_month       int64\n",
       "sales_1_month          int64\n",
       "sales_3_month          int64\n",
       "sales_6_month          int64\n",
       "sales_9_month          int64\n",
       "min_bank               int64\n",
       "potential_issue       object\n",
       "pieces_past_due        int64\n",
       "perf_6_month_avg     float64\n",
       "perf_12_month_avg    float64\n",
       "local_bo_qty           int64\n",
       "deck_risk             object\n",
       "oe_constraint         object\n",
       "ppap_risk             object\n",
       "stop_auto_buy         object\n",
       "rev_stop              object\n",
       "went_on_backorder     object\n",
       "dtype: object"
      ]
     },
     "execution_count": 31,
     "metadata": {},
     "output_type": "execute_result"
    }
   ],
   "source": [
    "data.dtypes"
   ]
  },
  {
   "cell_type": "markdown",
   "metadata": {},
   "source": [
    "#### Observations\n",
    "\n",
    "    sku is Categorical but is interpreted as int64 \n",
    "\n",
    "    potential_issue, deck_risk, oe_constraint, ppap_risk, stop_auto_buy, rev_stop, and went_on_backorder are categorical but are interpreted as object. "
   ]
  },
  {
   "cell_type": "markdown",
   "metadata": {},
   "source": [
    "#### Convert all the attributes to appropriate type"
   ]
  },
  {
   "cell_type": "markdown",
   "metadata": {},
   "source": [
    "Data type conversion\n",
    "\n",
    "    Using astype('category') to convert potential_issue, deck_risk, oe_constraint, ppap_risk, stop_auto_buy, rev_stop, and went_on_backorder attributes to categorical attributes.\n"
   ]
  },
  {
   "cell_type": "code",
   "execution_count": 32,
   "metadata": {
    "collapsed": true
   },
   "outputs": [],
   "source": [
    "for col in ['sku', 'potential_issue', 'deck_risk', 'oe_constraint', 'ppap_risk', 'stop_auto_buy', 'rev_stop', 'went_on_backorder']:\n",
    "    data[col] = data[col].astype('category')"
   ]
  },
  {
   "cell_type": "markdown",
   "metadata": {},
   "source": [
    "Display data type of each variable"
   ]
  },
  {
   "cell_type": "code",
   "execution_count": 33,
   "metadata": {},
   "outputs": [
    {
     "data": {
      "text/plain": [
       "sku                  category\n",
       "national_inv            int64\n",
       "lead_time             float64\n",
       "in_transit_qty          int64\n",
       "forecast_3_month        int64\n",
       "forecast_6_month        int64\n",
       "forecast_9_month        int64\n",
       "sales_1_month           int64\n",
       "sales_3_month           int64\n",
       "sales_6_month           int64\n",
       "sales_9_month           int64\n",
       "min_bank                int64\n",
       "potential_issue      category\n",
       "pieces_past_due         int64\n",
       "perf_6_month_avg      float64\n",
       "perf_12_month_avg     float64\n",
       "local_bo_qty            int64\n",
       "deck_risk            category\n",
       "oe_constraint        category\n",
       "ppap_risk            category\n",
       "stop_auto_buy        category\n",
       "rev_stop             category\n",
       "went_on_backorder    category\n",
       "dtype: object"
      ]
     },
     "execution_count": 33,
     "metadata": {},
     "output_type": "execute_result"
    }
   ],
   "source": [
    "data.dtypes"
   ]
  },
  {
   "cell_type": "markdown",
   "metadata": {},
   "source": [
    "##### Delete sku attribute"
   ]
  },
  {
   "cell_type": "code",
   "execution_count": 34,
   "metadata": {},
   "outputs": [
    {
     "data": {
      "text/plain": [
       "61589"
      ]
     },
     "execution_count": 34,
     "metadata": {},
     "output_type": "execute_result"
    }
   ],
   "source": [
    "np.size(np.unique(data.sku))"
   ]
  },
  {
   "cell_type": "code",
   "execution_count": 35,
   "metadata": {
    "collapsed": true
   },
   "outputs": [],
   "source": [
    "data.drop('sku', axis=1, inplace=True)"
   ]
  },
  {
   "cell_type": "markdown",
   "metadata": {},
   "source": [
    "#### Missing Data\n",
    "\n",
    "    Missing value analysis and dropping the records with missing values"
   ]
  },
  {
   "cell_type": "code",
   "execution_count": 36,
   "metadata": {},
   "outputs": [
    {
     "data": {
      "text/plain": [
       "national_inv            0\n",
       "lead_time            3403\n",
       "in_transit_qty          0\n",
       "forecast_3_month        0\n",
       "forecast_6_month        0\n",
       "forecast_9_month        0\n",
       "sales_1_month           0\n",
       "sales_3_month           0\n",
       "sales_6_month           0\n",
       "sales_9_month           0\n",
       "min_bank                0\n",
       "potential_issue         0\n",
       "pieces_past_due         0\n",
       "perf_6_month_avg        0\n",
       "perf_12_month_avg       0\n",
       "local_bo_qty            0\n",
       "deck_risk               0\n",
       "oe_constraint           0\n",
       "ppap_risk               0\n",
       "stop_auto_buy           0\n",
       "rev_stop                0\n",
       "went_on_backorder       0\n",
       "dtype: int64"
      ]
     },
     "execution_count": 36,
     "metadata": {},
     "output_type": "execute_result"
    }
   ],
   "source": [
    "data.isnull().sum()"
   ]
  },
  {
   "cell_type": "markdown",
   "metadata": {},
   "source": [
    "Observing the number of records before and after missing value records removal"
   ]
  },
  {
   "cell_type": "code",
   "execution_count": 37,
   "metadata": {},
   "outputs": [
    {
     "name": "stdout",
     "output_type": "stream",
     "text": [
      "(61589, 22)\n"
     ]
    }
   ],
   "source": [
    "print (data.shape)"
   ]
  },
  {
   "cell_type": "markdown",
   "metadata": {},
   "source": [
    "Since the number of missing values is about 5%. For initial analysis we ignore all these records"
   ]
  },
  {
   "cell_type": "code",
   "execution_count": 38,
   "metadata": {
    "collapsed": true
   },
   "outputs": [],
   "source": [
    "data = data.dropna(axis=0)"
   ]
  },
  {
   "cell_type": "code",
   "execution_count": 39,
   "metadata": {},
   "outputs": [
    {
     "name": "stdout",
     "output_type": "stream",
     "text": [
      "national_inv         0\n",
      "lead_time            0\n",
      "in_transit_qty       0\n",
      "forecast_3_month     0\n",
      "forecast_6_month     0\n",
      "forecast_9_month     0\n",
      "sales_1_month        0\n",
      "sales_3_month        0\n",
      "sales_6_month        0\n",
      "sales_9_month        0\n",
      "min_bank             0\n",
      "potential_issue      0\n",
      "pieces_past_due      0\n",
      "perf_6_month_avg     0\n",
      "perf_12_month_avg    0\n",
      "local_bo_qty         0\n",
      "deck_risk            0\n",
      "oe_constraint        0\n",
      "ppap_risk            0\n",
      "stop_auto_buy        0\n",
      "rev_stop             0\n",
      "went_on_backorder    0\n",
      "dtype: int64\n",
      "----------------------------------\n",
      "(58186, 22)\n"
     ]
    }
   ],
   "source": [
    "print(data.isnull().sum())\n",
    "print(\"----------------------------------\")\n",
    "print(data.shape)"
   ]
  },
  {
   "cell_type": "markdown",
   "metadata": {},
   "source": [
    "#### Converting Categorical to Numeric\n",
    "\n",
    "For some of the models all the independent attribute should be of type numeric and ANN model is one among them.\n",
    "But this data set has some categorial attributes.\n",
    "\n",
    "'pandas.get_dummies' To convert convert categorical variable into dummy/indicator variables\n"
   ]
  },
  {
   "cell_type": "code",
   "execution_count": 40,
   "metadata": {},
   "outputs": [
    {
     "name": "stdout",
     "output_type": "stream",
     "text": [
      "Index(['national_inv', 'lead_time', 'in_transit_qty', 'forecast_3_month',\n",
      "       'forecast_6_month', 'forecast_9_month', 'sales_1_month',\n",
      "       'sales_3_month', 'sales_6_month', 'sales_9_month', 'min_bank',\n",
      "       'potential_issue', 'pieces_past_due', 'perf_6_month_avg',\n",
      "       'perf_12_month_avg', 'local_bo_qty', 'deck_risk', 'oe_constraint',\n",
      "       'ppap_risk', 'stop_auto_buy', 'rev_stop', 'went_on_backorder'],\n",
      "      dtype='object')\n"
     ]
    }
   ],
   "source": [
    "print (data.columns)"
   ]
  },
  {
   "cell_type": "markdown",
   "metadata": {},
   "source": [
    "##### Creating dummy variables.\n",
    "\n",
    "If we have k levels in a category, then we create k-1 dummy variables as the last one would be redundant. So we use the parameter drop_first in pd.get_dummies function that drops the first level in each of the category\n"
   ]
  },
  {
   "cell_type": "code",
   "execution_count": 41,
   "metadata": {},
   "outputs": [
    {
     "data": {
      "text/html": [
       "<div>\n",
       "<style>\n",
       "    .dataframe thead tr:only-child th {\n",
       "        text-align: right;\n",
       "    }\n",
       "\n",
       "    .dataframe thead th {\n",
       "        text-align: left;\n",
       "    }\n",
       "\n",
       "    .dataframe tbody tr th {\n",
       "        vertical-align: top;\n",
       "    }\n",
       "</style>\n",
       "<table border=\"1\" class=\"dataframe\">\n",
       "  <thead>\n",
       "    <tr style=\"text-align: right;\">\n",
       "      <th></th>\n",
       "      <th>national_inv</th>\n",
       "      <th>lead_time</th>\n",
       "      <th>in_transit_qty</th>\n",
       "      <th>forecast_3_month</th>\n",
       "      <th>forecast_6_month</th>\n",
       "      <th>forecast_9_month</th>\n",
       "      <th>sales_1_month</th>\n",
       "      <th>sales_3_month</th>\n",
       "      <th>sales_6_month</th>\n",
       "      <th>sales_9_month</th>\n",
       "      <th>...</th>\n",
       "      <th>pieces_past_due</th>\n",
       "      <th>perf_6_month_avg</th>\n",
       "      <th>perf_12_month_avg</th>\n",
       "      <th>local_bo_qty</th>\n",
       "      <th>deck_risk</th>\n",
       "      <th>oe_constraint</th>\n",
       "      <th>ppap_risk</th>\n",
       "      <th>stop_auto_buy</th>\n",
       "      <th>rev_stop</th>\n",
       "      <th>went_on_backorder</th>\n",
       "    </tr>\n",
       "  </thead>\n",
       "  <tbody>\n",
       "    <tr>\n",
       "      <th>1</th>\n",
       "      <td>-0.063464</td>\n",
       "      <td>-0.855471</td>\n",
       "      <td>-0.038468</td>\n",
       "      <td>-0.032747</td>\n",
       "      <td>-0.032951</td>\n",
       "      <td>-0.032658</td>\n",
       "      <td>-0.032206</td>\n",
       "      <td>-0.028578</td>\n",
       "      <td>-0.031734</td>\n",
       "      <td>-0.032887</td>\n",
       "      <td>...</td>\n",
       "      <td>-0.038984</td>\n",
       "      <td>0.106670</td>\n",
       "      <td>0.064581</td>\n",
       "      <td>-0.040883</td>\n",
       "      <td>Yes</td>\n",
       "      <td>No</td>\n",
       "      <td>No</td>\n",
       "      <td>Yes</td>\n",
       "      <td>No</td>\n",
       "      <td>No</td>\n",
       "    </tr>\n",
       "    <tr>\n",
       "      <th>2</th>\n",
       "      <td>-0.005379</td>\n",
       "      <td>1.144868</td>\n",
       "      <td>-0.026193</td>\n",
       "      <td>-0.030908</td>\n",
       "      <td>-0.025292</td>\n",
       "      <td>-0.020063</td>\n",
       "      <td>0.000463</td>\n",
       "      <td>-0.003952</td>\n",
       "      <td>-0.003607</td>\n",
       "      <td>-0.004900</td>\n",
       "      <td>...</td>\n",
       "      <td>-0.038984</td>\n",
       "      <td>0.109853</td>\n",
       "      <td>0.103518</td>\n",
       "      <td>-0.040883</td>\n",
       "      <td>No</td>\n",
       "      <td>No</td>\n",
       "      <td>No</td>\n",
       "      <td>Yes</td>\n",
       "      <td>No</td>\n",
       "      <td>No</td>\n",
       "    </tr>\n",
       "    <tr>\n",
       "      <th>3</th>\n",
       "      <td>-0.054439</td>\n",
       "      <td>-0.855471</td>\n",
       "      <td>-0.038468</td>\n",
       "      <td>-0.032747</td>\n",
       "      <td>-0.032951</td>\n",
       "      <td>-0.032658</td>\n",
       "      <td>-0.031495</td>\n",
       "      <td>-0.028205</td>\n",
       "      <td>-0.031075</td>\n",
       "      <td>-0.032197</td>\n",
       "      <td>...</td>\n",
       "      <td>-0.038984</td>\n",
       "      <td>0.126563</td>\n",
       "      <td>0.122060</td>\n",
       "      <td>-0.040883</td>\n",
       "      <td>Yes</td>\n",
       "      <td>No</td>\n",
       "      <td>No</td>\n",
       "      <td>Yes</td>\n",
       "      <td>No</td>\n",
       "      <td>No</td>\n",
       "    </tr>\n",
       "    <tr>\n",
       "      <th>4</th>\n",
       "      <td>-0.064621</td>\n",
       "      <td>-0.855471</td>\n",
       "      <td>-0.038468</td>\n",
       "      <td>-0.032012</td>\n",
       "      <td>-0.032354</td>\n",
       "      <td>-0.031974</td>\n",
       "      <td>-0.030785</td>\n",
       "      <td>-0.028205</td>\n",
       "      <td>-0.031185</td>\n",
       "      <td>-0.032427</td>\n",
       "      <td>...</td>\n",
       "      <td>-0.038984</td>\n",
       "      <td>0.144069</td>\n",
       "      <td>0.123914</td>\n",
       "      <td>-0.040883</td>\n",
       "      <td>No</td>\n",
       "      <td>No</td>\n",
       "      <td>No</td>\n",
       "      <td>Yes</td>\n",
       "      <td>No</td>\n",
       "      <td>No</td>\n",
       "    </tr>\n",
       "    <tr>\n",
       "      <th>5</th>\n",
       "      <td>0.003646</td>\n",
       "      <td>0.683252</td>\n",
       "      <td>-0.038468</td>\n",
       "      <td>-0.032747</td>\n",
       "      <td>-0.032951</td>\n",
       "      <td>-0.032658</td>\n",
       "      <td>-0.028655</td>\n",
       "      <td>-0.027458</td>\n",
       "      <td>-0.026900</td>\n",
       "      <td>-0.028517</td>\n",
       "      <td>...</td>\n",
       "      <td>-0.038984</td>\n",
       "      <td>0.113036</td>\n",
       "      <td>0.108153</td>\n",
       "      <td>-0.040883</td>\n",
       "      <td>Yes</td>\n",
       "      <td>No</td>\n",
       "      <td>No</td>\n",
       "      <td>Yes</td>\n",
       "      <td>No</td>\n",
       "      <td>No</td>\n",
       "    </tr>\n",
       "  </tbody>\n",
       "</table>\n",
       "<p>5 rows × 22 columns</p>\n",
       "</div>"
      ],
      "text/plain": [
       "   national_inv  lead_time  in_transit_qty  forecast_3_month  \\\n",
       "1     -0.063464  -0.855471       -0.038468         -0.032747   \n",
       "2     -0.005379   1.144868       -0.026193         -0.030908   \n",
       "3     -0.054439  -0.855471       -0.038468         -0.032747   \n",
       "4     -0.064621  -0.855471       -0.038468         -0.032012   \n",
       "5      0.003646   0.683252       -0.038468         -0.032747   \n",
       "\n",
       "   forecast_6_month  forecast_9_month  sales_1_month  sales_3_month  \\\n",
       "1         -0.032951         -0.032658      -0.032206      -0.028578   \n",
       "2         -0.025292         -0.020063       0.000463      -0.003952   \n",
       "3         -0.032951         -0.032658      -0.031495      -0.028205   \n",
       "4         -0.032354         -0.031974      -0.030785      -0.028205   \n",
       "5         -0.032951         -0.032658      -0.028655      -0.027458   \n",
       "\n",
       "   sales_6_month  sales_9_month        ...         pieces_past_due  \\\n",
       "1      -0.031734      -0.032887        ...               -0.038984   \n",
       "2      -0.003607      -0.004900        ...               -0.038984   \n",
       "3      -0.031075      -0.032197        ...               -0.038984   \n",
       "4      -0.031185      -0.032427        ...               -0.038984   \n",
       "5      -0.026900      -0.028517        ...               -0.038984   \n",
       "\n",
       "  perf_6_month_avg  perf_12_month_avg  local_bo_qty  deck_risk  oe_constraint  \\\n",
       "1         0.106670           0.064581     -0.040883        Yes             No   \n",
       "2         0.109853           0.103518     -0.040883         No             No   \n",
       "3         0.126563           0.122060     -0.040883        Yes             No   \n",
       "4         0.144069           0.123914     -0.040883         No             No   \n",
       "5         0.113036           0.108153     -0.040883        Yes             No   \n",
       "\n",
       "  ppap_risk stop_auto_buy rev_stop went_on_backorder  \n",
       "1        No           Yes       No                No  \n",
       "2        No           Yes       No                No  \n",
       "3        No           Yes       No                No  \n",
       "4        No           Yes       No                No  \n",
       "5        No           Yes       No                No  \n",
       "\n",
       "[5 rows x 22 columns]"
      ]
     },
     "execution_count": 41,
     "metadata": {},
     "output_type": "execute_result"
    }
   ],
   "source": [
    "numerical_attributes = data.select_dtypes(include=['int64', 'float64']).columns\n",
    "\n",
    "# df[[c for c in df.columns if c in lst]]\n",
    "\n",
    "data[numerical_attributes] = StandardScaler().fit_transform(data[numerical_attributes])\n",
    "\n",
    "data.head()"
   ]
  },
  {
   "cell_type": "code",
   "execution_count": 42,
   "metadata": {
    "collapsed": true
   },
   "outputs": [],
   "source": [
    "categorical_Attributes = data.select_dtypes(include=['category']).columns"
   ]
  },
  {
   "cell_type": "code",
   "execution_count": 43,
   "metadata": {
    "collapsed": true
   },
   "outputs": [],
   "source": [
    "data = pd.get_dummies(columns=categorical_Attributes, data=data, prefix=categorical_Attributes, prefix_sep=\"_\",drop_first=True)"
   ]
  },
  {
   "cell_type": "code",
   "execution_count": 44,
   "metadata": {},
   "outputs": [
    {
     "name": "stdout",
     "output_type": "stream",
     "text": [
      "Index(['national_inv', 'lead_time', 'in_transit_qty', 'forecast_3_month',\n",
      "       'forecast_6_month', 'forecast_9_month', 'sales_1_month',\n",
      "       'sales_3_month', 'sales_6_month', 'sales_9_month', 'min_bank',\n",
      "       'pieces_past_due', 'perf_6_month_avg', 'perf_12_month_avg',\n",
      "       'local_bo_qty', 'potential_issue_Yes', 'deck_risk_Yes',\n",
      "       'oe_constraint_Yes', 'ppap_risk_Yes', 'stop_auto_buy_Yes',\n",
      "       'rev_stop_Yes', 'went_on_backorder_Yes'],\n",
      "      dtype='object') (58186, 22)\n"
     ]
    }
   ],
   "source": [
    "print (data.columns, data.shape)"
   ]
  },
  {
   "cell_type": "markdown",
   "metadata": {},
   "source": [
    "#### Target attribute distribution"
   ]
  },
  {
   "cell_type": "code",
   "execution_count": 45,
   "metadata": {},
   "outputs": [
    {
     "data": {
      "text/plain": [
       "0    47217\n",
       "1    10969\n",
       "Name: went_on_backorder_Yes, dtype: int64"
      ]
     },
     "execution_count": 45,
     "metadata": {},
     "output_type": "execute_result"
    }
   ],
   "source": [
    "pd.value_counts(data['went_on_backorder_Yes'])"
   ]
  },
  {
   "cell_type": "code",
   "execution_count": 46,
   "metadata": {},
   "outputs": [
    {
     "data": {
      "text/plain": [
       "0    81.148386\n",
       "1    18.851614\n",
       "Name: went_on_backorder_Yes, dtype: float64"
      ]
     },
     "execution_count": 46,
     "metadata": {},
     "output_type": "execute_result"
    }
   ],
   "source": [
    "pd.value_counts(data['went_on_backorder_Yes'])/data['went_on_backorder_Yes'].count() * 100"
   ]
  },
  {
   "cell_type": "markdown",
   "metadata": {},
   "source": [
    "#### Train-Test Split\n",
    "\n",
    "Using sklearn.model_selection.train_test_split\n",
    "\n",
    "    Split arrays or matrices into train and test subsets"
   ]
  },
  {
   "cell_type": "code",
   "execution_count": 47,
   "metadata": {
    "collapsed": true
   },
   "outputs": [],
   "source": [
    "X, y = data.loc[:,data.columns!='went_on_backorder_Yes'].values, data.loc[:,'went_on_backorder_Yes'].values\n",
    "\n",
    "X_train, X_test, y_train, y_test = train_test_split(X, y, test_size=0.3, random_state=123, stratify = data['went_on_backorder_Yes'])"
   ]
  },
  {
   "cell_type": "code",
   "execution_count": 48,
   "metadata": {},
   "outputs": [
    {
     "name": "stdout",
     "output_type": "stream",
     "text": [
      "(40730, 21)\n",
      "(17456, 21)\n"
     ]
    }
   ],
   "source": [
    "print(X_train.shape)\n",
    "print(X_test.shape)"
   ]
  },
  {
   "cell_type": "code",
   "execution_count": 49,
   "metadata": {},
   "outputs": [
    {
     "name": "stdout",
     "output_type": "stream",
     "text": [
      "0    33052\n",
      "1     7678\n",
      "dtype: int64\n",
      "0    14165\n",
      "1     3291\n",
      "dtype: int64\n"
     ]
    }
   ],
   "source": [
    "print(pd.value_counts(y_train))\n",
    "print(pd.value_counts(y_test))"
   ]
  },
  {
   "cell_type": "code",
   "execution_count": 50,
   "metadata": {},
   "outputs": [
    {
     "name": "stdout",
     "output_type": "stream",
     "text": [
      "0    81.14903\n",
      "1    18.85097\n",
      "dtype: float64\n",
      "0    81.146884\n",
      "1    18.853116\n",
      "dtype: float64\n"
     ]
    }
   ],
   "source": [
    "print(pd.value_counts(y_train)/y_train.size * 100)\n",
    "print(pd.value_counts(y_test)/y_test.size * 100)"
   ]
  },
  {
   "cell_type": "markdown",
   "metadata": {},
   "source": [
    "### Perceptron Model"
   ]
  },
  {
   "cell_type": "code",
   "execution_count": 83,
   "metadata": {
    "collapsed": true
   },
   "outputs": [],
   "source": [
    "perceptron_model = Sequential()\n",
    "\n",
    "perceptron_model.add(Dense(1,input_dim=21,activation='sigmoid',kernel_initializer=\"normal\"))"
   ]
  },
  {
   "cell_type": "code",
   "execution_count": 84,
   "metadata": {
    "collapsed": true
   },
   "outputs": [],
   "source": [
    "perceptron_model.compile(loss=\"binary_crossentropy\",optimizer='sgd',metrics=['accuracy'])"
   ]
  },
  {
   "cell_type": "code",
   "execution_count": 85,
   "metadata": {},
   "outputs": [
    {
     "name": "stdout",
     "output_type": "stream",
     "text": [
      "Train on 32584 samples, validate on 8146 samples\n",
      "Epoch 1/100\n",
      "32584/32584 [==============================] - 2s 50us/step - loss: 0.5303 - acc: 0.8001 - val_loss: 0.4920 - val_acc: 0.8046\n",
      "Epoch 2/100\n",
      "32584/32584 [==============================] - 1s 27us/step - loss: 0.4748 - acc: 0.8133 - val_loss: 0.4874 - val_acc: 0.8044\n",
      "Epoch 3/100\n",
      "32584/32584 [==============================] - 1s 27us/step - loss: 0.4714 - acc: 0.8133 - val_loss: 0.4867 - val_acc: 0.8044\n",
      "Epoch 4/100\n",
      "32584/32584 [==============================] - 1s 27us/step - loss: 0.4702 - acc: 0.8134 - val_loss: 0.4864 - val_acc: 0.8044\n",
      "Epoch 5/100\n",
      "32584/32584 [==============================] - 1s 27us/step - loss: 0.4694 - acc: 0.8135 - val_loss: 0.4861 - val_acc: 0.8044\n",
      "Epoch 6/100\n",
      "32584/32584 [==============================] - 1s 26us/step - loss: 0.4688 - acc: 0.8134 - val_loss: 0.4859 - val_acc: 0.8044\n",
      "Epoch 7/100\n",
      "32584/32584 [==============================] - 1s 26us/step - loss: 0.4683 - acc: 0.8134 - val_loss: 0.4857 - val_acc: 0.8044\n",
      "Epoch 8/100\n",
      "32584/32584 [==============================] - 1s 26us/step - loss: 0.4680 - acc: 0.8134 - val_loss: 0.4855 - val_acc: 0.8046\n",
      "Epoch 9/100\n",
      "32584/32584 [==============================] - 1s 25us/step - loss: 0.4676 - acc: 0.8133 - val_loss: 0.4854 - val_acc: 0.8046\n",
      "Epoch 10/100\n",
      "32584/32584 [==============================] - 1s 26us/step - loss: 0.4674 - acc: 0.8135 - val_loss: 0.4852 - val_acc: 0.8047\n",
      "Epoch 11/100\n",
      "32584/32584 [==============================] - 1s 24us/step - loss: 0.4671 - acc: 0.8135 - val_loss: 0.4850 - val_acc: 0.8048\n",
      "Epoch 12/100\n",
      "32584/32584 [==============================] - 1s 24us/step - loss: 0.4669 - acc: 0.8134 - val_loss: 0.4849 - val_acc: 0.8048\n",
      "Epoch 13/100\n",
      "32584/32584 [==============================] - 1s 26us/step - loss: 0.4667 - acc: 0.8134 - val_loss: 0.4847 - val_acc: 0.8048\n",
      "Epoch 14/100\n",
      "32584/32584 [==============================] - 1s 26us/step - loss: 0.4665 - acc: 0.8134 - val_loss: 0.4845 - val_acc: 0.8048\n",
      "Epoch 15/100\n",
      "32584/32584 [==============================] - 1s 25us/step - loss: 0.4663 - acc: 0.8136 - val_loss: 0.4844 - val_acc: 0.8049\n",
      "Epoch 16/100\n",
      "32584/32584 [==============================] - 1s 26us/step - loss: 0.4661 - acc: 0.8136 - val_loss: 0.4842 - val_acc: 0.8049\n",
      "Epoch 17/100\n",
      "32584/32584 [==============================] - 1s 26us/step - loss: 0.4660 - acc: 0.8137 - val_loss: 0.4842 - val_acc: 0.8049\n",
      "Epoch 18/100\n",
      "32584/32584 [==============================] - 1s 26us/step - loss: 0.4658 - acc: 0.8137 - val_loss: 0.4839 - val_acc: 0.8051\n",
      "Epoch 19/100\n",
      "32584/32584 [==============================] - 1s 26us/step - loss: 0.4657 - acc: 0.8137 - val_loss: 0.4837 - val_acc: 0.8051\n",
      "Epoch 20/100\n",
      "32584/32584 [==============================] - 1s 26us/step - loss: 0.4655 - acc: 0.8137 - val_loss: 0.4836 - val_acc: 0.8051\n",
      "Epoch 21/100\n",
      "32584/32584 [==============================] - 1s 26us/step - loss: 0.4654 - acc: 0.8137 - val_loss: 0.4834 - val_acc: 0.8051\n",
      "Epoch 22/100\n",
      "32584/32584 [==============================] - 1s 26us/step - loss: 0.4652 - acc: 0.8137 - val_loss: 0.4832 - val_acc: 0.8049\n",
      "Epoch 23/100\n",
      "32584/32584 [==============================] - 1s 26us/step - loss: 0.4651 - acc: 0.8138 - val_loss: 0.4830 - val_acc: 0.8048\n",
      "Epoch 24/100\n",
      "32584/32584 [==============================] - 1s 26us/step - loss: 0.4650 - acc: 0.8139 - val_loss: 0.4828 - val_acc: 0.8052\n",
      "Epoch 25/100\n",
      "32584/32584 [==============================] - 1s 26us/step - loss: 0.4648 - acc: 0.8139 - val_loss: 0.4826 - val_acc: 0.8052\n",
      "Epoch 26/100\n",
      "32584/32584 [==============================] - 1s 26us/step - loss: 0.4647 - acc: 0.8140 - val_loss: 0.4824 - val_acc: 0.8052\n",
      "Epoch 27/100\n",
      "32584/32584 [==============================] - 1s 27us/step - loss: 0.4646 - acc: 0.8140 - val_loss: 0.4823 - val_acc: 0.8051\n",
      "Epoch 28/100\n",
      "32584/32584 [==============================] - 1s 25us/step - loss: 0.4645 - acc: 0.8140 - val_loss: 0.4822 - val_acc: 0.8052\n",
      "Epoch 29/100\n",
      "32584/32584 [==============================] - 1s 25us/step - loss: 0.4644 - acc: 0.8140 - val_loss: 0.4821 - val_acc: 0.8052\n",
      "Epoch 30/100\n",
      "32584/32584 [==============================] - 1s 24us/step - loss: 0.4643 - acc: 0.8140 - val_loss: 0.4819 - val_acc: 0.8052\n",
      "Epoch 31/100\n",
      "32584/32584 [==============================] - 1s 25us/step - loss: 0.4642 - acc: 0.8140 - val_loss: 0.4818 - val_acc: 0.8052\n",
      "Epoch 32/100\n",
      "32584/32584 [==============================] - 1s 24us/step - loss: 0.4641 - acc: 0.8141 - val_loss: 0.4816 - val_acc: 0.8052\n",
      "Epoch 33/100\n",
      "32584/32584 [==============================] - 1s 25us/step - loss: 0.4640 - acc: 0.8140 - val_loss: 0.4815 - val_acc: 0.8052\n",
      "Epoch 34/100\n",
      "32584/32584 [==============================] - 1s 26us/step - loss: 0.4639 - acc: 0.8140 - val_loss: 0.4814 - val_acc: 0.8052\n",
      "Epoch 35/100\n",
      "32584/32584 [==============================] - 1s 25us/step - loss: 0.4638 - acc: 0.8140 - val_loss: 0.4814 - val_acc: 0.8053\n",
      "Epoch 36/100\n",
      "32584/32584 [==============================] - 1s 25us/step - loss: 0.4637 - acc: 0.8140 - val_loss: 0.4812 - val_acc: 0.8054\n",
      "Epoch 37/100\n",
      "32584/32584 [==============================] - 1s 25us/step - loss: 0.4636 - acc: 0.8142 - val_loss: 0.4810 - val_acc: 0.8054\n",
      "Epoch 38/100\n",
      "32584/32584 [==============================] - 1s 25us/step - loss: 0.4635 - acc: 0.8141 - val_loss: 0.4810 - val_acc: 0.8055\n",
      "Epoch 39/100\n",
      "32584/32584 [==============================] - 1s 25us/step - loss: 0.4634 - acc: 0.8142 - val_loss: 0.4809 - val_acc: 0.8058\n",
      "Epoch 40/100\n",
      "32584/32584 [==============================] - 1s 25us/step - loss: 0.4634 - acc: 0.8141 - val_loss: 0.4808 - val_acc: 0.8058\n",
      "Epoch 41/100\n",
      "32584/32584 [==============================] - 1s 25us/step - loss: 0.4633 - acc: 0.8142 - val_loss: 0.4807 - val_acc: 0.8057\n",
      "Epoch 42/100\n",
      "32584/32584 [==============================] - 1s 25us/step - loss: 0.4632 - acc: 0.8143 - val_loss: 0.4806 - val_acc: 0.8055\n",
      "Epoch 43/100\n",
      "32584/32584 [==============================] - 1s 24us/step - loss: 0.4631 - acc: 0.8142 - val_loss: 0.4805 - val_acc: 0.8057\n",
      "Epoch 44/100\n",
      "32584/32584 [==============================] - 1s 25us/step - loss: 0.4631 - acc: 0.8143 - val_loss: 0.4804 - val_acc: 0.8057\n",
      "Epoch 45/100\n",
      "32584/32584 [==============================] - 1s 25us/step - loss: 0.4630 - acc: 0.8142 - val_loss: 0.4803 - val_acc: 0.8057\n",
      "Epoch 46/100\n",
      "32584/32584 [==============================] - 1s 25us/step - loss: 0.4629 - acc: 0.8143 - val_loss: 0.4803 - val_acc: 0.8058\n",
      "Epoch 47/100\n",
      "32584/32584 [==============================] - 1s 25us/step - loss: 0.4629 - acc: 0.8142 - val_loss: 0.4802 - val_acc: 0.8060\n",
      "Epoch 48/100\n",
      "32584/32584 [==============================] - 1s 25us/step - loss: 0.4628 - acc: 0.8143 - val_loss: 0.4801 - val_acc: 0.8060\n",
      "Epoch 49/100\n",
      "32584/32584 [==============================] - 1s 25us/step - loss: 0.4627 - acc: 0.8143 - val_loss: 0.4800 - val_acc: 0.8062\n",
      "Epoch 50/100\n",
      "32584/32584 [==============================] - 1s 25us/step - loss: 0.4627 - acc: 0.8143 - val_loss: 0.4800 - val_acc: 0.8062\n",
      "Epoch 51/100\n",
      "32584/32584 [==============================] - 1s 24us/step - loss: 0.4626 - acc: 0.8144 - val_loss: 0.4799 - val_acc: 0.8060\n",
      "Epoch 52/100\n",
      "32584/32584 [==============================] - 1s 24us/step - loss: 0.4625 - acc: 0.8143 - val_loss: 0.4799 - val_acc: 0.8058\n",
      "Epoch 53/100\n",
      "32584/32584 [==============================] - 1s 25us/step - loss: 0.4625 - acc: 0.8143 - val_loss: 0.4798 - val_acc: 0.8058\n",
      "Epoch 54/100\n",
      "32584/32584 [==============================] - 1s 25us/step - loss: 0.4624 - acc: 0.8143 - val_loss: 0.4797 - val_acc: 0.8059\n",
      "Epoch 55/100\n",
      "32584/32584 [==============================] - 1s 25us/step - loss: 0.4623 - acc: 0.8143 - val_loss: 0.4796 - val_acc: 0.8059\n",
      "Epoch 56/100\n",
      "32584/32584 [==============================] - 1s 26us/step - loss: 0.4623 - acc: 0.8143 - val_loss: 0.4796 - val_acc: 0.8058\n",
      "Epoch 57/100\n",
      "32584/32584 [==============================] - 1s 26us/step - loss: 0.4622 - acc: 0.8143 - val_loss: 0.4795 - val_acc: 0.8059\n",
      "Epoch 58/100\n",
      "32584/32584 [==============================] - 1s 27us/step - loss: 0.4622 - acc: 0.8143 - val_loss: 0.4794 - val_acc: 0.8060\n",
      "Epoch 59/100\n",
      "32584/32584 [==============================] - 1s 27us/step - loss: 0.4621 - acc: 0.8144 - val_loss: 0.4794 - val_acc: 0.8060\n",
      "Epoch 60/100\n",
      "32584/32584 [==============================] - 1s 27us/step - loss: 0.4621 - acc: 0.8144 - val_loss: 0.4793 - val_acc: 0.8062\n",
      "Epoch 61/100\n",
      "32584/32584 [==============================] - 1s 29us/step - loss: 0.4620 - acc: 0.8143 - val_loss: 0.4793 - val_acc: 0.8062\n",
      "Epoch 62/100\n",
      "32584/32584 [==============================] - 1s 28us/step - loss: 0.4619 - acc: 0.8144 - val_loss: 0.4793 - val_acc: 0.8062\n",
      "Epoch 63/100\n",
      "32584/32584 [==============================] - 1s 28us/step - loss: 0.4619 - acc: 0.8144 - val_loss: 0.4792 - val_acc: 0.8062\n",
      "Epoch 64/100\n",
      "32584/32584 [==============================] - 1s 27us/step - loss: 0.4618 - acc: 0.8144 - val_loss: 0.4791 - val_acc: 0.8060\n",
      "Epoch 65/100\n",
      "32584/32584 [==============================] - 1s 27us/step - loss: 0.4618 - acc: 0.8144 - val_loss: 0.4791 - val_acc: 0.8062\n",
      "Epoch 66/100\n",
      "32584/32584 [==============================] - 1s 27us/step - loss: 0.4617 - acc: 0.8144 - val_loss: 0.4791 - val_acc: 0.8062\n",
      "Epoch 67/100\n",
      "32584/32584 [==============================] - 1s 27us/step - loss: 0.4617 - acc: 0.8144 - val_loss: 0.4790 - val_acc: 0.8062\n",
      "Epoch 68/100\n",
      "32584/32584 [==============================] - 1s 27us/step - loss: 0.4616 - acc: 0.8144 - val_loss: 0.4790 - val_acc: 0.8062\n",
      "Epoch 69/100\n",
      "32584/32584 [==============================] - 1s 27us/step - loss: 0.4616 - acc: 0.8144 - val_loss: 0.4789 - val_acc: 0.8062\n",
      "Epoch 70/100\n",
      "32584/32584 [==============================] - 1s 27us/step - loss: 0.4615 - acc: 0.8143 - val_loss: 0.4789 - val_acc: 0.8062\n",
      "Epoch 71/100\n",
      "32584/32584 [==============================] - 1s 27us/step - loss: 0.4614 - acc: 0.8144 - val_loss: 0.4789 - val_acc: 0.8062\n",
      "Epoch 72/100\n",
      "32584/32584 [==============================] - 1s 27us/step - loss: 0.4614 - acc: 0.8144 - val_loss: 0.4788 - val_acc: 0.8062\n",
      "Epoch 73/100\n",
      "32584/32584 [==============================] - 1s 27us/step - loss: 0.4614 - acc: 0.8144 - val_loss: 0.4787 - val_acc: 0.8062\n",
      "Epoch 74/100\n",
      "32584/32584 [==============================] - 1s 27us/step - loss: 0.4613 - acc: 0.8144 - val_loss: 0.4787 - val_acc: 0.8062\n",
      "Epoch 75/100\n",
      "32584/32584 [==============================] - 1s 27us/step - loss: 0.4613 - acc: 0.8145 - val_loss: 0.4787 - val_acc: 0.8062\n",
      "Epoch 76/100\n",
      "32584/32584 [==============================] - 1s 26us/step - loss: 0.4612 - acc: 0.8144 - val_loss: 0.4786 - val_acc: 0.8060\n",
      "Epoch 77/100\n",
      "32584/32584 [==============================] - 1s 26us/step - loss: 0.4612 - acc: 0.8144 - val_loss: 0.4786 - val_acc: 0.8060\n",
      "Epoch 78/100\n",
      "32584/32584 [==============================] - 1s 27us/step - loss: 0.4611 - acc: 0.8145 - val_loss: 0.4785 - val_acc: 0.8062\n",
      "Epoch 79/100\n",
      "32584/32584 [==============================] - 1s 26us/step - loss: 0.4611 - acc: 0.8144 - val_loss: 0.4785 - val_acc: 0.8062\n",
      "Epoch 80/100\n",
      "32584/32584 [==============================] - 1s 27us/step - loss: 0.4610 - acc: 0.8144 - val_loss: 0.4785 - val_acc: 0.8062\n",
      "Epoch 81/100\n",
      "32584/32584 [==============================] - 1s 26us/step - loss: 0.4610 - acc: 0.8144 - val_loss: 0.4785 - val_acc: 0.8062\n",
      "Epoch 82/100\n",
      "32584/32584 [==============================] - 1s 27us/step - loss: 0.4609 - acc: 0.8144 - val_loss: 0.4784 - val_acc: 0.8063\n",
      "Epoch 83/100\n",
      "32584/32584 [==============================] - 1s 26us/step - loss: 0.4609 - acc: 0.8144 - val_loss: 0.4783 - val_acc: 0.8063\n",
      "Epoch 84/100\n",
      "32584/32584 [==============================] - 1s 27us/step - loss: 0.4608 - acc: 0.8144 - val_loss: 0.4783 - val_acc: 0.8063\n",
      "Epoch 85/100\n",
      "32584/32584 [==============================] - 1s 26us/step - loss: 0.4608 - acc: 0.8144 - val_loss: 0.4782 - val_acc: 0.8062\n",
      "Epoch 86/100\n",
      "32584/32584 [==============================] - 1s 27us/step - loss: 0.4607 - acc: 0.8146 - val_loss: 0.4782 - val_acc: 0.8063\n",
      "Epoch 87/100\n",
      "32584/32584 [==============================] - 1s 26us/step - loss: 0.4607 - acc: 0.8143 - val_loss: 0.4782 - val_acc: 0.8063\n",
      "Epoch 88/100\n",
      "32584/32584 [==============================] - 1s 26us/step - loss: 0.4607 - acc: 0.8145 - val_loss: 0.4781 - val_acc: 0.8063\n",
      "Epoch 89/100\n",
      "32584/32584 [==============================] - 1s 27us/step - loss: 0.4606 - acc: 0.8145 - val_loss: 0.4781 - val_acc: 0.8064\n",
      "Epoch 90/100\n",
      "32584/32584 [==============================] - 1s 27us/step - loss: 0.4606 - acc: 0.8145 - val_loss: 0.4781 - val_acc: 0.8067\n",
      "Epoch 91/100\n",
      "32584/32584 [==============================] - 1s 26us/step - loss: 0.4605 - acc: 0.8145 - val_loss: 0.4780 - val_acc: 0.8063\n",
      "Epoch 92/100\n",
      "32584/32584 [==============================] - 1s 26us/step - loss: 0.4605 - acc: 0.8145 - val_loss: 0.4780 - val_acc: 0.8063\n",
      "Epoch 93/100\n",
      "32584/32584 [==============================] - 1s 26us/step - loss: 0.4604 - acc: 0.8146 - val_loss: 0.4780 - val_acc: 0.8068\n",
      "Epoch 94/100\n",
      "32584/32584 [==============================] - 1s 26us/step - loss: 0.4604 - acc: 0.8147 - val_loss: 0.4779 - val_acc: 0.8065\n",
      "Epoch 95/100\n",
      "32584/32584 [==============================] - 1s 26us/step - loss: 0.4603 - acc: 0.8146 - val_loss: 0.4779 - val_acc: 0.8065\n",
      "Epoch 96/100\n",
      "32584/32584 [==============================] - 1s 26us/step - loss: 0.4603 - acc: 0.8146 - val_loss: 0.4779 - val_acc: 0.8067\n",
      "Epoch 97/100\n",
      "32584/32584 [==============================] - 1s 27us/step - loss: 0.4603 - acc: 0.8145 - val_loss: 0.4778 - val_acc: 0.8068\n",
      "Epoch 98/100\n",
      "32584/32584 [==============================] - 1s 26us/step - loss: 0.4602 - acc: 0.8146 - val_loss: 0.4778 - val_acc: 0.8067\n",
      "Epoch 99/100\n",
      "28032/32584 [========================>.....] - ETA: 0s - loss: 0.4606 - acc: 0.8145"
     ]
    },
    {
     "ename": "KeyboardInterrupt",
     "evalue": "",
     "output_type": "error",
     "traceback": [
      "\u001b[1;31m---------------------------------------------------------------------------\u001b[0m",
      "\u001b[1;31mKeyboardInterrupt\u001b[0m                         Traceback (most recent call last)",
      "\u001b[1;32m<ipython-input-85-242e0b60d60b>\u001b[0m in \u001b[0;36m<module>\u001b[1;34m()\u001b[0m\n\u001b[1;32m----> 1\u001b[1;33m \u001b[0mperceptron_model_history\u001b[0m \u001b[1;33m=\u001b[0m \u001b[0mperceptron_model\u001b[0m\u001b[1;33m.\u001b[0m\u001b[0mfit\u001b[0m\u001b[1;33m(\u001b[0m\u001b[0mX_train\u001b[0m\u001b[1;33m,\u001b[0m\u001b[0my_train\u001b[0m\u001b[1;33m,\u001b[0m\u001b[0mepochs\u001b[0m\u001b[1;33m=\u001b[0m\u001b[1;36m100\u001b[0m\u001b[1;33m,\u001b[0m\u001b[0mbatch_size\u001b[0m\u001b[1;33m=\u001b[0m\u001b[1;36m64\u001b[0m\u001b[1;33m,\u001b[0m\u001b[0mvalidation_split\u001b[0m\u001b[1;33m=\u001b[0m\u001b[1;36m0.2\u001b[0m\u001b[1;33m)\u001b[0m\u001b[1;33m\u001b[0m\u001b[0m\n\u001b[0m",
      "\u001b[1;32m~\\Anaconda3\\envs\\tfdeeplearning\\lib\\site-packages\\keras\\engine\\training.py\u001b[0m in \u001b[0;36mfit\u001b[1;34m(self, x, y, batch_size, epochs, verbose, callbacks, validation_split, validation_data, shuffle, class_weight, sample_weight, initial_epoch, steps_per_epoch, validation_steps, **kwargs)\u001b[0m\n\u001b[0;32m   1037\u001b[0m                                         \u001b[0minitial_epoch\u001b[0m\u001b[1;33m=\u001b[0m\u001b[0minitial_epoch\u001b[0m\u001b[1;33m,\u001b[0m\u001b[1;33m\u001b[0m\u001b[0m\n\u001b[0;32m   1038\u001b[0m                                         \u001b[0msteps_per_epoch\u001b[0m\u001b[1;33m=\u001b[0m\u001b[0msteps_per_epoch\u001b[0m\u001b[1;33m,\u001b[0m\u001b[1;33m\u001b[0m\u001b[0m\n\u001b[1;32m-> 1039\u001b[1;33m                                         validation_steps=validation_steps)\n\u001b[0m\u001b[0;32m   1040\u001b[0m \u001b[1;33m\u001b[0m\u001b[0m\n\u001b[0;32m   1041\u001b[0m     def evaluate(self, x=None, y=None,\n",
      "\u001b[1;32m~\\Anaconda3\\envs\\tfdeeplearning\\lib\\site-packages\\keras\\engine\\training_arrays.py\u001b[0m in \u001b[0;36mfit_loop\u001b[1;34m(model, f, ins, out_labels, batch_size, epochs, verbose, callbacks, val_f, val_ins, shuffle, callback_metrics, initial_epoch, steps_per_epoch, validation_steps)\u001b[0m\n\u001b[0;32m    197\u001b[0m                     \u001b[0mins_batch\u001b[0m\u001b[1;33m[\u001b[0m\u001b[0mi\u001b[0m\u001b[1;33m]\u001b[0m \u001b[1;33m=\u001b[0m \u001b[0mins_batch\u001b[0m\u001b[1;33m[\u001b[0m\u001b[0mi\u001b[0m\u001b[1;33m]\u001b[0m\u001b[1;33m.\u001b[0m\u001b[0mtoarray\u001b[0m\u001b[1;33m(\u001b[0m\u001b[1;33m)\u001b[0m\u001b[1;33m\u001b[0m\u001b[0m\n\u001b[0;32m    198\u001b[0m \u001b[1;33m\u001b[0m\u001b[0m\n\u001b[1;32m--> 199\u001b[1;33m                 \u001b[0mouts\u001b[0m \u001b[1;33m=\u001b[0m \u001b[0mf\u001b[0m\u001b[1;33m(\u001b[0m\u001b[0mins_batch\u001b[0m\u001b[1;33m)\u001b[0m\u001b[1;33m\u001b[0m\u001b[0m\n\u001b[0m\u001b[0;32m    200\u001b[0m                 \u001b[0mouts\u001b[0m \u001b[1;33m=\u001b[0m \u001b[0mto_list\u001b[0m\u001b[1;33m(\u001b[0m\u001b[0mouts\u001b[0m\u001b[1;33m)\u001b[0m\u001b[1;33m\u001b[0m\u001b[0m\n\u001b[0;32m    201\u001b[0m                 \u001b[1;32mfor\u001b[0m \u001b[0ml\u001b[0m\u001b[1;33m,\u001b[0m \u001b[0mo\u001b[0m \u001b[1;32min\u001b[0m \u001b[0mzip\u001b[0m\u001b[1;33m(\u001b[0m\u001b[0mout_labels\u001b[0m\u001b[1;33m,\u001b[0m \u001b[0mouts\u001b[0m\u001b[1;33m)\u001b[0m\u001b[1;33m:\u001b[0m\u001b[1;33m\u001b[0m\u001b[0m\n",
      "\u001b[1;32m~\\Anaconda3\\envs\\tfdeeplearning\\lib\\site-packages\\keras\\backend\\tensorflow_backend.py\u001b[0m in \u001b[0;36m__call__\u001b[1;34m(self, inputs)\u001b[0m\n\u001b[0;32m   2719\u001b[0m                     \u001b[1;34m'In order to feed symbolic tensors to a Keras model '\u001b[0m\u001b[1;33m\u001b[0m\u001b[0m\n\u001b[0;32m   2720\u001b[0m                     'in TensorFlow, you need tensorflow 1.8 or higher.')\n\u001b[1;32m-> 2721\u001b[1;33m             \u001b[1;32mreturn\u001b[0m \u001b[0mself\u001b[0m\u001b[1;33m.\u001b[0m\u001b[0m_legacy_call\u001b[0m\u001b[1;33m(\u001b[0m\u001b[0minputs\u001b[0m\u001b[1;33m)\u001b[0m\u001b[1;33m\u001b[0m\u001b[0m\n\u001b[0m\u001b[0;32m   2722\u001b[0m \u001b[1;33m\u001b[0m\u001b[0m\n\u001b[0;32m   2723\u001b[0m \u001b[1;33m\u001b[0m\u001b[0m\n",
      "\u001b[1;32m~\\Anaconda3\\envs\\tfdeeplearning\\lib\\site-packages\\keras\\backend\\tensorflow_backend.py\u001b[0m in \u001b[0;36m_legacy_call\u001b[1;34m(self, inputs)\u001b[0m\n\u001b[0;32m   2691\u001b[0m         \u001b[0msession\u001b[0m \u001b[1;33m=\u001b[0m \u001b[0mget_session\u001b[0m\u001b[1;33m(\u001b[0m\u001b[1;33m)\u001b[0m\u001b[1;33m\u001b[0m\u001b[0m\n\u001b[0;32m   2692\u001b[0m         updated = session.run(fetches=fetches, feed_dict=feed_dict,\n\u001b[1;32m-> 2693\u001b[1;33m                               **self.session_kwargs)\n\u001b[0m\u001b[0;32m   2694\u001b[0m         \u001b[1;32mreturn\u001b[0m \u001b[0mupdated\u001b[0m\u001b[1;33m[\u001b[0m\u001b[1;33m:\u001b[0m\u001b[0mlen\u001b[0m\u001b[1;33m(\u001b[0m\u001b[0mself\u001b[0m\u001b[1;33m.\u001b[0m\u001b[0moutputs\u001b[0m\u001b[1;33m)\u001b[0m\u001b[1;33m]\u001b[0m\u001b[1;33m\u001b[0m\u001b[0m\n\u001b[0;32m   2695\u001b[0m \u001b[1;33m\u001b[0m\u001b[0m\n",
      "\u001b[1;32m~\\Anaconda3\\envs\\tfdeeplearning\\lib\\site-packages\\tensorflow\\python\\client\\session.py\u001b[0m in \u001b[0;36mrun\u001b[1;34m(self, fetches, feed_dict, options, run_metadata)\u001b[0m\n\u001b[0;32m    893\u001b[0m     \u001b[1;32mtry\u001b[0m\u001b[1;33m:\u001b[0m\u001b[1;33m\u001b[0m\u001b[0m\n\u001b[0;32m    894\u001b[0m       result = self._run(None, fetches, feed_dict, options_ptr,\n\u001b[1;32m--> 895\u001b[1;33m                          run_metadata_ptr)\n\u001b[0m\u001b[0;32m    896\u001b[0m       \u001b[1;32mif\u001b[0m \u001b[0mrun_metadata\u001b[0m\u001b[1;33m:\u001b[0m\u001b[1;33m\u001b[0m\u001b[0m\n\u001b[0;32m    897\u001b[0m         \u001b[0mproto_data\u001b[0m \u001b[1;33m=\u001b[0m \u001b[0mtf_session\u001b[0m\u001b[1;33m.\u001b[0m\u001b[0mTF_GetBuffer\u001b[0m\u001b[1;33m(\u001b[0m\u001b[0mrun_metadata_ptr\u001b[0m\u001b[1;33m)\u001b[0m\u001b[1;33m\u001b[0m\u001b[0m\n",
      "\u001b[1;32m~\\Anaconda3\\envs\\tfdeeplearning\\lib\\site-packages\\tensorflow\\python\\client\\session.py\u001b[0m in \u001b[0;36m_run\u001b[1;34m(self, handle, fetches, feed_dict, options, run_metadata)\u001b[0m\n\u001b[0;32m   1122\u001b[0m     \u001b[1;32mif\u001b[0m \u001b[0mfinal_fetches\u001b[0m \u001b[1;32mor\u001b[0m \u001b[0mfinal_targets\u001b[0m \u001b[1;32mor\u001b[0m \u001b[1;33m(\u001b[0m\u001b[0mhandle\u001b[0m \u001b[1;32mand\u001b[0m \u001b[0mfeed_dict_tensor\u001b[0m\u001b[1;33m)\u001b[0m\u001b[1;33m:\u001b[0m\u001b[1;33m\u001b[0m\u001b[0m\n\u001b[0;32m   1123\u001b[0m       results = self._do_run(handle, final_targets, final_fetches,\n\u001b[1;32m-> 1124\u001b[1;33m                              feed_dict_tensor, options, run_metadata)\n\u001b[0m\u001b[0;32m   1125\u001b[0m     \u001b[1;32melse\u001b[0m\u001b[1;33m:\u001b[0m\u001b[1;33m\u001b[0m\u001b[0m\n\u001b[0;32m   1126\u001b[0m       \u001b[0mresults\u001b[0m \u001b[1;33m=\u001b[0m \u001b[1;33m[\u001b[0m\u001b[1;33m]\u001b[0m\u001b[1;33m\u001b[0m\u001b[0m\n",
      "\u001b[1;32m~\\Anaconda3\\envs\\tfdeeplearning\\lib\\site-packages\\tensorflow\\python\\client\\session.py\u001b[0m in \u001b[0;36m_do_run\u001b[1;34m(self, handle, target_list, fetch_list, feed_dict, options, run_metadata)\u001b[0m\n\u001b[0;32m   1319\u001b[0m     \u001b[1;32mif\u001b[0m \u001b[0mhandle\u001b[0m \u001b[1;32mis\u001b[0m \u001b[1;32mNone\u001b[0m\u001b[1;33m:\u001b[0m\u001b[1;33m\u001b[0m\u001b[0m\n\u001b[0;32m   1320\u001b[0m       return self._do_call(_run_fn, self._session, feeds, fetches, targets,\n\u001b[1;32m-> 1321\u001b[1;33m                            options, run_metadata)\n\u001b[0m\u001b[0;32m   1322\u001b[0m     \u001b[1;32melse\u001b[0m\u001b[1;33m:\u001b[0m\u001b[1;33m\u001b[0m\u001b[0m\n\u001b[0;32m   1323\u001b[0m       \u001b[1;32mreturn\u001b[0m \u001b[0mself\u001b[0m\u001b[1;33m.\u001b[0m\u001b[0m_do_call\u001b[0m\u001b[1;33m(\u001b[0m\u001b[0m_prun_fn\u001b[0m\u001b[1;33m,\u001b[0m \u001b[0mself\u001b[0m\u001b[1;33m.\u001b[0m\u001b[0m_session\u001b[0m\u001b[1;33m,\u001b[0m \u001b[0mhandle\u001b[0m\u001b[1;33m,\u001b[0m \u001b[0mfeeds\u001b[0m\u001b[1;33m,\u001b[0m \u001b[0mfetches\u001b[0m\u001b[1;33m)\u001b[0m\u001b[1;33m\u001b[0m\u001b[0m\n",
      "\u001b[1;32m~\\Anaconda3\\envs\\tfdeeplearning\\lib\\site-packages\\tensorflow\\python\\client\\session.py\u001b[0m in \u001b[0;36m_do_call\u001b[1;34m(self, fn, *args)\u001b[0m\n\u001b[0;32m   1325\u001b[0m   \u001b[1;32mdef\u001b[0m \u001b[0m_do_call\u001b[0m\u001b[1;33m(\u001b[0m\u001b[0mself\u001b[0m\u001b[1;33m,\u001b[0m \u001b[0mfn\u001b[0m\u001b[1;33m,\u001b[0m \u001b[1;33m*\u001b[0m\u001b[0margs\u001b[0m\u001b[1;33m)\u001b[0m\u001b[1;33m:\u001b[0m\u001b[1;33m\u001b[0m\u001b[0m\n\u001b[0;32m   1326\u001b[0m     \u001b[1;32mtry\u001b[0m\u001b[1;33m:\u001b[0m\u001b[1;33m\u001b[0m\u001b[0m\n\u001b[1;32m-> 1327\u001b[1;33m       \u001b[1;32mreturn\u001b[0m \u001b[0mfn\u001b[0m\u001b[1;33m(\u001b[0m\u001b[1;33m*\u001b[0m\u001b[0margs\u001b[0m\u001b[1;33m)\u001b[0m\u001b[1;33m\u001b[0m\u001b[0m\n\u001b[0m\u001b[0;32m   1328\u001b[0m     \u001b[1;32mexcept\u001b[0m \u001b[0merrors\u001b[0m\u001b[1;33m.\u001b[0m\u001b[0mOpError\u001b[0m \u001b[1;32mas\u001b[0m \u001b[0me\u001b[0m\u001b[1;33m:\u001b[0m\u001b[1;33m\u001b[0m\u001b[0m\n\u001b[0;32m   1329\u001b[0m       \u001b[0mmessage\u001b[0m \u001b[1;33m=\u001b[0m \u001b[0mcompat\u001b[0m\u001b[1;33m.\u001b[0m\u001b[0mas_text\u001b[0m\u001b[1;33m(\u001b[0m\u001b[0me\u001b[0m\u001b[1;33m.\u001b[0m\u001b[0mmessage\u001b[0m\u001b[1;33m)\u001b[0m\u001b[1;33m\u001b[0m\u001b[0m\n",
      "\u001b[1;32m~\\Anaconda3\\envs\\tfdeeplearning\\lib\\site-packages\\tensorflow\\python\\client\\session.py\u001b[0m in \u001b[0;36m_run_fn\u001b[1;34m(session, feed_dict, fetch_list, target_list, options, run_metadata)\u001b[0m\n\u001b[0;32m   1304\u001b[0m           return tf_session.TF_Run(session, options,\n\u001b[0;32m   1305\u001b[0m                                    \u001b[0mfeed_dict\u001b[0m\u001b[1;33m,\u001b[0m \u001b[0mfetch_list\u001b[0m\u001b[1;33m,\u001b[0m \u001b[0mtarget_list\u001b[0m\u001b[1;33m,\u001b[0m\u001b[1;33m\u001b[0m\u001b[0m\n\u001b[1;32m-> 1306\u001b[1;33m                                    status, run_metadata)\n\u001b[0m\u001b[0;32m   1307\u001b[0m \u001b[1;33m\u001b[0m\u001b[0m\n\u001b[0;32m   1308\u001b[0m     \u001b[1;32mdef\u001b[0m \u001b[0m_prun_fn\u001b[0m\u001b[1;33m(\u001b[0m\u001b[0msession\u001b[0m\u001b[1;33m,\u001b[0m \u001b[0mhandle\u001b[0m\u001b[1;33m,\u001b[0m \u001b[0mfeed_dict\u001b[0m\u001b[1;33m,\u001b[0m \u001b[0mfetch_list\u001b[0m\u001b[1;33m)\u001b[0m\u001b[1;33m:\u001b[0m\u001b[1;33m\u001b[0m\u001b[0m\n",
      "\u001b[1;31mKeyboardInterrupt\u001b[0m: "
     ]
    }
   ],
   "source": [
    "perceptron_model_history = perceptron_model.fit(X_train,y_train,epochs=100,batch_size=64,validation_split=0.2)"
   ]
  },
  {
   "cell_type": "markdown",
   "metadata": {},
   "source": [
    "##### Plot"
   ]
  },
  {
   "cell_type": "code",
   "execution_count": null,
   "metadata": {
    "collapsed": true
   },
   "outputs": [],
   "source": [
    "print(perceptron_model_history.history.keys())"
   ]
  },
  {
   "cell_type": "code",
   "execution_count": null,
   "metadata": {
    "collapsed": true
   },
   "outputs": [],
   "source": [
    "plt.plot(perceptron_model_history.history['acc'])\n",
    "plt.plot(perceptron_model_history.history['val_acc'])\n",
    "plt.title('Accuracy Plot')\n",
    "plt.ylabel('Accuracy')\n",
    "plt.xlabel('Epoch')\n",
    "plt.legend(['Train', 'Validation'])\n",
    "plt.show()"
   ]
  },
  {
   "cell_type": "code",
   "execution_count": null,
   "metadata": {
    "collapsed": true
   },
   "outputs": [],
   "source": [
    "plt.plot(perceptron_model_history.history['loss'])\n",
    "plt.plot(perceptron_model_history.history['val_loss'])\n",
    "plt.title('Loss Function Plot')\n",
    "plt.ylabel('Loss')\n",
    "plt.xlabel('Epoch')\n",
    "plt.legend(['Train', 'Validation'])\n",
    "plt.show()"
   ]
  },
  {
   "cell_type": "markdown",
   "metadata": {},
   "source": [
    "##### Predictions"
   ]
  },
  {
   "cell_type": "code",
   "execution_count": null,
   "metadata": {
    "collapsed": true
   },
   "outputs": [],
   "source": [
    "test_pred = perceptron_model.predict_classes(X_test)\n",
    "train_pred = perceptron_model.predict_classes(X_train)"
   ]
  },
  {
   "cell_type": "code",
   "execution_count": null,
   "metadata": {
    "collapsed": true
   },
   "outputs": [],
   "source": [
    "test_pred"
   ]
  },
  {
   "cell_type": "code",
   "execution_count": null,
   "metadata": {
    "collapsed": true
   },
   "outputs": [],
   "source": [
    "train_pred"
   ]
  },
  {
   "cell_type": "code",
   "execution_count": null,
   "metadata": {
    "collapsed": true
   },
   "outputs": [],
   "source": [
    "confusion_matrix_test = confusion_matrix(y_test,test_pred)\n",
    "confusion_matrix_train = confusion_matrix(y_train,train_pred)\n",
    "\n",
    "print(confusion_matrix_train)\n",
    "print(confusion_matrix_test)"
   ]
  },
  {
   "cell_type": "markdown",
   "metadata": {},
   "source": [
    "##### Train Test Accuracy, True Negative Rate and True Positive Rate"
   ]
  },
  {
   "cell_type": "code",
   "execution_count": null,
   "metadata": {
    "collapsed": true
   },
   "outputs": [],
   "source": [
    "Accuracy_Train=(confusion_matrix_train[0,0]+confusion_matrix_train[1,1])/(confusion_matrix_train[0,0]+confusion_matrix_train[0,1]+confusion_matrix_train[1,0]+confusion_matrix_train[1,1])\n",
    "TNR_Train= confusion_matrix_train[0,0]/(confusion_matrix_train[0,0]+confusion_matrix_train[0,1])\n",
    "TPR_Train= confusion_matrix_train[1,1]/(confusion_matrix_train[1,0]+confusion_matrix_train[1,1])\n",
    "\n",
    "print(\"Train TNR: \",TNR_Train)\n",
    "print(\"Train TPR: \",TPR_Train)\n",
    "print(\"Train Accuracy: \",Accuracy_Train)\n",
    "\n",
    "print(\"-----------------------\")\n",
    "\n",
    "Accuracy_Test=(confusion_matrix_test[0,0]+confusion_matrix_test[1,1])/(confusion_matrix_test[0,0]+confusion_matrix_test[0,1]+confusion_matrix_test[1,0]+confusion_matrix_test[1,1])\n",
    "TNR_Test= confusion_matrix_test[0,0]/(confusion_matrix_test[0,0] +confusion_matrix_test[0,1])\n",
    "TPR_Test= confusion_matrix_test[1,1]/(confusion_matrix_test[1,0] +confusion_matrix_test[1,1])\n",
    "\n",
    "print(\"Test TNR: \",TNR_Test)\n",
    "print(\"Test TPR: \",TPR_Test)\n",
    "print(\"Test Accuracy: \",Accuracy_Test)"
   ]
  },
  {
   "cell_type": "markdown",
   "metadata": {},
   "source": [
    "### MLP with 2 layers\n",
    "\n",
    "    1 hidden layer with 15 neurons"
   ]
  },
  {
   "cell_type": "code",
   "execution_count": 63,
   "metadata": {
    "collapsed": true
   },
   "outputs": [],
   "source": [
    "mlp_model1 = Sequential()\n",
    "\n",
    "mlp_model1.add(Dense(15,input_dim=21,activation='tanh',kernel_initializer='normal'))\n",
    "mlp_model1.add(Dense(1,activation='sigmoid',kernel_initializer='normal'))"
   ]
  },
  {
   "cell_type": "code",
   "execution_count": 64,
   "metadata": {},
   "outputs": [
    {
     "name": "stdout",
     "output_type": "stream",
     "text": [
      "_________________________________________________________________\n",
      "Layer (type)                 Output Shape              Param #   \n",
      "=================================================================\n",
      "dense_4 (Dense)              (None, 15)                330       \n",
      "_________________________________________________________________\n",
      "dense_5 (Dense)              (None, 1)                 16        \n",
      "=================================================================\n",
      "Total params: 346\n",
      "Trainable params: 346\n",
      "Non-trainable params: 0\n",
      "_________________________________________________________________\n"
     ]
    }
   ],
   "source": [
    "mlp_model1.summary()"
   ]
  },
  {
   "cell_type": "code",
   "execution_count": 65,
   "metadata": {
    "collapsed": true
   },
   "outputs": [],
   "source": [
    "mlp_model1.compile(loss='binary_crossentropy', optimizer='sgd', metrics=['accuracy'])"
   ]
  },
  {
   "cell_type": "code",
   "execution_count": 66,
   "metadata": {},
   "outputs": [
    {
     "name": "stdout",
     "output_type": "stream",
     "text": [
      "Train on 32584 samples, validate on 8146 samples\n",
      "Epoch 1/100\n",
      "32584/32584 [==============================] - 1s 25us/step - loss: 0.5606 - acc: 0.8093 - val_loss: 0.5074 - val_acc: 0.8048\n",
      "Epoch 2/100\n",
      "32584/32584 [==============================] - 1s 16us/step - loss: 0.4865 - acc: 0.8132 - val_loss: 0.4917 - val_acc: 0.8048\n",
      "Epoch 3/100\n",
      "32584/32584 [==============================] - 1s 16us/step - loss: 0.4788 - acc: 0.8132 - val_loss: 0.4901 - val_acc: 0.8048\n",
      "Epoch 4/100\n",
      "32584/32584 [==============================] - 1s 16us/step - loss: 0.4769 - acc: 0.8132 - val_loss: 0.4892 - val_acc: 0.8048\n",
      "Epoch 5/100\n",
      "32584/32584 [==============================] - 1s 16us/step - loss: 0.4756 - acc: 0.8132 - val_loss: 0.4882 - val_acc: 0.8049\n",
      "Epoch 6/100\n",
      "32584/32584 [==============================] - 1s 16us/step - loss: 0.4743 - acc: 0.8133 - val_loss: 0.4875 - val_acc: 0.8048\n",
      "Epoch 7/100\n",
      "32584/32584 [==============================] - 1s 16us/step - loss: 0.4731 - acc: 0.8134 - val_loss: 0.4865 - val_acc: 0.8048\n",
      "Epoch 8/100\n",
      "32584/32584 [==============================] - 1s 16us/step - loss: 0.4719 - acc: 0.8134 - val_loss: 0.4857 - val_acc: 0.8044\n",
      "Epoch 9/100\n",
      "32584/32584 [==============================] - 1s 16us/step - loss: 0.4709 - acc: 0.8133 - val_loss: 0.4850 - val_acc: 0.8044\n",
      "Epoch 10/100\n",
      "32584/32584 [==============================] - 1s 16us/step - loss: 0.4700 - acc: 0.8133 - val_loss: 0.4843 - val_acc: 0.8043\n",
      "Epoch 11/100\n",
      "32584/32584 [==============================] - 1s 19us/step - loss: 0.4691 - acc: 0.8133 - val_loss: 0.4837 - val_acc: 0.8044\n",
      "Epoch 12/100\n",
      "32584/32584 [==============================] - 1s 19us/step - loss: 0.4684 - acc: 0.8134 - val_loss: 0.4831 - val_acc: 0.8047\n",
      "Epoch 13/100\n",
      "32584/32584 [==============================] - 1s 18us/step - loss: 0.4677 - acc: 0.8134 - val_loss: 0.4826 - val_acc: 0.8049\n",
      "Epoch 14/100\n",
      "32584/32584 [==============================] - 1s 16us/step - loss: 0.4671 - acc: 0.8135 - val_loss: 0.4820 - val_acc: 0.8048\n",
      "Epoch 15/100\n",
      "32584/32584 [==============================] - 1s 16us/step - loss: 0.4665 - acc: 0.8136 - val_loss: 0.4816 - val_acc: 0.8049\n",
      "Epoch 16/100\n",
      "32584/32584 [==============================] - 1s 17us/step - loss: 0.4659 - acc: 0.8137 - val_loss: 0.4810 - val_acc: 0.8051\n",
      "Epoch 17/100\n",
      "32584/32584 [==============================] - 1s 17us/step - loss: 0.4654 - acc: 0.8138 - val_loss: 0.4804 - val_acc: 0.8053\n",
      "Epoch 18/100\n",
      "32584/32584 [==============================] - 1s 16us/step - loss: 0.4649 - acc: 0.8138 - val_loss: 0.4799 - val_acc: 0.8054\n",
      "Epoch 19/100\n",
      "32584/32584 [==============================] - 1s 16us/step - loss: 0.4644 - acc: 0.8140 - val_loss: 0.4794 - val_acc: 0.8059\n",
      "Epoch 20/100\n",
      "32584/32584 [==============================] - 1s 16us/step - loss: 0.4640 - acc: 0.8139 - val_loss: 0.4788 - val_acc: 0.8060\n",
      "Epoch 21/100\n",
      "32584/32584 [==============================] - 1s 15us/step - loss: 0.4635 - acc: 0.8139 - val_loss: 0.4783 - val_acc: 0.8062\n",
      "Epoch 22/100\n",
      "32584/32584 [==============================] - 1s 15us/step - loss: 0.4630 - acc: 0.8140 - val_loss: 0.4777 - val_acc: 0.8070\n",
      "Epoch 23/100\n",
      "32584/32584 [==============================] - 1s 15us/step - loss: 0.4627 - acc: 0.8140 - val_loss: 0.4773 - val_acc: 0.8070\n",
      "Epoch 24/100\n",
      "32584/32584 [==============================] - 1s 16us/step - loss: 0.4622 - acc: 0.8140 - val_loss: 0.4768 - val_acc: 0.8070\n",
      "Epoch 25/100\n",
      "32584/32584 [==============================] - 0s 15us/step - loss: 0.4618 - acc: 0.8140 - val_loss: 0.4764 - val_acc: 0.8070\n",
      "Epoch 26/100\n",
      "32584/32584 [==============================] - 1s 16us/step - loss: 0.4614 - acc: 0.8141 - val_loss: 0.4759 - val_acc: 0.8071\n",
      "Epoch 27/100\n",
      "32584/32584 [==============================] - 1s 18us/step - loss: 0.4610 - acc: 0.8141 - val_loss: 0.4754 - val_acc: 0.8074\n",
      "Epoch 28/100\n",
      "32584/32584 [==============================] - 1s 16us/step - loss: 0.4607 - acc: 0.8143 - val_loss: 0.4750 - val_acc: 0.8074\n",
      "Epoch 29/100\n",
      "32584/32584 [==============================] - 1s 16us/step - loss: 0.4603 - acc: 0.8143 - val_loss: 0.4746 - val_acc: 0.8075\n",
      "Epoch 30/100\n",
      "32584/32584 [==============================] - 1s 16us/step - loss: 0.4599 - acc: 0.8143 - val_loss: 0.4743 - val_acc: 0.8076\n",
      "Epoch 31/100\n",
      "32584/32584 [==============================] - 1s 16us/step - loss: 0.4596 - acc: 0.8144 - val_loss: 0.4738 - val_acc: 0.8076\n",
      "Epoch 32/100\n",
      "32584/32584 [==============================] - 1s 16us/step - loss: 0.4592 - acc: 0.8145 - val_loss: 0.4733 - val_acc: 0.8079\n",
      "Epoch 33/100\n",
      "32584/32584 [==============================] - 1s 16us/step - loss: 0.4588 - acc: 0.8147 - val_loss: 0.4728 - val_acc: 0.8078\n",
      "Epoch 34/100\n",
      "32584/32584 [==============================] - 1s 16us/step - loss: 0.4585 - acc: 0.8147 - val_loss: 0.4725 - val_acc: 0.8078\n",
      "Epoch 35/100\n",
      "32584/32584 [==============================] - 1s 16us/step - loss: 0.4581 - acc: 0.8148 - val_loss: 0.4722 - val_acc: 0.8078\n",
      "Epoch 36/100\n",
      "32584/32584 [==============================] - 1s 16us/step - loss: 0.4578 - acc: 0.8148 - val_loss: 0.4718 - val_acc: 0.8076\n",
      "Epoch 37/100\n",
      "32584/32584 [==============================] - 1s 15us/step - loss: 0.4574 - acc: 0.8148 - val_loss: 0.4717 - val_acc: 0.8076\n",
      "Epoch 38/100\n",
      "32584/32584 [==============================] - 1s 16us/step - loss: 0.4571 - acc: 0.8148 - val_loss: 0.4711 - val_acc: 0.8079\n",
      "Epoch 39/100\n",
      "32584/32584 [==============================] - 1s 16us/step - loss: 0.4567 - acc: 0.8148 - val_loss: 0.4707 - val_acc: 0.8079\n",
      "Epoch 40/100\n",
      "32584/32584 [==============================] - 1s 19us/step - loss: 0.4564 - acc: 0.8148 - val_loss: 0.4703 - val_acc: 0.8076\n",
      "Epoch 41/100\n",
      "32584/32584 [==============================] - 0s 15us/step - loss: 0.4561 - acc: 0.8149 - val_loss: 0.4699 - val_acc: 0.8082\n",
      "Epoch 42/100\n",
      "32584/32584 [==============================] - 0s 15us/step - loss: 0.4557 - acc: 0.8149 - val_loss: 0.4695 - val_acc: 0.8087\n",
      "Epoch 43/100\n",
      "32584/32584 [==============================] - 1s 16us/step - loss: 0.4554 - acc: 0.8150 - val_loss: 0.4692 - val_acc: 0.8089\n",
      "Epoch 44/100\n",
      "32584/32584 [==============================] - 1s 17us/step - loss: 0.4550 - acc: 0.8152 - val_loss: 0.4689 - val_acc: 0.8089\n",
      "Epoch 45/100\n",
      "32584/32584 [==============================] - 1s 18us/step - loss: 0.4547 - acc: 0.8153 - val_loss: 0.4685 - val_acc: 0.8089\n",
      "Epoch 46/100\n",
      "32584/32584 [==============================] - 0s 15us/step - loss: 0.4544 - acc: 0.8156 - val_loss: 0.4680 - val_acc: 0.8089\n",
      "Epoch 47/100\n",
      "32584/32584 [==============================] - 1s 19us/step - loss: 0.4541 - acc: 0.8156 - val_loss: 0.4678 - val_acc: 0.8091\n",
      "Epoch 48/100\n",
      "32584/32584 [==============================] - 1s 18us/step - loss: 0.4537 - acc: 0.8156 - val_loss: 0.4675 - val_acc: 0.8092\n",
      "Epoch 49/100\n",
      "32584/32584 [==============================] - 1s 18us/step - loss: 0.4534 - acc: 0.8156 - val_loss: 0.4670 - val_acc: 0.8094\n",
      "Epoch 50/100\n",
      "32584/32584 [==============================] - 1s 19us/step - loss: 0.4530 - acc: 0.8158 - val_loss: 0.4666 - val_acc: 0.8094\n",
      "Epoch 51/100\n",
      "32584/32584 [==============================] - 1s 16us/step - loss: 0.4527 - acc: 0.8159 - val_loss: 0.4662 - val_acc: 0.8094\n",
      "Epoch 52/100\n",
      "32584/32584 [==============================] - 1s 16us/step - loss: 0.4524 - acc: 0.8159 - val_loss: 0.4661 - val_acc: 0.8094\n",
      "Epoch 53/100\n",
      "32584/32584 [==============================] - 1s 17us/step - loss: 0.4521 - acc: 0.8160 - val_loss: 0.4657 - val_acc: 0.8098\n",
      "Epoch 54/100\n",
      "32584/32584 [==============================] - 1s 16us/step - loss: 0.4517 - acc: 0.8162 - val_loss: 0.4653 - val_acc: 0.8101\n",
      "Epoch 55/100\n",
      "32584/32584 [==============================] - 1s 16us/step - loss: 0.4514 - acc: 0.8163 - val_loss: 0.4651 - val_acc: 0.8101\n",
      "Epoch 56/100\n",
      "32584/32584 [==============================] - 1s 16us/step - loss: 0.4511 - acc: 0.8164 - val_loss: 0.4646 - val_acc: 0.8105\n",
      "Epoch 57/100\n",
      "32584/32584 [==============================] - 1s 16us/step - loss: 0.4508 - acc: 0.8167 - val_loss: 0.4644 - val_acc: 0.8105\n",
      "Epoch 58/100\n",
      "32584/32584 [==============================] - 1s 16us/step - loss: 0.4504 - acc: 0.8167 - val_loss: 0.4640 - val_acc: 0.8107\n",
      "Epoch 59/100\n",
      "32584/32584 [==============================] - 1s 15us/step - loss: 0.4501 - acc: 0.8168 - val_loss: 0.4634 - val_acc: 0.8110\n",
      "Epoch 60/100\n",
      "32584/32584 [==============================] - 1s 15us/step - loss: 0.4498 - acc: 0.8170 - val_loss: 0.4631 - val_acc: 0.8110\n",
      "Epoch 61/100\n",
      "32584/32584 [==============================] - 1s 17us/step - loss: 0.4495 - acc: 0.8171 - val_loss: 0.4628 - val_acc: 0.8110\n",
      "Epoch 62/100\n",
      "32584/32584 [==============================] - 1s 18us/step - loss: 0.4490 - acc: 0.8173 - val_loss: 0.4623 - val_acc: 0.8111\n",
      "Epoch 63/100\n",
      "32584/32584 [==============================] - 1s 19us/step - loss: 0.4487 - acc: 0.8173 - val_loss: 0.4622 - val_acc: 0.8111\n",
      "Epoch 64/100\n",
      "32584/32584 [==============================] - 1s 20us/step - loss: 0.4485 - acc: 0.8173 - val_loss: 0.4618 - val_acc: 0.8113\n",
      "Epoch 65/100\n",
      "32584/32584 [==============================] - 1s 18us/step - loss: 0.4481 - acc: 0.8174 - val_loss: 0.4613 - val_acc: 0.8113\n",
      "Epoch 66/100\n",
      "32584/32584 [==============================] - 1s 18us/step - loss: 0.4478 - acc: 0.8175 - val_loss: 0.4613 - val_acc: 0.8112\n",
      "Epoch 67/100\n",
      "32584/32584 [==============================] - 1s 18us/step - loss: 0.4475 - acc: 0.8175 - val_loss: 0.4606 - val_acc: 0.8114\n",
      "Epoch 68/100\n",
      "32584/32584 [==============================] - 1s 19us/step - loss: 0.4471 - acc: 0.8176 - val_loss: 0.4606 - val_acc: 0.8114\n",
      "Epoch 69/100\n",
      "32584/32584 [==============================] - 1s 18us/step - loss: 0.4469 - acc: 0.8176 - val_loss: 0.4603 - val_acc: 0.8114\n",
      "Epoch 70/100\n",
      "32584/32584 [==============================] - 1s 18us/step - loss: 0.4465 - acc: 0.8178 - val_loss: 0.4597 - val_acc: 0.8113\n",
      "Epoch 71/100\n",
      "32584/32584 [==============================] - 0s 15us/step - loss: 0.4462 - acc: 0.8178 - val_loss: 0.4596 - val_acc: 0.8113\n",
      "Epoch 72/100\n",
      "32584/32584 [==============================] - 0s 15us/step - loss: 0.4459 - acc: 0.8179 - val_loss: 0.4590 - val_acc: 0.8116\n",
      "Epoch 73/100\n",
      "32584/32584 [==============================] - 0s 15us/step - loss: 0.4457 - acc: 0.8179 - val_loss: 0.4587 - val_acc: 0.8117\n",
      "Epoch 74/100\n",
      "32584/32584 [==============================] - 1s 17us/step - loss: 0.4452 - acc: 0.8179 - val_loss: 0.4586 - val_acc: 0.8116\n",
      "Epoch 75/100\n",
      "32584/32584 [==============================] - 1s 18us/step - loss: 0.4449 - acc: 0.8179 - val_loss: 0.4585 - val_acc: 0.8116\n",
      "Epoch 76/100\n",
      "32584/32584 [==============================] - 1s 18us/step - loss: 0.4447 - acc: 0.8180 - val_loss: 0.4576 - val_acc: 0.8121\n",
      "Epoch 77/100\n",
      "32584/32584 [==============================] - 1s 16us/step - loss: 0.4444 - acc: 0.8182 - val_loss: 0.4576 - val_acc: 0.8121\n",
      "Epoch 78/100\n",
      "32584/32584 [==============================] - 1s 16us/step - loss: 0.4441 - acc: 0.8182 - val_loss: 0.4573 - val_acc: 0.8121\n",
      "Epoch 79/100\n",
      "32584/32584 [==============================] - 1s 16us/step - loss: 0.4438 - acc: 0.8183 - val_loss: 0.4568 - val_acc: 0.8119\n",
      "Epoch 80/100\n",
      "32584/32584 [==============================] - 1s 15us/step - loss: 0.4435 - acc: 0.8184 - val_loss: 0.4566 - val_acc: 0.8121\n",
      "Epoch 81/100\n",
      "32584/32584 [==============================] - 1s 17us/step - loss: 0.4432 - acc: 0.8184 - val_loss: 0.4565 - val_acc: 0.8121\n",
      "Epoch 82/100\n",
      "32584/32584 [==============================] - 1s 18us/step - loss: 0.4429 - acc: 0.8184 - val_loss: 0.4559 - val_acc: 0.8127\n",
      "Epoch 83/100\n",
      "32584/32584 [==============================] - 1s 20us/step - loss: 0.4426 - acc: 0.8185 - val_loss: 0.4553 - val_acc: 0.8128\n",
      "Epoch 84/100\n",
      "32584/32584 [==============================] - 1s 17us/step - loss: 0.4423 - acc: 0.8184 - val_loss: 0.4553 - val_acc: 0.8128\n",
      "Epoch 85/100\n",
      "32584/32584 [==============================] - 0s 15us/step - loss: 0.4421 - acc: 0.8185 - val_loss: 0.4547 - val_acc: 0.8127\n",
      "Epoch 86/100\n",
      "32584/32584 [==============================] - 1s 16us/step - loss: 0.4418 - acc: 0.8184 - val_loss: 0.4546 - val_acc: 0.8129\n",
      "Epoch 87/100\n",
      "32584/32584 [==============================] - 1s 16us/step - loss: 0.4415 - acc: 0.8186 - val_loss: 0.4548 - val_acc: 0.8129\n",
      "Epoch 88/100\n",
      "32584/32584 [==============================] - 1s 18us/step - loss: 0.4412 - acc: 0.8186 - val_loss: 0.4540 - val_acc: 0.8133\n",
      "Epoch 89/100\n",
      "32584/32584 [==============================] - 1s 16us/step - loss: 0.4410 - acc: 0.8187 - val_loss: 0.4537 - val_acc: 0.8133\n",
      "Epoch 90/100\n",
      "32584/32584 [==============================] - 1s 15us/step - loss: 0.4407 - acc: 0.8188 - val_loss: 0.4534 - val_acc: 0.8135\n",
      "Epoch 91/100\n",
      "32584/32584 [==============================] - 1s 15us/step - loss: 0.4404 - acc: 0.8190 - val_loss: 0.4531 - val_acc: 0.8135\n",
      "Epoch 92/100\n",
      "32584/32584 [==============================] - 1s 16us/step - loss: 0.4401 - acc: 0.8190 - val_loss: 0.4528 - val_acc: 0.8137\n",
      "Epoch 93/100\n",
      "32584/32584 [==============================] - 1s 16us/step - loss: 0.4399 - acc: 0.8191 - val_loss: 0.4524 - val_acc: 0.8135\n",
      "Epoch 94/100\n",
      "32584/32584 [==============================] - 1s 15us/step - loss: 0.4395 - acc: 0.8191 - val_loss: 0.4525 - val_acc: 0.8137\n",
      "Epoch 95/100\n",
      "32584/32584 [==============================] - 1s 16us/step - loss: 0.4393 - acc: 0.8191 - val_loss: 0.4519 - val_acc: 0.8137\n",
      "Epoch 96/100\n",
      "32584/32584 [==============================] - 0s 15us/step - loss: 0.4390 - acc: 0.8191 - val_loss: 0.4515 - val_acc: 0.8138\n",
      "Epoch 97/100\n",
      "32584/32584 [==============================] - 1s 16us/step - loss: 0.4388 - acc: 0.8193 - val_loss: 0.4511 - val_acc: 0.8137\n",
      "Epoch 98/100\n",
      "32584/32584 [==============================] - 1s 16us/step - loss: 0.4385 - acc: 0.8191 - val_loss: 0.4508 - val_acc: 0.8139\n",
      "Epoch 99/100\n",
      "32584/32584 [==============================] - 1s 16us/step - loss: 0.4382 - acc: 0.8193 - val_loss: 0.4510 - val_acc: 0.8137\n",
      "Epoch 100/100\n",
      "32584/32584 [==============================] - 0s 15us/step - loss: 0.4379 - acc: 0.8195 - val_loss: 0.4507 - val_acc: 0.8138\n"
     ]
    }
   ],
   "source": [
    "model1_history = mlp_model1.fit(X_train, y_train, epochs=100, batch_size=64, validation_split=0.2)"
   ]
  },
  {
   "cell_type": "markdown",
   "metadata": {},
   "source": [
    "##### Plot"
   ]
  },
  {
   "cell_type": "code",
   "execution_count": null,
   "metadata": {
    "collapsed": true
   },
   "outputs": [],
   "source": [
    "print(model1_history.history.keys())"
   ]
  },
  {
   "cell_type": "code",
   "execution_count": null,
   "metadata": {
    "collapsed": true
   },
   "outputs": [],
   "source": [
    "plt.plot(model1_history.history['acc'])\n",
    "plt.plot(model1_history.history['val_acc'])\n",
    "plt.title('Accuracy Plot')\n",
    "plt.ylabel('Accuracy')\n",
    "plt.xlabel('Epoch')\n",
    "plt.legend(['Train', 'Validation'])\n",
    "plt.show()"
   ]
  },
  {
   "cell_type": "code",
   "execution_count": null,
   "metadata": {
    "collapsed": true
   },
   "outputs": [],
   "source": [
    "plt.plot(model1_history.history['loss'])\n",
    "plt.plot(model1_history.history['val_loss'])\n",
    "plt.title('Loss Function Plot')\n",
    "plt.ylabel('Loss')\n",
    "plt.xlabel('Epoch')\n",
    "plt.legend(['Train', 'Validation'])\n",
    "plt.show()"
   ]
  },
  {
   "cell_type": "markdown",
   "metadata": {},
   "source": [
    "#### Predictions"
   ]
  },
  {
   "cell_type": "code",
   "execution_count": null,
   "metadata": {
    "collapsed": true
   },
   "outputs": [],
   "source": [
    "train_model1_pred = mlp_model1.predict_classes(X_train)\n",
    "test_model1_pred = mlp_model1.predict_classes(X_test)"
   ]
  },
  {
   "cell_type": "markdown",
   "metadata": {},
   "source": [
    "#### Getting evaluation metrics and evaluating model performance"
   ]
  },
  {
   "cell_type": "code",
   "execution_count": null,
   "metadata": {
    "collapsed": true
   },
   "outputs": [],
   "source": [
    "confusion_matrix_train =<>\n",
    "confusion_matrix_test = <>\n",
    "\n",
    "print(confusion_matrix_train)\n",
    "print(confusion_matrix_test)"
   ]
  },
  {
   "cell_type": "markdown",
   "metadata": {},
   "source": [
    "#### Calculate Accuracy, True Positive Rate and True Negative Rates"
   ]
  },
  {
   "cell_type": "code",
   "execution_count": null,
   "metadata": {
    "collapsed": true
   },
   "outputs": [],
   "source": [
    "Accuracy_Train_M1 =(confusion_matrix_train[0,0]+confusion_matrix_train[1,1])/(confusion_matrix_train[0,0]+confusion_matrix_train[0,1]+confusion_matrix_train[1,0]+confusion_matrix_train[1,1])\n",
    "TNR_Train_M1 = confusion_matrix_train[0,0]/(confusion_matrix_train[0,0]+confusion_matrix_train[0,1])\n",
    "TPR_Train_M1 = confusion_matrix_train[1,1]/(confusion_matrix_train[1,0]+confusion_matrix_train[1,1])\n",
    "\n",
    "print(\"Train TNR: \",TNR_Train_M1)\n",
    "print(\"Train TPR: \",TPR_Train_M1)\n",
    "print(\"Train Accuracy: \",Accuracy_Train_M1)\n",
    "\n",
    "print(\"-----------------------\")\n",
    "\n",
    "Accuracy_Test_M1 = (confusion_matrix_test[0,0]+confusion_matrix_test[1,1])/(confusion_matrix_test[0,0]+confusion_matrix_test[0,1]+confusion_matrix_test[1,0]+confusion_matrix_test[1,1])\n",
    "TNR_Test_M1 = confusion_matrix_test[0,0]/(confusion_matrix_test[0,0] +confusion_matrix_test[0,1])\n",
    "TPR_Test_M1 = confusion_matrix_test[1,1]/(confusion_matrix_test[1,0] +confusion_matrix_test[1,1])\n",
    "\n",
    "print(\"Test TNR: \",TNR_Test_M1)\n",
    "print(\"Test TPR: \",TPR_Test_M1)\n",
    "print(\"Test Accuracy: \",Accuracy_Test_M1)"
   ]
  },
  {
   "cell_type": "markdown",
   "metadata": {},
   "source": [
    "### MLP with 2 layers\n",
    "\n",
    "    1 hidden layer with 20 neurons"
   ]
  },
  {
   "cell_type": "code",
   "execution_count": 86,
   "metadata": {
    "collapsed": true
   },
   "outputs": [],
   "source": [
    "mlp_model2 = Sequential()\n",
    "\n",
    "mlp_model2.add(Dense(15,input_dim=21,activation='tanh',kernel_initializer='normal'))\n",
    "mlp_model2.add(Dense(1, activation='sigmoid', kernel_initializer='normal'))"
   ]
  },
  {
   "cell_type": "code",
   "execution_count": 87,
   "metadata": {},
   "outputs": [
    {
     "name": "stdout",
     "output_type": "stream",
     "text": [
      "_________________________________________________________________\n",
      "Layer (type)                 Output Shape              Param #   \n",
      "=================================================================\n",
      "dense_9 (Dense)              (None, 15)                330       \n",
      "_________________________________________________________________\n",
      "dense_10 (Dense)             (None, 1)                 16        \n",
      "=================================================================\n",
      "Total params: 346\n",
      "Trainable params: 346\n",
      "Non-trainable params: 0\n",
      "_________________________________________________________________\n"
     ]
    }
   ],
   "source": [
    "mlp_model2.summary()"
   ]
  },
  {
   "cell_type": "code",
   "execution_count": 88,
   "metadata": {
    "collapsed": true
   },
   "outputs": [],
   "source": [
    "mlp_model2.compile(loss='binary_crossentropy', optimizer='sgd', metrics=['accuracy'])"
   ]
  },
  {
   "cell_type": "code",
   "execution_count": 89,
   "metadata": {},
   "outputs": [
    {
     "name": "stdout",
     "output_type": "stream",
     "text": [
      "Train on 32584 samples, validate on 8146 samples\n",
      "Epoch 1/100\n",
      "32584/32584 [==============================] - 2s 54us/step - loss: 0.5528 - acc: 0.8107 - val_loss: 0.5018 - val_acc: 0.8048\n",
      "Epoch 2/100\n",
      "32584/32584 [==============================] - 1s 28us/step - loss: 0.4830 - acc: 0.8132 - val_loss: 0.4910 - val_acc: 0.8048\n",
      "Epoch 3/100\n",
      "32584/32584 [==============================] - 1s 28us/step - loss: 0.4774 - acc: 0.8132 - val_loss: 0.4896 - val_acc: 0.8048\n",
      "Epoch 4/100\n",
      "32584/32584 [==============================] - 1s 28us/step - loss: 0.4754 - acc: 0.8132 - val_loss: 0.4884 - val_acc: 0.8047\n",
      "Epoch 5/100\n",
      "32584/32584 [==============================] - 1s 28us/step - loss: 0.4738 - acc: 0.8133 - val_loss: 0.4874 - val_acc: 0.8047\n",
      "Epoch 6/100\n",
      "32584/32584 [==============================] - 1s 28us/step - loss: 0.4724 - acc: 0.8133 - val_loss: 0.4864 - val_acc: 0.8044\n",
      "Epoch 7/100\n",
      "32584/32584 [==============================] - 1s 28us/step - loss: 0.4712 - acc: 0.8133 - val_loss: 0.4854 - val_acc: 0.8044\n",
      "Epoch 8/100\n",
      "32584/32584 [==============================] - 1s 28us/step - loss: 0.4701 - acc: 0.8133 - val_loss: 0.4846 - val_acc: 0.8044\n",
      "Epoch 9/100\n",
      "32584/32584 [==============================] - 1s 28us/step - loss: 0.4692 - acc: 0.8134 - val_loss: 0.4839 - val_acc: 0.8044\n",
      "Epoch 10/100\n",
      "32584/32584 [==============================] - 1s 28us/step - loss: 0.4684 - acc: 0.8135 - val_loss: 0.4833 - val_acc: 0.8047\n",
      "Epoch 11/100\n",
      "32584/32584 [==============================] - 1s 28us/step - loss: 0.4677 - acc: 0.8135 - val_loss: 0.4827 - val_acc: 0.8049\n",
      "Epoch 12/100\n",
      "32584/32584 [==============================] - 1s 28us/step - loss: 0.4670 - acc: 0.8134 - val_loss: 0.4822 - val_acc: 0.8049\n",
      "Epoch 13/100\n",
      "32584/32584 [==============================] - 1s 27us/step - loss: 0.4665 - acc: 0.8136 - val_loss: 0.4817 - val_acc: 0.8051\n",
      "Epoch 14/100\n",
      "32584/32584 [==============================] - 1s 28us/step - loss: 0.4659 - acc: 0.8137 - val_loss: 0.4811 - val_acc: 0.8052\n",
      "Epoch 15/100\n",
      "32584/32584 [==============================] - 1s 29us/step - loss: 0.4654 - acc: 0.8138 - val_loss: 0.4805 - val_acc: 0.8053\n",
      "Epoch 16/100\n",
      "32584/32584 [==============================] - 1s 28us/step - loss: 0.4649 - acc: 0.8139 - val_loss: 0.4800 - val_acc: 0.8055\n",
      "Epoch 17/100\n",
      "32584/32584 [==============================] - 1s 28us/step - loss: 0.4645 - acc: 0.8140 - val_loss: 0.4796 - val_acc: 0.8059\n",
      "Epoch 18/100\n",
      "32584/32584 [==============================] - 1s 28us/step - loss: 0.4641 - acc: 0.8140 - val_loss: 0.4790 - val_acc: 0.8060\n",
      "Epoch 19/100\n",
      "32584/32584 [==============================] - 1s 27us/step - loss: 0.4636 - acc: 0.8140 - val_loss: 0.4786 - val_acc: 0.8063\n",
      "Epoch 20/100\n",
      "32584/32584 [==============================] - 1s 27us/step - loss: 0.4632 - acc: 0.8140 - val_loss: 0.4781 - val_acc: 0.8063\n",
      "Epoch 21/100\n",
      "32584/32584 [==============================] - 1s 27us/step - loss: 0.4628 - acc: 0.8141 - val_loss: 0.4776 - val_acc: 0.8068\n",
      "Epoch 22/100\n",
      "32584/32584 [==============================] - 1s 27us/step - loss: 0.4624 - acc: 0.8142 - val_loss: 0.4772 - val_acc: 0.8067\n",
      "Epoch 23/100\n",
      "32584/32584 [==============================] - 1s 27us/step - loss: 0.4620 - acc: 0.8141 - val_loss: 0.4767 - val_acc: 0.8067\n",
      "Epoch 24/100\n",
      "32584/32584 [==============================] - 1s 27us/step - loss: 0.4617 - acc: 0.8141 - val_loss: 0.4761 - val_acc: 0.8069\n",
      "Epoch 25/100\n",
      "32584/32584 [==============================] - 1s 27us/step - loss: 0.4613 - acc: 0.8141 - val_loss: 0.4757 - val_acc: 0.8070\n",
      "Epoch 26/100\n",
      "32584/32584 [==============================] - 1s 27us/step - loss: 0.4609 - acc: 0.8143 - val_loss: 0.4754 - val_acc: 0.8070\n",
      "Epoch 27/100\n",
      "32584/32584 [==============================] - 1s 27us/step - loss: 0.4606 - acc: 0.8143 - val_loss: 0.4748 - val_acc: 0.8074\n",
      "Epoch 28/100\n",
      "32584/32584 [==============================] - 1s 27us/step - loss: 0.4602 - acc: 0.8144 - val_loss: 0.4747 - val_acc: 0.8074\n",
      "Epoch 29/100\n",
      "32584/32584 [==============================] - 1s 27us/step - loss: 0.4599 - acc: 0.8144 - val_loss: 0.4740 - val_acc: 0.8075\n",
      "Epoch 30/100\n",
      "32584/32584 [==============================] - 1s 27us/step - loss: 0.4595 - acc: 0.8146 - val_loss: 0.4739 - val_acc: 0.8078\n",
      "Epoch 31/100\n",
      "32584/32584 [==============================] - 1s 26us/step - loss: 0.4592 - acc: 0.8146 - val_loss: 0.4733 - val_acc: 0.8079\n",
      "Epoch 32/100\n",
      "32584/32584 [==============================] - 1s 27us/step - loss: 0.4588 - acc: 0.8148 - val_loss: 0.4729 - val_acc: 0.8080\n",
      "Epoch 33/100\n",
      "32584/32584 [==============================] - 1s 26us/step - loss: 0.4584 - acc: 0.8147 - val_loss: 0.4728 - val_acc: 0.8080\n",
      "Epoch 34/100\n",
      "32584/32584 [==============================] - 1s 26us/step - loss: 0.4582 - acc: 0.8147 - val_loss: 0.4721 - val_acc: 0.8076\n",
      "Epoch 35/100\n",
      "32584/32584 [==============================] - 1s 27us/step - loss: 0.4578 - acc: 0.8148 - val_loss: 0.4718 - val_acc: 0.8075\n",
      "Epoch 36/100\n",
      "32584/32584 [==============================] - 1s 26us/step - loss: 0.4575 - acc: 0.8148 - val_loss: 0.4716 - val_acc: 0.8076\n",
      "Epoch 37/100\n",
      "32584/32584 [==============================] - 1s 26us/step - loss: 0.4572 - acc: 0.8148 - val_loss: 0.4713 - val_acc: 0.8080\n",
      "Epoch 38/100\n",
      "32584/32584 [==============================] - 1s 27us/step - loss: 0.4568 - acc: 0.8148 - val_loss: 0.4707 - val_acc: 0.8082\n",
      "Epoch 39/100\n",
      "32584/32584 [==============================] - 1s 26us/step - loss: 0.4565 - acc: 0.8148 - val_loss: 0.4706 - val_acc: 0.8081\n",
      "Epoch 40/100\n",
      "32584/32584 [==============================] - 1s 26us/step - loss: 0.4562 - acc: 0.8149 - val_loss: 0.4700 - val_acc: 0.8080\n",
      "Epoch 41/100\n",
      "32584/32584 [==============================] - 1s 26us/step - loss: 0.4558 - acc: 0.8150 - val_loss: 0.4696 - val_acc: 0.8082\n",
      "Epoch 42/100\n",
      "32584/32584 [==============================] - 1s 26us/step - loss: 0.4554 - acc: 0.8151 - val_loss: 0.4697 - val_acc: 0.8082\n",
      "Epoch 43/100\n",
      "32584/32584 [==============================] - 1s 26us/step - loss: 0.4552 - acc: 0.8152 - val_loss: 0.4691 - val_acc: 0.8087\n",
      "Epoch 44/100\n",
      "32584/32584 [==============================] - 1s 26us/step - loss: 0.4548 - acc: 0.8154 - val_loss: 0.4686 - val_acc: 0.8090\n",
      "Epoch 45/100\n",
      "32584/32584 [==============================] - 1s 26us/step - loss: 0.4545 - acc: 0.8156 - val_loss: 0.4684 - val_acc: 0.8091\n",
      "Epoch 46/100\n",
      "32584/32584 [==============================] - 1s 26us/step - loss: 0.4542 - acc: 0.8156 - val_loss: 0.4681 - val_acc: 0.8094\n",
      "Epoch 47/100\n",
      "32584/32584 [==============================] - 1s 26us/step - loss: 0.4538 - acc: 0.8156 - val_loss: 0.4675 - val_acc: 0.8095\n",
      "Epoch 48/100\n",
      "32584/32584 [==============================] - 1s 26us/step - loss: 0.4535 - acc: 0.8157 - val_loss: 0.4672 - val_acc: 0.8097\n",
      "Epoch 49/100\n",
      "32584/32584 [==============================] - 1s 26us/step - loss: 0.4531 - acc: 0.8159 - val_loss: 0.4669 - val_acc: 0.8096\n",
      "Epoch 50/100\n",
      "32584/32584 [==============================] - 1s 26us/step - loss: 0.4528 - acc: 0.8160 - val_loss: 0.4665 - val_acc: 0.8097\n",
      "Epoch 51/100\n",
      "32584/32584 [==============================] - 1s 26us/step - loss: 0.4525 - acc: 0.8162 - val_loss: 0.4661 - val_acc: 0.8097\n",
      "Epoch 52/100\n",
      "32584/32584 [==============================] - 1s 26us/step - loss: 0.4521 - acc: 0.8164 - val_loss: 0.4659 - val_acc: 0.8098\n",
      "Epoch 53/100\n",
      "32584/32584 [==============================] - 1s 27us/step - loss: 0.4518 - acc: 0.8163 - val_loss: 0.4655 - val_acc: 0.8100\n",
      "Epoch 54/100\n",
      "32584/32584 [==============================] - 1s 26us/step - loss: 0.4515 - acc: 0.8165 - val_loss: 0.4650 - val_acc: 0.8100\n",
      "Epoch 55/100\n",
      "32584/32584 [==============================] - 1s 26us/step - loss: 0.4511 - acc: 0.8165 - val_loss: 0.4647 - val_acc: 0.8105\n",
      "Epoch 56/100\n",
      "32584/32584 [==============================] - 1s 27us/step - loss: 0.4508 - acc: 0.8166 - val_loss: 0.4643 - val_acc: 0.8103\n",
      "Epoch 57/100\n",
      "32584/32584 [==============================] - 1s 26us/step - loss: 0.4505 - acc: 0.8169 - val_loss: 0.4639 - val_acc: 0.8107\n",
      "Epoch 58/100\n",
      "32584/32584 [==============================] - 1s 26us/step - loss: 0.4502 - acc: 0.8170 - val_loss: 0.4636 - val_acc: 0.8110\n",
      "Epoch 59/100\n",
      "32584/32584 [==============================] - 1s 28us/step - loss: 0.4498 - acc: 0.8169 - val_loss: 0.4635 - val_acc: 0.8112\n",
      "Epoch 60/100\n",
      "32584/32584 [==============================] - 1s 28us/step - loss: 0.4496 - acc: 0.8169 - val_loss: 0.4632 - val_acc: 0.8110\n",
      "Epoch 61/100\n",
      "32584/32584 [==============================] - 1s 28us/step - loss: 0.4492 - acc: 0.8170 - val_loss: 0.4628 - val_acc: 0.8112\n",
      "Epoch 62/100\n",
      "32584/32584 [==============================] - 1s 28us/step - loss: 0.4489 - acc: 0.8171 - val_loss: 0.4625 - val_acc: 0.8112\n",
      "Epoch 63/100\n",
      "32584/32584 [==============================] - 1s 28us/step - loss: 0.4486 - acc: 0.8173 - val_loss: 0.4621 - val_acc: 0.8112\n",
      "Epoch 64/100\n",
      "32584/32584 [==============================] - 1s 28us/step - loss: 0.4483 - acc: 0.8174 - val_loss: 0.4617 - val_acc: 0.8113\n",
      "Epoch 65/100\n",
      "32584/32584 [==============================] - 1s 28us/step - loss: 0.4480 - acc: 0.8175 - val_loss: 0.4615 - val_acc: 0.8111\n",
      "Epoch 66/100\n",
      "32584/32584 [==============================] - 1s 28us/step - loss: 0.4476 - acc: 0.8176 - val_loss: 0.4609 - val_acc: 0.8113\n",
      "Epoch 67/100\n",
      "32584/32584 [==============================] - 1s 28us/step - loss: 0.4473 - acc: 0.8176 - val_loss: 0.4609 - val_acc: 0.8113\n",
      "Epoch 68/100\n",
      "32584/32584 [==============================] - 1s 28us/step - loss: 0.4471 - acc: 0.8177 - val_loss: 0.4604 - val_acc: 0.8113\n",
      "Epoch 69/100\n",
      "32584/32584 [==============================] - 1s 28us/step - loss: 0.4467 - acc: 0.8177 - val_loss: 0.4602 - val_acc: 0.8113\n",
      "Epoch 70/100\n",
      "32584/32584 [==============================] - 1s 28us/step - loss: 0.4464 - acc: 0.8177 - val_loss: 0.4598 - val_acc: 0.8117\n",
      "Epoch 71/100\n",
      "32584/32584 [==============================] - 1s 28us/step - loss: 0.4461 - acc: 0.8178 - val_loss: 0.4592 - val_acc: 0.8118\n",
      "Epoch 72/100\n",
      "32584/32584 [==============================] - 1s 28us/step - loss: 0.4458 - acc: 0.8178 - val_loss: 0.4590 - val_acc: 0.8118\n",
      "Epoch 73/100\n",
      "32584/32584 [==============================] - 1s 28us/step - loss: 0.4455 - acc: 0.8180 - val_loss: 0.4586 - val_acc: 0.8118\n",
      "Epoch 74/100\n",
      "32584/32584 [==============================] - 1s 28us/step - loss: 0.4452 - acc: 0.8180 - val_loss: 0.4584 - val_acc: 0.8118\n",
      "Epoch 75/100\n",
      "32584/32584 [==============================] - 1s 28us/step - loss: 0.4449 - acc: 0.8181 - val_loss: 0.4580 - val_acc: 0.8119\n",
      "Epoch 76/100\n",
      "32584/32584 [==============================] - 1s 28us/step - loss: 0.4447 - acc: 0.8181 - val_loss: 0.4577 - val_acc: 0.8119\n",
      "Epoch 77/100\n",
      "32584/32584 [==============================] - 1s 27us/step - loss: 0.4444 - acc: 0.8182 - val_loss: 0.4575 - val_acc: 0.8122\n",
      "Epoch 78/100\n",
      "32584/32584 [==============================] - 1s 27us/step - loss: 0.4440 - acc: 0.8182 - val_loss: 0.4573 - val_acc: 0.8122\n",
      "Epoch 79/100\n",
      "32584/32584 [==============================] - 1s 27us/step - loss: 0.4438 - acc: 0.8182 - val_loss: 0.4567 - val_acc: 0.8123\n",
      "Epoch 80/100\n",
      "32584/32584 [==============================] - 1s 27us/step - loss: 0.4435 - acc: 0.8183 - val_loss: 0.4566 - val_acc: 0.8123\n",
      "Epoch 81/100\n",
      "32584/32584 [==============================] - 1s 28us/step - loss: 0.4432 - acc: 0.8183 - val_loss: 0.4564 - val_acc: 0.8125\n",
      "Epoch 82/100\n",
      "32584/32584 [==============================] - 1s 27us/step - loss: 0.4430 - acc: 0.8183 - val_loss: 0.4563 - val_acc: 0.8127\n",
      "Epoch 83/100\n",
      "32584/32584 [==============================] - 1s 27us/step - loss: 0.4427 - acc: 0.8185 - val_loss: 0.4561 - val_acc: 0.8124\n",
      "Epoch 84/100\n",
      "32584/32584 [==============================] - 1s 27us/step - loss: 0.4424 - acc: 0.8185 - val_loss: 0.4557 - val_acc: 0.8125\n",
      "Epoch 85/100\n",
      "32584/32584 [==============================] - 1s 28us/step - loss: 0.4421 - acc: 0.8184 - val_loss: 0.4551 - val_acc: 0.8125\n",
      "Epoch 86/100\n",
      "32584/32584 [==============================] - 1s 28us/step - loss: 0.4419 - acc: 0.8184 - val_loss: 0.4550 - val_acc: 0.8125\n",
      "Epoch 87/100\n",
      "32584/32584 [==============================] - 1s 27us/step - loss: 0.4416 - acc: 0.8186 - val_loss: 0.4544 - val_acc: 0.8128\n",
      "Epoch 88/100\n",
      "32584/32584 [==============================] - 1s 27us/step - loss: 0.4414 - acc: 0.8185 - val_loss: 0.4541 - val_acc: 0.8128\n",
      "Epoch 89/100\n",
      "32584/32584 [==============================] - 1s 27us/step - loss: 0.4411 - acc: 0.8186 - val_loss: 0.4539 - val_acc: 0.8129\n",
      "Epoch 90/100\n",
      "32584/32584 [==============================] - 1s 27us/step - loss: 0.4408 - acc: 0.8187 - val_loss: 0.4539 - val_acc: 0.8128\n",
      "Epoch 91/100\n",
      "32584/32584 [==============================] - 1s 27us/step - loss: 0.4405 - acc: 0.8190 - val_loss: 0.4533 - val_acc: 0.8130\n",
      "Epoch 92/100\n",
      "32584/32584 [==============================] - 1s 27us/step - loss: 0.4403 - acc: 0.8189 - val_loss: 0.4533 - val_acc: 0.8130\n",
      "Epoch 93/100\n",
      "32584/32584 [==============================] - 1s 28us/step - loss: 0.4400 - acc: 0.8191 - val_loss: 0.4534 - val_acc: 0.8129\n",
      "Epoch 94/100\n",
      "32584/32584 [==============================] - 1s 28us/step - loss: 0.4399 - acc: 0.8191 - val_loss: 0.4528 - val_acc: 0.8133\n",
      "Epoch 95/100\n",
      "32584/32584 [==============================] - 1s 28us/step - loss: 0.4394 - acc: 0.8192 - val_loss: 0.4521 - val_acc: 0.8137\n",
      "Epoch 96/100\n",
      "32584/32584 [==============================] - 1s 28us/step - loss: 0.4392 - acc: 0.8191 - val_loss: 0.4517 - val_acc: 0.8137\n",
      "Epoch 97/100\n",
      "32584/32584 [==============================] - 1s 26us/step - loss: 0.4390 - acc: 0.8193 - val_loss: 0.4518 - val_acc: 0.8139\n",
      "Epoch 98/100\n",
      "32584/32584 [==============================] - 1s 27us/step - loss: 0.4388 - acc: 0.8193 - val_loss: 0.4512 - val_acc: 0.8141\n",
      "Epoch 99/100\n",
      "32584/32584 [==============================] - 1s 28us/step - loss: 0.4385 - acc: 0.8194 - val_loss: 0.4519 - val_acc: 0.8138\n",
      "Epoch 100/100\n",
      "32584/32584 [==============================] - 1s 27us/step - loss: 0.4382 - acc: 0.8195 - val_loss: 0.4507 - val_acc: 0.8143\n"
     ]
    }
   ],
   "source": [
    "model2_history = mlp_model2.fit(X_train, y_train, epochs=100, batch_size=64, validation_split=0.2)"
   ]
  },
  {
   "cell_type": "markdown",
   "metadata": {},
   "source": [
    "##### Plot"
   ]
  },
  {
   "cell_type": "code",
   "execution_count": 90,
   "metadata": {},
   "outputs": [
    {
     "name": "stdout",
     "output_type": "stream",
     "text": [
      "dict_keys(['loss', 'val_acc', 'val_loss', 'acc'])\n"
     ]
    }
   ],
   "source": [
    "print(model2_history.history.keys())"
   ]
  },
  {
   "cell_type": "code",
   "execution_count": 91,
   "metadata": {},
   "outputs": [
    {
     "data": {
      "image/png": "[encoded data removed]",
      "text/plain": [
       "<matplotlib.figure.Figure at 0x1e1db597128>"
      ]
     },
     "metadata": {},
     "output_type": "display_data"
    }
   ],
   "source": [
    "plt.plot(model2_history.history['acc'])\n",
    "plt.plot(model2_history.history['val_acc'])\n",
    "plt.title('Accuracy Plot')\n",
    "plt.ylabel('Accuracy')\n",
    "plt.xlabel('Epoch')\n",
    "plt.legend(['Train', 'Validation'])\n",
    "plt.show()"
   ]
  },
  {
   "cell_type": "code",
   "execution_count": 92,
   "metadata": {},
   "outputs": [
    {
     "data": {
      "image/png": "[encoded data removed]",
      "text/plain": [
       "<matplotlib.figure.Figure at 0x1e1e127fb70>"
      ]
     },
     "metadata": {},
     "output_type": "display_data"
    }
   ],
   "source": [
    "plt.plot(model2_history.history['loss'])\n",
    "plt.plot(model2_history.history['val_loss'])\n",
    "plt.title('Loss Function Plot')\n",
    "plt.ylabel('Loss')\n",
    "plt.xlabel('Epoch')\n",
    "plt.legend(['Train', 'Validation'])\n",
    "plt.show()"
   ]
  },
  {
   "cell_type": "markdown",
   "metadata": {},
   "source": [
    "#### Predictions"
   ]
  },
  {
   "cell_type": "code",
   "execution_count": 93,
   "metadata": {
    "collapsed": true
   },
   "outputs": [],
   "source": [
    "train_model2_pred = mlp_model2.predict_classes(X_train)\n",
    "test_model2_pred = mlp_model2.predict_classes(X_test)"
   ]
  },
  {
   "cell_type": "markdown",
   "metadata": {},
   "source": [
    "#### Getting evaluation metrics and evaluating model performance"
   ]
  },
  {
   "cell_type": "code",
   "execution_count": 94,
   "metadata": {},
   "outputs": [
    {
     "name": "stdout",
     "output_type": "stream",
     "text": [
      "[[32881   171]\n",
      " [ 7217   461]]\n",
      "[[14088    77]\n",
      " [ 3083   208]]\n"
     ]
    }
   ],
   "source": [
    "confusion_matrix_train = confusion_matrix(y_train, train_model2_pred)\n",
    "confusion_matrix_test = confusion_matrix(y_test, test_model2_pred)\n",
    "\n",
    "print(confusion_matrix_train)\n",
    "print(confusion_matrix_test)"
   ]
  },
  {
   "cell_type": "markdown",
   "metadata": {},
   "source": [
    "#### Calculate Accuracy, True Positive Rate and True Negative Rates"
   ]
  },
  {
   "cell_type": "code",
   "execution_count": 95,
   "metadata": {},
   "outputs": [
    {
     "name": "stdout",
     "output_type": "stream",
     "text": [
      "Train TNR:  0.994826334261\n",
      "Train TPR:  0.0600416775202\n",
      "Train Accuracy:  0.818610360913\n",
      "-----------------------\n",
      "Test TNR:  0.994564066361\n",
      "Test TPR:  0.0632026739593\n",
      "Test Accuracy:  0.818973418882\n"
     ]
    }
   ],
   "source": [
    "Accuracy_Train_M2 =(confusion_matrix_train[0,0]+confusion_matrix_train[1,1])/(confusion_matrix_train[0,0]+confusion_matrix_train[0,1]+confusion_matrix_train[1,0]+confusion_matrix_train[1,1])\n",
    "TNR_Train_M2 = confusion_matrix_train[0,0]/(confusion_matrix_train[0,0]+confusion_matrix_train[0,1])\n",
    "TPR_Train_M2 = confusion_matrix_train[1,1]/(confusion_matrix_train[1,0]+confusion_matrix_train[1,1])\n",
    "\n",
    "print(\"Train TNR: \",TNR_Train_M2)\n",
    "print(\"Train TPR: \",TPR_Train_M2)\n",
    "print(\"Train Accuracy: \",Accuracy_Train_M2)\n",
    "\n",
    "print(\"-----------------------\")\n",
    "\n",
    "Accuracy_Test_M2 = (confusion_matrix_test[0,0]+confusion_matrix_test[1,1])/(confusion_matrix_test[0,0]+confusion_matrix_test[0,1]+confusion_matrix_test[1,0]+confusion_matrix_test[1,1])\n",
    "TNR_Test_M2 = confusion_matrix_test[0,0]/(confusion_matrix_test[0,0] +confusion_matrix_test[0,1])\n",
    "TPR_Test_M2 = confusion_matrix_test[1,1]/(confusion_matrix_test[1,0] +confusion_matrix_test[1,1])\n",
    "\n",
    "print(\"Test TNR: \",TNR_Test_M2)\n",
    "print(\"Test TPR: \",TPR_Test_M2)\n",
    "print(\"Test Accuracy: \",Accuracy_Test_M2)"
   ]
  },
  {
   "cell_type": "markdown",
   "metadata": {},
   "source": [
    "### MLP with 2 layers\n",
    "\n",
    "    1 hidden layer with 25 neurons"
   ]
  },
  {
   "cell_type": "code",
   "execution_count": 96,
   "metadata": {
    "collapsed": true
   },
   "outputs": [],
   "source": [
    "mlp_model3 = Sequential()\n",
    "\n",
    "mlp_model3.add(Dense(25,input_dim=21,activation='tanh',kernel_initializer='normal'))\n",
    "mlp_model3.add(Dense(1, activation='sigmoid', kernel_initializer='normal'))"
   ]
  },
  {
   "cell_type": "code",
   "execution_count": 97,
   "metadata": {},
   "outputs": [
    {
     "name": "stdout",
     "output_type": "stream",
     "text": [
      "_________________________________________________________________\n",
      "Layer (type)                 Output Shape              Param #   \n",
      "=================================================================\n",
      "dense_11 (Dense)             (None, 25)                550       \n",
      "_________________________________________________________________\n",
      "dense_12 (Dense)             (None, 1)                 26        \n",
      "=================================================================\n",
      "Total params: 576\n",
      "Trainable params: 576\n",
      "Non-trainable params: 0\n",
      "_________________________________________________________________\n"
     ]
    }
   ],
   "source": [
    "mlp_model3.summary()"
   ]
  },
  {
   "cell_type": "code",
   "execution_count": 98,
   "metadata": {
    "collapsed": true
   },
   "outputs": [],
   "source": [
    "mlp_model3.compile(loss='binary_crossentropy', optimizer='sgd', metrics=['accuracy'])"
   ]
  },
  {
   "cell_type": "code",
   "execution_count": 99,
   "metadata": {},
   "outputs": [
    {
     "name": "stdout",
     "output_type": "stream",
     "text": [
      "Train on 32584 samples, validate on 8146 samples\n",
      "Epoch 1/100\n",
      "32584/32584 [==============================] - 2s 47us/step - loss: 0.5398 - acc: 0.8119 - val_loss: 0.4956 - val_acc: 0.8048\n",
      "Epoch 2/100\n",
      "32584/32584 [==============================] - 1s 29us/step - loss: 0.4790 - acc: 0.8132 - val_loss: 0.4893 - val_acc: 0.8048\n",
      "Epoch 3/100\n",
      "32584/32584 [==============================] - 1s 27us/step - loss: 0.4749 - acc: 0.8131 - val_loss: 0.4879 - val_acc: 0.8046\n",
      "Epoch 4/100\n",
      "32584/32584 [==============================] - 1s 27us/step - loss: 0.4729 - acc: 0.8131 - val_loss: 0.4865 - val_acc: 0.8046\n",
      "Epoch 5/100\n",
      "32584/32584 [==============================] - 1s 29us/step - loss: 0.4713 - acc: 0.8133 - val_loss: 0.4856 - val_acc: 0.8044\n",
      "Epoch 6/100\n",
      "32584/32584 [==============================] - 1s 26us/step - loss: 0.4700 - acc: 0.8133 - val_loss: 0.4846 - val_acc: 0.8044\n",
      "Epoch 7/100\n",
      "32584/32584 [==============================] - 1s 27us/step - loss: 0.4690 - acc: 0.8133 - val_loss: 0.4839 - val_acc: 0.8044\n",
      "Epoch 8/100\n",
      "32584/32584 [==============================] - 1s 27us/step - loss: 0.4681 - acc: 0.8134 - val_loss: 0.4832 - val_acc: 0.8043\n",
      "Epoch 9/100\n",
      "32584/32584 [==============================] - 1s 29us/step - loss: 0.4674 - acc: 0.8134 - val_loss: 0.4828 - val_acc: 0.8046\n",
      "Epoch 10/100\n",
      "32584/32584 [==============================] - 1s 28us/step - loss: 0.4667 - acc: 0.8134 - val_loss: 0.4820 - val_acc: 0.8047\n",
      "Epoch 11/100\n",
      "32584/32584 [==============================] - 1s 28us/step - loss: 0.4661 - acc: 0.8135 - val_loss: 0.4816 - val_acc: 0.8048\n",
      "Epoch 12/100\n",
      "32584/32584 [==============================] - 1s 27us/step - loss: 0.4656 - acc: 0.8136 - val_loss: 0.4809 - val_acc: 0.8049\n",
      "Epoch 13/100\n",
      "32584/32584 [==============================] - 1s 28us/step - loss: 0.4651 - acc: 0.8138 - val_loss: 0.4804 - val_acc: 0.8053\n",
      "Epoch 14/100\n",
      "32584/32584 [==============================] - 1s 28us/step - loss: 0.4646 - acc: 0.8138 - val_loss: 0.4800 - val_acc: 0.8055\n",
      "Epoch 15/100\n",
      "32584/32584 [==============================] - 1s 28us/step - loss: 0.4642 - acc: 0.8139 - val_loss: 0.4794 - val_acc: 0.8055\n",
      "Epoch 16/100\n",
      "32584/32584 [==============================] - 1s 28us/step - loss: 0.4637 - acc: 0.8140 - val_loss: 0.4789 - val_acc: 0.8058\n",
      "Epoch 17/100\n",
      "32584/32584 [==============================] - 1s 28us/step - loss: 0.4633 - acc: 0.8140 - val_loss: 0.4784 - val_acc: 0.8060\n",
      "Epoch 18/100\n",
      "32584/32584 [==============================] - 1s 27us/step - loss: 0.4629 - acc: 0.8141 - val_loss: 0.4779 - val_acc: 0.8062\n",
      "Epoch 19/100\n",
      "32584/32584 [==============================] - 1s 28us/step - loss: 0.4625 - acc: 0.8141 - val_loss: 0.4774 - val_acc: 0.8065\n",
      "Epoch 20/100\n",
      "32584/32584 [==============================] - 1s 28us/step - loss: 0.4621 - acc: 0.8142 - val_loss: 0.4770 - val_acc: 0.8068\n",
      "Epoch 21/100\n",
      "32584/32584 [==============================] - 1s 28us/step - loss: 0.4617 - acc: 0.8143 - val_loss: 0.4764 - val_acc: 0.8071\n",
      "Epoch 22/100\n",
      "32584/32584 [==============================] - 1s 28us/step - loss: 0.4614 - acc: 0.8143 - val_loss: 0.4760 - val_acc: 0.8071\n",
      "Epoch 23/100\n",
      "32584/32584 [==============================] - 1s 27us/step - loss: 0.4610 - acc: 0.8144 - val_loss: 0.4755 - val_acc: 0.8070\n",
      "Epoch 24/100\n",
      "32584/32584 [==============================] - 1s 27us/step - loss: 0.4606 - acc: 0.8145 - val_loss: 0.4752 - val_acc: 0.8070\n",
      "Epoch 25/100\n",
      "32584/32584 [==============================] - 1s 28us/step - loss: 0.4603 - acc: 0.8145 - val_loss: 0.4747 - val_acc: 0.8074\n",
      "Epoch 26/100\n",
      "32584/32584 [==============================] - 1s 28us/step - loss: 0.4599 - acc: 0.8145 - val_loss: 0.4742 - val_acc: 0.8074\n",
      "Epoch 27/100\n",
      "32584/32584 [==============================] - 1s 28us/step - loss: 0.4596 - acc: 0.8147 - val_loss: 0.4739 - val_acc: 0.8074\n",
      "Epoch 28/100\n",
      "32584/32584 [==============================] - 1s 28us/step - loss: 0.4592 - acc: 0.8147 - val_loss: 0.4734 - val_acc: 0.8076\n",
      "Epoch 29/100\n",
      "32584/32584 [==============================] - 1s 27us/step - loss: 0.4588 - acc: 0.8148 - val_loss: 0.4730 - val_acc: 0.8076\n",
      "Epoch 30/100\n",
      "32584/32584 [==============================] - 1s 27us/step - loss: 0.4585 - acc: 0.8148 - val_loss: 0.4727 - val_acc: 0.8076\n",
      "Epoch 31/100\n",
      "32584/32584 [==============================] - 1s 24us/step - loss: 0.4581 - acc: 0.8149 - val_loss: 0.4722 - val_acc: 0.8079\n",
      "Epoch 32/100\n",
      "32584/32584 [==============================] - 1s 25us/step - loss: 0.4578 - acc: 0.8150 - val_loss: 0.4718 - val_acc: 0.8078\n",
      "Epoch 33/100\n",
      "32584/32584 [==============================] - 1s 27us/step - loss: 0.4574 - acc: 0.8151 - val_loss: 0.4716 - val_acc: 0.8078\n",
      "Epoch 34/100\n",
      "32584/32584 [==============================] - 1s 27us/step - loss: 0.4571 - acc: 0.8151 - val_loss: 0.4712 - val_acc: 0.8076\n",
      "Epoch 35/100\n",
      "32584/32584 [==============================] - 1s 27us/step - loss: 0.4568 - acc: 0.8151 - val_loss: 0.4709 - val_acc: 0.8076\n",
      "Epoch 36/100\n",
      "32584/32584 [==============================] - 1s 27us/step - loss: 0.4564 - acc: 0.8151 - val_loss: 0.4705 - val_acc: 0.8074\n",
      "Epoch 37/100\n",
      "32584/32584 [==============================] - 1s 26us/step - loss: 0.4561 - acc: 0.8151 - val_loss: 0.4700 - val_acc: 0.8076\n",
      "Epoch 38/100\n",
      "32584/32584 [==============================] - 1s 26us/step - loss: 0.4557 - acc: 0.8152 - val_loss: 0.4697 - val_acc: 0.8078\n",
      "Epoch 39/100\n",
      "32584/32584 [==============================] - 1s 27us/step - loss: 0.4554 - acc: 0.8152 - val_loss: 0.4695 - val_acc: 0.8079\n",
      "Epoch 40/100\n",
      "32584/32584 [==============================] - 1s 27us/step - loss: 0.4551 - acc: 0.8153 - val_loss: 0.4690 - val_acc: 0.8080\n",
      "Epoch 41/100\n",
      "32584/32584 [==============================] - 1s 26us/step - loss: 0.4547 - acc: 0.8152 - val_loss: 0.4685 - val_acc: 0.8087\n",
      "Epoch 42/100\n",
      "32584/32584 [==============================] - 1s 26us/step - loss: 0.4544 - acc: 0.8154 - val_loss: 0.4684 - val_acc: 0.8086\n",
      "Epoch 43/100\n",
      "32584/32584 [==============================] - 1s 26us/step - loss: 0.4541 - acc: 0.8154 - val_loss: 0.4680 - val_acc: 0.8089\n",
      "Epoch 44/100\n",
      "32584/32584 [==============================] - 1s 27us/step - loss: 0.4537 - acc: 0.8156 - val_loss: 0.4676 - val_acc: 0.8091\n",
      "Epoch 45/100\n",
      "32584/32584 [==============================] - 1s 27us/step - loss: 0.4534 - acc: 0.8156 - val_loss: 0.4674 - val_acc: 0.8090\n",
      "Epoch 46/100\n",
      "32584/32584 [==============================] - 1s 27us/step - loss: 0.4531 - acc: 0.8158 - val_loss: 0.4669 - val_acc: 0.8092\n",
      "Epoch 47/100\n",
      "32584/32584 [==============================] - 1s 27us/step - loss: 0.4527 - acc: 0.8159 - val_loss: 0.4665 - val_acc: 0.8092\n",
      "Epoch 48/100\n",
      "32584/32584 [==============================] - 1s 26us/step - loss: 0.4524 - acc: 0.8161 - val_loss: 0.4662 - val_acc: 0.8091\n",
      "Epoch 49/100\n",
      "32584/32584 [==============================] - 1s 27us/step - loss: 0.4521 - acc: 0.8160 - val_loss: 0.4659 - val_acc: 0.8092\n",
      "Epoch 50/100\n",
      "32584/32584 [==============================] - 1s 26us/step - loss: 0.4517 - acc: 0.8162 - val_loss: 0.4655 - val_acc: 0.8094\n",
      "Epoch 51/100\n",
      "32584/32584 [==============================] - 1s 26us/step - loss: 0.4514 - acc: 0.8162 - val_loss: 0.4655 - val_acc: 0.8095\n",
      "Epoch 52/100\n",
      "32584/32584 [==============================] - 1s 26us/step - loss: 0.4510 - acc: 0.8161 - val_loss: 0.4647 - val_acc: 0.8095\n",
      "Epoch 53/100\n",
      "32584/32584 [==============================] - 1s 26us/step - loss: 0.4507 - acc: 0.8162 - val_loss: 0.4644 - val_acc: 0.8098\n",
      "Epoch 54/100\n",
      "32584/32584 [==============================] - 1s 27us/step - loss: 0.4504 - acc: 0.8162 - val_loss: 0.4641 - val_acc: 0.8098\n",
      "Epoch 55/100\n",
      "32584/32584 [==============================] - 1s 27us/step - loss: 0.4500 - acc: 0.8164 - val_loss: 0.4637 - val_acc: 0.8100\n",
      "Epoch 56/100\n",
      "32584/32584 [==============================] - 1s 27us/step - loss: 0.4497 - acc: 0.8165 - val_loss: 0.4634 - val_acc: 0.8101\n",
      "Epoch 57/100\n",
      "32584/32584 [==============================] - 1s 27us/step - loss: 0.4493 - acc: 0.8166 - val_loss: 0.4629 - val_acc: 0.8103\n",
      "Epoch 58/100\n",
      "32584/32584 [==============================] - 1s 27us/step - loss: 0.4490 - acc: 0.8165 - val_loss: 0.4625 - val_acc: 0.8106\n",
      "Epoch 59/100\n",
      "32584/32584 [==============================] - 1s 28us/step - loss: 0.4485 - acc: 0.8170 - val_loss: 0.4629 - val_acc: 0.8102\n",
      "Epoch 60/100\n",
      "32584/32584 [==============================] - 1s 25us/step - loss: 0.4484 - acc: 0.8169 - val_loss: 0.4620 - val_acc: 0.8107\n",
      "Epoch 61/100\n",
      "32584/32584 [==============================] - 1s 27us/step - loss: 0.4479 - acc: 0.8169 - val_loss: 0.4616 - val_acc: 0.8111\n",
      "Epoch 62/100\n",
      "32584/32584 [==============================] - 1s 27us/step - loss: 0.4477 - acc: 0.8172 - val_loss: 0.4614 - val_acc: 0.8110\n",
      "Epoch 63/100\n",
      "32584/32584 [==============================] - 1s 28us/step - loss: 0.4473 - acc: 0.8173 - val_loss: 0.4609 - val_acc: 0.8113\n",
      "Epoch 64/100\n",
      "32584/32584 [==============================] - 1s 28us/step - loss: 0.4469 - acc: 0.8177 - val_loss: 0.4606 - val_acc: 0.8119\n",
      "Epoch 65/100\n",
      "32584/32584 [==============================] - 1s 28us/step - loss: 0.4466 - acc: 0.8175 - val_loss: 0.4601 - val_acc: 0.8116\n",
      "Epoch 66/100\n",
      "32584/32584 [==============================] - 1s 28us/step - loss: 0.4463 - acc: 0.8177 - val_loss: 0.4598 - val_acc: 0.8116\n",
      "Epoch 67/100\n",
      "32584/32584 [==============================] - 1s 28us/step - loss: 0.4460 - acc: 0.8177 - val_loss: 0.4594 - val_acc: 0.8117\n",
      "Epoch 68/100\n",
      "32584/32584 [==============================] - 1s 28us/step - loss: 0.4456 - acc: 0.8177 - val_loss: 0.4590 - val_acc: 0.8118\n",
      "Epoch 69/100\n",
      "32584/32584 [==============================] - 1s 28us/step - loss: 0.4453 - acc: 0.8176 - val_loss: 0.4588 - val_acc: 0.8118\n",
      "Epoch 70/100\n",
      "32584/32584 [==============================] - 1s 28us/step - loss: 0.4450 - acc: 0.8179 - val_loss: 0.4584 - val_acc: 0.8118\n",
      "Epoch 71/100\n",
      "32584/32584 [==============================] - 1s 28us/step - loss: 0.4447 - acc: 0.8181 - val_loss: 0.4585 - val_acc: 0.8118\n",
      "Epoch 72/100\n",
      "32584/32584 [==============================] - 1s 28us/step - loss: 0.4443 - acc: 0.8179 - val_loss: 0.4576 - val_acc: 0.8119\n",
      "Epoch 73/100\n",
      "32584/32584 [==============================] - 1s 28us/step - loss: 0.4440 - acc: 0.8182 - val_loss: 0.4574 - val_acc: 0.8119\n",
      "Epoch 74/100\n",
      "32584/32584 [==============================] - 1s 28us/step - loss: 0.4437 - acc: 0.8181 - val_loss: 0.4570 - val_acc: 0.8118\n",
      "Epoch 75/100\n",
      "32584/32584 [==============================] - 1s 27us/step - loss: 0.4434 - acc: 0.8183 - val_loss: 0.4568 - val_acc: 0.8117\n",
      "Epoch 76/100\n",
      "32584/32584 [==============================] - 1s 28us/step - loss: 0.4430 - acc: 0.8181 - val_loss: 0.4564 - val_acc: 0.8117\n",
      "Epoch 77/100\n",
      "32584/32584 [==============================] - 1s 27us/step - loss: 0.4426 - acc: 0.8183 - val_loss: 0.4562 - val_acc: 0.8121\n",
      "Epoch 78/100\n",
      "32584/32584 [==============================] - 1s 28us/step - loss: 0.4423 - acc: 0.8182 - val_loss: 0.4557 - val_acc: 0.8122\n",
      "Epoch 79/100\n",
      "32584/32584 [==============================] - 1s 28us/step - loss: 0.4421 - acc: 0.8182 - val_loss: 0.4554 - val_acc: 0.8124\n",
      "Epoch 80/100\n",
      "32584/32584 [==============================] - 1s 28us/step - loss: 0.4418 - acc: 0.8183 - val_loss: 0.4549 - val_acc: 0.8124\n",
      "Epoch 81/100\n",
      "32584/32584 [==============================] - 1s 28us/step - loss: 0.4415 - acc: 0.8184 - val_loss: 0.4547 - val_acc: 0.8124\n",
      "Epoch 82/100\n",
      "32584/32584 [==============================] - 1s 28us/step - loss: 0.4411 - acc: 0.8184 - val_loss: 0.4543 - val_acc: 0.8128\n",
      "Epoch 83/100\n",
      "32584/32584 [==============================] - 1s 27us/step - loss: 0.4408 - acc: 0.8187 - val_loss: 0.4539 - val_acc: 0.8124\n",
      "Epoch 84/100\n",
      "32584/32584 [==============================] - 1s 28us/step - loss: 0.4406 - acc: 0.8188 - val_loss: 0.4537 - val_acc: 0.8124\n",
      "Epoch 85/100\n",
      "32584/32584 [==============================] - 1s 27us/step - loss: 0.4402 - acc: 0.8189 - val_loss: 0.4544 - val_acc: 0.8124\n",
      "Epoch 86/100\n",
      "32584/32584 [==============================] - 1s 28us/step - loss: 0.4400 - acc: 0.8190 - val_loss: 0.4532 - val_acc: 0.8129\n",
      "Epoch 87/100\n",
      "32584/32584 [==============================] - 1s 29us/step - loss: 0.4396 - acc: 0.8189 - val_loss: 0.4532 - val_acc: 0.8130\n",
      "Epoch 88/100\n",
      "32584/32584 [==============================] - 1s 27us/step - loss: 0.4393 - acc: 0.8191 - val_loss: 0.4525 - val_acc: 0.8132\n",
      "Epoch 89/100\n",
      "32584/32584 [==============================] - 1s 28us/step - loss: 0.4391 - acc: 0.8191 - val_loss: 0.4520 - val_acc: 0.8132\n",
      "Epoch 90/100\n",
      "32584/32584 [==============================] - 1s 28us/step - loss: 0.4388 - acc: 0.8193 - val_loss: 0.4516 - val_acc: 0.8134\n",
      "Epoch 91/100\n",
      "32584/32584 [==============================] - 1s 27us/step - loss: 0.4386 - acc: 0.8192 - val_loss: 0.4516 - val_acc: 0.8134\n",
      "Epoch 92/100\n",
      "32584/32584 [==============================] - 1s 27us/step - loss: 0.4382 - acc: 0.8193 - val_loss: 0.4513 - val_acc: 0.8134\n",
      "Epoch 93/100\n",
      "32584/32584 [==============================] - 1s 27us/step - loss: 0.4380 - acc: 0.8195 - val_loss: 0.4508 - val_acc: 0.8138\n",
      "Epoch 94/100\n",
      "32584/32584 [==============================] - 1s 27us/step - loss: 0.4377 - acc: 0.8194 - val_loss: 0.4506 - val_acc: 0.8137\n",
      "Epoch 95/100\n",
      "32584/32584 [==============================] - 1s 27us/step - loss: 0.4374 - acc: 0.8196 - val_loss: 0.4509 - val_acc: 0.8135\n",
      "Epoch 96/100\n",
      "32584/32584 [==============================] - 1s 27us/step - loss: 0.4371 - acc: 0.8195 - val_loss: 0.4498 - val_acc: 0.8138\n",
      "Epoch 97/100\n",
      "32584/32584 [==============================] - 1s 27us/step - loss: 0.4368 - acc: 0.8197 - val_loss: 0.4501 - val_acc: 0.8135\n",
      "Epoch 98/100\n",
      "32584/32584 [==============================] - 1s 27us/step - loss: 0.4366 - acc: 0.8199 - val_loss: 0.4501 - val_acc: 0.8137\n",
      "Epoch 99/100\n",
      "32584/32584 [==============================] - 1s 27us/step - loss: 0.4363 - acc: 0.8197 - val_loss: 0.4493 - val_acc: 0.8143\n",
      "Epoch 100/100\n",
      "32584/32584 [==============================] - 1s 27us/step - loss: 0.4360 - acc: 0.8200 - val_loss: 0.4487 - val_acc: 0.8145\n"
     ]
    }
   ],
   "source": [
    "model3_history = mlp_model3.fit(X_train, y_train, epochs=100, batch_size=64, validation_split=0.2)"
   ]
  },
  {
   "cell_type": "markdown",
   "metadata": {},
   "source": [
    "##### Plot"
   ]
  },
  {
   "cell_type": "code",
   "execution_count": 100,
   "metadata": {},
   "outputs": [
    {
     "name": "stdout",
     "output_type": "stream",
     "text": [
      "dict_keys(['loss', 'val_acc', 'val_loss', 'acc'])\n"
     ]
    }
   ],
   "source": [
    "print(model3_history.history.keys())"
   ]
  },
  {
   "cell_type": "code",
   "execution_count": 101,
   "metadata": {},
   "outputs": [
    {
     "data": {
      "image/png": "[encoded data removed]",
      "text/plain": [
       "<matplotlib.figure.Figure at 0x1e1e15dc710>"
      ]
     },
     "metadata": {},
     "output_type": "display_data"
    }
   ],
   "source": [
    "plt.plot(model3_history.history['acc'])\n",
    "plt.plot(model3_history.history['val_acc'])\n",
    "plt.title('Accuracy Plot')\n",
    "plt.ylabel('Accuracy')\n",
    "plt.xlabel('Epoch')\n",
    "plt.legend(['Train', 'Validation'])\n",
    "plt.show()"
   ]
  },
  {
   "cell_type": "code",
   "execution_count": 102,
   "metadata": {},
   "outputs": [
    {
     "data": {
      "image/png": "[encoded data removed]",
      "text/plain": [
       "<matplotlib.figure.Figure at 0x1e1e16866a0>"
      ]
     },
     "metadata": {},
     "output_type": "display_data"
    }
   ],
   "source": [
    "plt.plot(model3_history.history['loss'])\n",
    "plt.plot(model3_history.history['val_loss'])\n",
    "plt.title('Loss Function Plot')\n",
    "plt.ylabel('Loss')\n",
    "plt.xlabel('Epoch')\n",
    "plt.legend(['Train', 'Validation'])\n",
    "plt.show()"
   ]
  },
  {
   "cell_type": "markdown",
   "metadata": {},
   "source": [
    "#### Predictions"
   ]
  },
  {
   "cell_type": "code",
   "execution_count": 103,
   "metadata": {
    "collapsed": true
   },
   "outputs": [],
   "source": [
    "train_model3_pred = mlp_model3.predict_classes(X_train)\n",
    "test_model3_pred = mlp_model3.predict_classes(X_test)"
   ]
  },
  {
   "cell_type": "markdown",
   "metadata": {},
   "source": [
    "#### Getting evaluation metrics and evaluating model performance"
   ]
  },
  {
   "cell_type": "code",
   "execution_count": 104,
   "metadata": {},
   "outputs": [
    {
     "name": "stdout",
     "output_type": "stream",
     "text": [
      "[[32892   160]\n",
      " [ 7202   476]]\n",
      "[[14090    75]\n",
      " [ 3075   216]]\n"
     ]
    }
   ],
   "source": [
    "confusion_matrix_train = confusion_matrix(y_train, train_model3_pred)\n",
    "confusion_matrix_test = confusion_matrix(y_test, test_model3_pred)\n",
    "\n",
    "print(confusion_matrix_train)\n",
    "print(confusion_matrix_test)"
   ]
  },
  {
   "cell_type": "markdown",
   "metadata": {},
   "source": [
    "#### Calculate Accuracy, True Positive Rate and True Negative Rates"
   ]
  },
  {
   "cell_type": "code",
   "execution_count": 105,
   "metadata": {},
   "outputs": [
    {
     "name": "stdout",
     "output_type": "stream",
     "text": [
      "Train TNR:  0.995159143168\n",
      "Train TPR:  0.061995311279\n",
      "Train Accuracy:  0.819248711024\n",
      "-----------------------\n",
      "Test TNR:  0.994705259442\n",
      "Test TPR:  0.0656335460346\n",
      "Test Accuracy:  0.819546287809\n"
     ]
    }
   ],
   "source": [
    "Accuracy_Train_M3 =(confusion_matrix_train[0,0]+confusion_matrix_train[1,1])/(confusion_matrix_train[0,0]+confusion_matrix_train[0,1]+confusion_matrix_train[1,0]+confusion_matrix_train[1,1])\n",
    "TNR_Train_M3 = confusion_matrix_train[0,0]/(confusion_matrix_train[0,0]+confusion_matrix_train[0,1])\n",
    "TPR_Train_M3 = confusion_matrix_train[1,1]/(confusion_matrix_train[1,0]+confusion_matrix_train[1,1])\n",
    "\n",
    "print(\"Train TNR: \",TNR_Train_M3)\n",
    "print(\"Train TPR: \",TPR_Train_M3)\n",
    "print(\"Train Accuracy: \",Accuracy_Train_M3)\n",
    "\n",
    "print(\"-----------------------\")\n",
    "\n",
    "Accuracy_Test_M3 = (confusion_matrix_test[0,0]+confusion_matrix_test[1,1])/(confusion_matrix_test[0,0]+confusion_matrix_test[0,1]+confusion_matrix_test[1,0]+confusion_matrix_test[1,1])\n",
    "TNR_Test_M3 = confusion_matrix_test[0,0]/(confusion_matrix_test[0,0] +confusion_matrix_test[0,1])\n",
    "TPR_Test_M3 = confusion_matrix_test[1,1]/(confusion_matrix_test[1,0] +confusion_matrix_test[1,1])\n",
    "\n",
    "print(\"Test TNR: \",TNR_Test_M3)\n",
    "print(\"Test TPR: \",TPR_Test_M3)\n",
    "print(\"Test Accuracy: \",Accuracy_Test_M3)"
   ]
  },
  {
   "cell_type": "markdown",
   "metadata": {},
   "source": [
    "Observation:\n",
    "\n",
    "    Based on the TPR, <>"
   ]
  },
  {
   "cell_type": "markdown",
   "metadata": {},
   "source": [
    "### MLP with 3 layers\n",
    "\n",
    "    1st hidden layer with 25 neurons\n",
    "    2nd hidden layer with 15 neurons"
   ]
  },
  {
   "cell_type": "code",
   "execution_count": 106,
   "metadata": {
    "collapsed": true
   },
   "outputs": [],
   "source": [
    "mlp_model4 = Sequential()\n",
    "\n",
    "mlp_model4.add(Dense(25,input_dim=21,activation='tanh',kernel_initializer='normal'))\n",
    "mlp_model4.add(Dense(15,activation='tanh',kernel_initializer='normal'))\n",
    "mlp_model4.add(Dense(1, activation='sigmoid', kernel_initializer='normal'))"
   ]
  },
  {
   "cell_type": "code",
   "execution_count": 107,
   "metadata": {},
   "outputs": [
    {
     "name": "stdout",
     "output_type": "stream",
     "text": [
      "_________________________________________________________________\n",
      "Layer (type)                 Output Shape              Param #   \n",
      "=================================================================\n",
      "dense_13 (Dense)             (None, 25)                550       \n",
      "_________________________________________________________________\n",
      "dense_14 (Dense)             (None, 15)                390       \n",
      "_________________________________________________________________\n",
      "dense_15 (Dense)             (None, 1)                 16        \n",
      "=================================================================\n",
      "Total params: 956\n",
      "Trainable params: 956\n",
      "Non-trainable params: 0\n",
      "_________________________________________________________________\n"
     ]
    }
   ],
   "source": [
    "mlp_model4.summary()"
   ]
  },
  {
   "cell_type": "code",
   "execution_count": 108,
   "metadata": {
    "collapsed": true
   },
   "outputs": [],
   "source": [
    "mlp_model4.compile(loss='binary_crossentropy', optimizer='sgd', metrics=['accuracy'])"
   ]
  },
  {
   "cell_type": "code",
   "execution_count": 109,
   "metadata": {},
   "outputs": [
    {
     "name": "stdout",
     "output_type": "stream",
     "text": [
      "Train on 32584 samples, validate on 8146 samples\n",
      "Epoch 1/150\n",
      "32584/32584 [==============================] - 2s 50us/step - loss: 0.5634 - acc: 0.8129 - val_loss: 0.5114 - val_acc: 0.8048\n",
      "Epoch 2/150\n",
      "32584/32584 [==============================] - 1s 27us/step - loss: 0.4906 - acc: 0.8132 - val_loss: 0.4948 - val_acc: 0.8048\n",
      "Epoch 3/150\n",
      "32584/32584 [==============================] - 1s 28us/step - loss: 0.4827 - acc: 0.8132 - val_loss: 0.4935 - val_acc: 0.8048\n",
      "Epoch 4/150\n",
      "32584/32584 [==============================] - 1s 28us/step - loss: 0.4816 - acc: 0.8132 - val_loss: 0.4934 - val_acc: 0.8048\n",
      "Epoch 5/150\n",
      "32584/32584 [==============================] - 1s 27us/step - loss: 0.4812 - acc: 0.8132 - val_loss: 0.4933 - val_acc: 0.8048\n",
      "Epoch 6/150\n",
      "32584/32584 [==============================] - 1s 28us/step - loss: 0.4810 - acc: 0.8132 - val_loss: 0.4932 - val_acc: 0.8048\n",
      "Epoch 7/150\n",
      "32584/32584 [==============================] - 1s 29us/step - loss: 0.4807 - acc: 0.8132 - val_loss: 0.4930 - val_acc: 0.8048\n",
      "Epoch 8/150\n",
      "32584/32584 [==============================] - 1s 29us/step - loss: 0.4804 - acc: 0.8132 - val_loss: 0.4928 - val_acc: 0.8048\n",
      "Epoch 9/150\n",
      "32584/32584 [==============================] - 1s 29us/step - loss: 0.4801 - acc: 0.8132 - val_loss: 0.4926 - val_acc: 0.8048\n",
      "Epoch 10/150\n",
      "32584/32584 [==============================] - 1s 29us/step - loss: 0.4797 - acc: 0.8132 - val_loss: 0.4922 - val_acc: 0.8048\n",
      "Epoch 11/150\n",
      "32584/32584 [==============================] - 1s 29us/step - loss: 0.4793 - acc: 0.8132 - val_loss: 0.4918 - val_acc: 0.8048\n",
      "Epoch 12/150\n",
      "32584/32584 [==============================] - 1s 29us/step - loss: 0.4788 - acc: 0.8132 - val_loss: 0.4914 - val_acc: 0.8048\n",
      "Epoch 13/150\n",
      "32584/32584 [==============================] - 1s 29us/step - loss: 0.4782 - acc: 0.8132 - val_loss: 0.4910 - val_acc: 0.8048\n",
      "Epoch 14/150\n",
      "32584/32584 [==============================] - 1s 30us/step - loss: 0.4775 - acc: 0.8132 - val_loss: 0.4904 - val_acc: 0.8048\n",
      "Epoch 15/150\n",
      "32584/32584 [==============================] - 1s 29us/step - loss: 0.4768 - acc: 0.8132 - val_loss: 0.4897 - val_acc: 0.8048\n",
      "Epoch 16/150\n",
      "32584/32584 [==============================] - 1s 29us/step - loss: 0.4759 - acc: 0.8132 - val_loss: 0.4890 - val_acc: 0.8048\n",
      "Epoch 17/150\n",
      "32584/32584 [==============================] - 1s 30us/step - loss: 0.4749 - acc: 0.8132 - val_loss: 0.4881 - val_acc: 0.8048\n",
      "Epoch 18/150\n",
      "32584/32584 [==============================] - 1s 28us/step - loss: 0.4739 - acc: 0.8132 - val_loss: 0.4875 - val_acc: 0.8048\n",
      "Epoch 19/150\n",
      "32584/32584 [==============================] - 1s 28us/step - loss: 0.4728 - acc: 0.8132 - val_loss: 0.4867 - val_acc: 0.8048\n",
      "Epoch 20/150\n",
      "32584/32584 [==============================] - 1s 29us/step - loss: 0.4718 - acc: 0.8132 - val_loss: 0.4859 - val_acc: 0.8048\n",
      "Epoch 21/150\n",
      "32584/32584 [==============================] - 1s 29us/step - loss: 0.4708 - acc: 0.8133 - val_loss: 0.4851 - val_acc: 0.8048\n",
      "Epoch 22/150\n",
      "32584/32584 [==============================] - 1s 28us/step - loss: 0.4698 - acc: 0.8134 - val_loss: 0.4843 - val_acc: 0.8048\n",
      "Epoch 23/150\n",
      "32584/32584 [==============================] - 1s 29us/step - loss: 0.4690 - acc: 0.8133 - val_loss: 0.4836 - val_acc: 0.8048\n",
      "Epoch 24/150\n",
      "32584/32584 [==============================] - 1s 29us/step - loss: 0.4682 - acc: 0.8134 - val_loss: 0.4830 - val_acc: 0.8048\n",
      "Epoch 25/150\n",
      "32584/32584 [==============================] - 1s 29us/step - loss: 0.4675 - acc: 0.8134 - val_loss: 0.4824 - val_acc: 0.8053\n",
      "Epoch 26/150\n",
      "32584/32584 [==============================] - 1s 28us/step - loss: 0.4668 - acc: 0.8137 - val_loss: 0.4818 - val_acc: 0.8051\n",
      "Epoch 27/150\n",
      "32584/32584 [==============================] - 1s 29us/step - loss: 0.4661 - acc: 0.8137 - val_loss: 0.4809 - val_acc: 0.8053\n",
      "Epoch 28/150\n",
      "32584/32584 [==============================] - 1s 28us/step - loss: 0.4654 - acc: 0.8138 - val_loss: 0.4803 - val_acc: 0.8054\n",
      "Epoch 29/150\n",
      "32584/32584 [==============================] - 1s 28us/step - loss: 0.4648 - acc: 0.8137 - val_loss: 0.4795 - val_acc: 0.8057\n",
      "Epoch 30/150\n",
      "32584/32584 [==============================] - 1s 28us/step - loss: 0.4641 - acc: 0.8139 - val_loss: 0.4789 - val_acc: 0.8059\n",
      "Epoch 31/150\n",
      "32584/32584 [==============================] - 1s 28us/step - loss: 0.4635 - acc: 0.8139 - val_loss: 0.4782 - val_acc: 0.8067\n",
      "Epoch 32/150\n",
      "32584/32584 [==============================] - 1s 28us/step - loss: 0.4629 - acc: 0.8140 - val_loss: 0.4774 - val_acc: 0.8067\n",
      "Epoch 33/150\n",
      "32584/32584 [==============================] - 1s 28us/step - loss: 0.4623 - acc: 0.8140 - val_loss: 0.4767 - val_acc: 0.8067\n",
      "Epoch 34/150\n",
      "32584/32584 [==============================] - 1s 28us/step - loss: 0.4616 - acc: 0.8140 - val_loss: 0.4759 - val_acc: 0.8070\n",
      "Epoch 35/150\n",
      "32584/32584 [==============================] - 1s 27us/step - loss: 0.4611 - acc: 0.8141 - val_loss: 0.4754 - val_acc: 0.8070\n",
      "Epoch 36/150\n",
      "32584/32584 [==============================] - 1s 28us/step - loss: 0.4604 - acc: 0.8142 - val_loss: 0.4746 - val_acc: 0.8071\n",
      "Epoch 37/150\n",
      "32584/32584 [==============================] - 1s 28us/step - loss: 0.4598 - acc: 0.8144 - val_loss: 0.4737 - val_acc: 0.8073\n",
      "Epoch 38/150\n",
      "32584/32584 [==============================] - 1s 28us/step - loss: 0.4592 - acc: 0.8146 - val_loss: 0.4730 - val_acc: 0.8073\n",
      "Epoch 39/150\n",
      "32584/32584 [==============================] - 1s 28us/step - loss: 0.4585 - acc: 0.8146 - val_loss: 0.4723 - val_acc: 0.8073\n",
      "Epoch 40/150\n",
      "32584/32584 [==============================] - 1s 28us/step - loss: 0.4579 - acc: 0.8146 - val_loss: 0.4714 - val_acc: 0.8080\n",
      "Epoch 41/150\n",
      "32584/32584 [==============================] - 1s 28us/step - loss: 0.4572 - acc: 0.8148 - val_loss: 0.4709 - val_acc: 0.8086\n",
      "Epoch 42/150\n",
      "32584/32584 [==============================] - 1s 27us/step - loss: 0.4566 - acc: 0.8150 - val_loss: 0.4704 - val_acc: 0.8087\n",
      "Epoch 43/150\n",
      "32584/32584 [==============================] - 1s 28us/step - loss: 0.4559 - acc: 0.8152 - val_loss: 0.4694 - val_acc: 0.8089\n",
      "Epoch 44/150\n",
      "32584/32584 [==============================] - 1s 27us/step - loss: 0.4552 - acc: 0.8155 - val_loss: 0.4689 - val_acc: 0.8089\n",
      "Epoch 45/150\n",
      "32584/32584 [==============================] - 1s 27us/step - loss: 0.4546 - acc: 0.8156 - val_loss: 0.4679 - val_acc: 0.8091\n",
      "Epoch 46/150\n",
      "32584/32584 [==============================] - 1s 27us/step - loss: 0.4538 - acc: 0.8157 - val_loss: 0.4680 - val_acc: 0.8091\n",
      "Epoch 47/150\n",
      "32584/32584 [==============================] - 1s 27us/step - loss: 0.4533 - acc: 0.8160 - val_loss: 0.4669 - val_acc: 0.8096\n",
      "Epoch 48/150\n",
      "32584/32584 [==============================] - 1s 27us/step - loss: 0.4526 - acc: 0.8161 - val_loss: 0.4659 - val_acc: 0.8100\n",
      "Epoch 49/150\n",
      "32584/32584 [==============================] - 1s 27us/step - loss: 0.4520 - acc: 0.8165 - val_loss: 0.4651 - val_acc: 0.8103\n",
      "Epoch 50/150\n",
      "32584/32584 [==============================] - 1s 27us/step - loss: 0.4511 - acc: 0.8166 - val_loss: 0.4652 - val_acc: 0.8103\n",
      "Epoch 51/150\n",
      "32584/32584 [==============================] - 1s 27us/step - loss: 0.4506 - acc: 0.8168 - val_loss: 0.4636 - val_acc: 0.8105\n",
      "Epoch 52/150\n",
      "32584/32584 [==============================] - 1s 27us/step - loss: 0.4499 - acc: 0.8168 - val_loss: 0.4629 - val_acc: 0.8105\n",
      "Epoch 53/150\n",
      "32584/32584 [==============================] - 1s 28us/step - loss: 0.4493 - acc: 0.8168 - val_loss: 0.4624 - val_acc: 0.8108\n",
      "Epoch 54/150\n",
      "32584/32584 [==============================] - 1s 28us/step - loss: 0.4486 - acc: 0.8171 - val_loss: 0.4614 - val_acc: 0.8111\n",
      "Epoch 55/150\n",
      "32584/32584 [==============================] - 1s 28us/step - loss: 0.4479 - acc: 0.8171 - val_loss: 0.4609 - val_acc: 0.8111\n",
      "Epoch 56/150\n",
      "32584/32584 [==============================] - 1s 28us/step - loss: 0.4473 - acc: 0.8172 - val_loss: 0.4601 - val_acc: 0.8112\n",
      "Epoch 57/150\n",
      "32584/32584 [==============================] - 1s 28us/step - loss: 0.4466 - acc: 0.8174 - val_loss: 0.4591 - val_acc: 0.8113\n",
      "Epoch 58/150\n",
      "32584/32584 [==============================] - 1s 28us/step - loss: 0.4459 - acc: 0.8176 - val_loss: 0.4586 - val_acc: 0.8118\n",
      "Epoch 59/150\n",
      "32584/32584 [==============================] - 1s 30us/step - loss: 0.4452 - acc: 0.8178 - val_loss: 0.4578 - val_acc: 0.8121\n",
      "Epoch 60/150\n",
      "32584/32584 [==============================] - 1s 30us/step - loss: 0.4445 - acc: 0.8178 - val_loss: 0.4577 - val_acc: 0.8121\n",
      "Epoch 61/150\n",
      "32584/32584 [==============================] - 1s 30us/step - loss: 0.4439 - acc: 0.8180 - val_loss: 0.4563 - val_acc: 0.8125\n",
      "Epoch 62/150\n",
      "32584/32584 [==============================] - 1s 30us/step - loss: 0.4432 - acc: 0.8182 - val_loss: 0.4567 - val_acc: 0.8125\n",
      "Epoch 63/150\n",
      "32584/32584 [==============================] - 1s 30us/step - loss: 0.4425 - acc: 0.8183 - val_loss: 0.4574 - val_acc: 0.8144\n",
      "Epoch 64/150\n",
      "32584/32584 [==============================] - 1s 30us/step - loss: 0.4420 - acc: 0.8185 - val_loss: 0.4542 - val_acc: 0.8138\n",
      "Epoch 65/150\n",
      "32584/32584 [==============================] - 1s 30us/step - loss: 0.4411 - acc: 0.8188 - val_loss: 0.4537 - val_acc: 0.8139\n",
      "Epoch 66/150\n",
      "32584/32584 [==============================] - 1s 29us/step - loss: 0.4406 - acc: 0.8189 - val_loss: 0.4523 - val_acc: 0.8139\n",
      "Epoch 67/150\n",
      "32584/32584 [==============================] - 1s 29us/step - loss: 0.4400 - acc: 0.8191 - val_loss: 0.4521 - val_acc: 0.8144\n",
      "Epoch 68/150\n",
      "32584/32584 [==============================] - 1s 29us/step - loss: 0.4393 - acc: 0.8194 - val_loss: 0.4512 - val_acc: 0.8146\n",
      "Epoch 69/150\n",
      "32584/32584 [==============================] - 1s 29us/step - loss: 0.4387 - acc: 0.8193 - val_loss: 0.4512 - val_acc: 0.8143\n",
      "Epoch 70/150\n",
      "32584/32584 [==============================] - 1s 30us/step - loss: 0.4381 - acc: 0.8197 - val_loss: 0.4497 - val_acc: 0.8150\n",
      "Epoch 71/150\n",
      "32584/32584 [==============================] - 1s 29us/step - loss: 0.4375 - acc: 0.8197 - val_loss: 0.4497 - val_acc: 0.8154\n",
      "Epoch 72/150\n",
      "32584/32584 [==============================] - 1s 29us/step - loss: 0.4369 - acc: 0.8199 - val_loss: 0.4486 - val_acc: 0.8152\n",
      "Epoch 73/150\n",
      "32584/32584 [==============================] - 1s 29us/step - loss: 0.4363 - acc: 0.8200 - val_loss: 0.4482 - val_acc: 0.8159\n",
      "Epoch 74/150\n",
      "32584/32584 [==============================] - 1s 29us/step - loss: 0.4357 - acc: 0.8204 - val_loss: 0.4480 - val_acc: 0.8155\n",
      "Epoch 75/150\n",
      "32584/32584 [==============================] - 1s 30us/step - loss: 0.4350 - acc: 0.8208 - val_loss: 0.4468 - val_acc: 0.8162\n",
      "Epoch 76/150\n",
      "32584/32584 [==============================] - 1s 29us/step - loss: 0.4345 - acc: 0.8206 - val_loss: 0.4467 - val_acc: 0.8159\n",
      "Epoch 77/150\n",
      "32584/32584 [==============================] - 1s 29us/step - loss: 0.4339 - acc: 0.8209 - val_loss: 0.4456 - val_acc: 0.8161\n",
      "Epoch 78/150\n",
      "32584/32584 [==============================] - 1s 29us/step - loss: 0.4332 - acc: 0.8210 - val_loss: 0.4439 - val_acc: 0.8170\n",
      "Epoch 79/150\n",
      "32584/32584 [==============================] - 1s 29us/step - loss: 0.4326 - acc: 0.8209 - val_loss: 0.4432 - val_acc: 0.8172\n",
      "Epoch 80/150\n",
      "32584/32584 [==============================] - 1s 29us/step - loss: 0.4319 - acc: 0.8212 - val_loss: 0.4427 - val_acc: 0.8172\n",
      "Epoch 81/150\n",
      "32584/32584 [==============================] - 1s 29us/step - loss: 0.4315 - acc: 0.8214 - val_loss: 0.4439 - val_acc: 0.8166\n",
      "Epoch 82/150\n",
      "32584/32584 [==============================] - 1s 29us/step - loss: 0.4309 - acc: 0.8214 - val_loss: 0.4438 - val_acc: 0.8171\n",
      "Epoch 83/150\n",
      "32584/32584 [==============================] - 1s 29us/step - loss: 0.4303 - acc: 0.8218 - val_loss: 0.4418 - val_acc: 0.8173\n",
      "Epoch 84/150\n",
      "32584/32584 [==============================] - 1s 29us/step - loss: 0.4297 - acc: 0.8219 - val_loss: 0.4442 - val_acc: 0.8170\n",
      "Epoch 85/150\n",
      "32584/32584 [==============================] - 1s 29us/step - loss: 0.4293 - acc: 0.8219 - val_loss: 0.4400 - val_acc: 0.8175\n",
      "Epoch 86/150\n",
      "32584/32584 [==============================] - 1s 29us/step - loss: 0.4287 - acc: 0.8221 - val_loss: 0.4394 - val_acc: 0.8173\n",
      "Epoch 87/150\n",
      "32584/32584 [==============================] - 1s 29us/step - loss: 0.4280 - acc: 0.8220 - val_loss: 0.4436 - val_acc: 0.8183\n",
      "Epoch 88/150\n",
      "32584/32584 [==============================] - 1s 29us/step - loss: 0.4275 - acc: 0.8221 - val_loss: 0.4391 - val_acc: 0.8176\n",
      "Epoch 89/150\n",
      "32584/32584 [==============================] - 1s 29us/step - loss: 0.4270 - acc: 0.8225 - val_loss: 0.4378 - val_acc: 0.8184\n",
      "Epoch 90/150\n",
      "32584/32584 [==============================] - 1s 29us/step - loss: 0.4262 - acc: 0.8224 - val_loss: 0.4387 - val_acc: 0.8173\n",
      "Epoch 91/150\n",
      "32584/32584 [==============================] - 1s 31us/step - loss: 0.4259 - acc: 0.8231 - val_loss: 0.4379 - val_acc: 0.8172\n",
      "Epoch 92/150\n",
      "32584/32584 [==============================] - 1s 29us/step - loss: 0.4252 - acc: 0.8231 - val_loss: 0.4354 - val_acc: 0.8176\n",
      "Epoch 93/150\n",
      "32584/32584 [==============================] - 1s 29us/step - loss: 0.4246 - acc: 0.8229 - val_loss: 0.4362 - val_acc: 0.8189\n",
      "Epoch 94/150\n",
      "32584/32584 [==============================] - 1s 29us/step - loss: 0.4241 - acc: 0.8234 - val_loss: 0.4355 - val_acc: 0.8176\n",
      "Epoch 95/150\n",
      "32584/32584 [==============================] - 1s 29us/step - loss: 0.4234 - acc: 0.8230 - val_loss: 0.4329 - val_acc: 0.8184\n",
      "Epoch 96/150\n",
      "32584/32584 [==============================] - 1s 29us/step - loss: 0.4229 - acc: 0.8235 - val_loss: 0.4356 - val_acc: 0.8182\n",
      "Epoch 97/150\n",
      "32584/32584 [==============================] - 1s 28us/step - loss: 0.4223 - acc: 0.8234 - val_loss: 0.4329 - val_acc: 0.8194\n",
      "Epoch 98/150\n",
      "32584/32584 [==============================] - 1s 29us/step - loss: 0.4221 - acc: 0.8236 - val_loss: 0.4320 - val_acc: 0.8182\n",
      "Epoch 99/150\n",
      "32584/32584 [==============================] - 1s 29us/step - loss: 0.4214 - acc: 0.8244 - val_loss: 0.4343 - val_acc: 0.8179\n",
      "Epoch 100/150\n",
      "32584/32584 [==============================] - 1s 29us/step - loss: 0.4210 - acc: 0.8241 - val_loss: 0.4301 - val_acc: 0.8191\n",
      "Epoch 101/150\n",
      "32584/32584 [==============================] - 1s 29us/step - loss: 0.4201 - acc: 0.8241 - val_loss: 0.4415 - val_acc: 0.8177\n",
      "Epoch 102/150\n",
      "32584/32584 [==============================] - 1s 29us/step - loss: 0.4198 - acc: 0.8244 - val_loss: 0.4318 - val_acc: 0.8184\n",
      "Epoch 103/150\n",
      "32584/32584 [==============================] - 1s 28us/step - loss: 0.4192 - acc: 0.8245 - val_loss: 0.4433 - val_acc: 0.8135\n",
      "Epoch 104/150\n",
      "32584/32584 [==============================] - 1s 28us/step - loss: 0.4192 - acc: 0.8244 - val_loss: 0.4286 - val_acc: 0.8194\n",
      "Epoch 105/150\n",
      "32584/32584 [==============================] - 1s 28us/step - loss: 0.4181 - acc: 0.8248 - val_loss: 0.4272 - val_acc: 0.8203\n",
      "Epoch 106/150\n",
      "32584/32584 [==============================] - 1s 28us/step - loss: 0.4176 - acc: 0.8251 - val_loss: 0.4253 - val_acc: 0.8200\n",
      "Epoch 107/150\n",
      "32584/32584 [==============================] - 1s 28us/step - loss: 0.4169 - acc: 0.8253 - val_loss: 0.4259 - val_acc: 0.8202\n",
      "Epoch 108/150\n",
      "32584/32584 [==============================] - 1s 28us/step - loss: 0.4163 - acc: 0.8250 - val_loss: 0.4234 - val_acc: 0.8209\n",
      "Epoch 109/150\n",
      "32584/32584 [==============================] - 1s 28us/step - loss: 0.4162 - acc: 0.8255 - val_loss: 0.4234 - val_acc: 0.8213\n",
      "Epoch 110/150\n",
      "32584/32584 [==============================] - 1s 28us/step - loss: 0.4154 - acc: 0.8256 - val_loss: 0.4281 - val_acc: 0.8232\n",
      "Epoch 111/150\n",
      "32584/32584 [==============================] - 1s 28us/step - loss: 0.4151 - acc: 0.8254 - val_loss: 0.4281 - val_acc: 0.8224\n",
      "Epoch 112/150\n",
      "32584/32584 [==============================] - 1s 28us/step - loss: 0.4144 - acc: 0.8257 - val_loss: 0.4223 - val_acc: 0.8215\n",
      "Epoch 113/150\n",
      "32584/32584 [==============================] - 1s 28us/step - loss: 0.4135 - acc: 0.8253 - val_loss: 0.4231 - val_acc: 0.8205\n",
      "Epoch 114/150\n",
      "32584/32584 [==============================] - 1s 28us/step - loss: 0.4134 - acc: 0.8255 - val_loss: 0.4226 - val_acc: 0.8216\n",
      "Epoch 115/150\n",
      "32584/32584 [==============================] - 1s 28us/step - loss: 0.4126 - acc: 0.8257 - val_loss: 0.4257 - val_acc: 0.8195\n",
      "Epoch 116/150\n",
      "32584/32584 [==============================] - 1s 28us/step - loss: 0.4124 - acc: 0.8261 - val_loss: 0.4305 - val_acc: 0.8198\n",
      "Epoch 117/150\n",
      "32584/32584 [==============================] - 1s 28us/step - loss: 0.4115 - acc: 0.8261 - val_loss: 0.4240 - val_acc: 0.8202\n"
     ]
    },
    {
     "name": "stdout",
     "output_type": "stream",
     "text": [
      "Epoch 118/150\n",
      "32584/32584 [==============================] - 1s 30us/step - loss: 0.4109 - acc: 0.8264 - val_loss: 0.4206 - val_acc: 0.8230\n",
      "Epoch 119/150\n",
      "32584/32584 [==============================] - 1s 30us/step - loss: 0.4105 - acc: 0.8264 - val_loss: 0.4187 - val_acc: 0.8235\n",
      "Epoch 120/150\n",
      "32584/32584 [==============================] - 1s 30us/step - loss: 0.4100 - acc: 0.8263 - val_loss: 0.4291 - val_acc: 0.8256\n",
      "Epoch 121/150\n",
      "32584/32584 [==============================] - 1s 30us/step - loss: 0.4097 - acc: 0.8267 - val_loss: 0.4162 - val_acc: 0.8220\n",
      "Epoch 122/150\n",
      "32584/32584 [==============================] - 1s 30us/step - loss: 0.4091 - acc: 0.8270 - val_loss: 0.4207 - val_acc: 0.8200\n",
      "Epoch 123/150\n",
      "32584/32584 [==============================] - 1s 30us/step - loss: 0.4085 - acc: 0.8272 - val_loss: 0.4175 - val_acc: 0.8236\n",
      "Epoch 124/150\n",
      "32584/32584 [==============================] - 1s 29us/step - loss: 0.4079 - acc: 0.8264 - val_loss: 0.4367 - val_acc: 0.8278\n",
      "Epoch 125/150\n",
      "32584/32584 [==============================] - 1s 30us/step - loss: 0.4072 - acc: 0.8266 - val_loss: 0.4142 - val_acc: 0.8235\n",
      "Epoch 126/150\n",
      "32584/32584 [==============================] - 1s 30us/step - loss: 0.4067 - acc: 0.8269 - val_loss: 0.4263 - val_acc: 0.8259\n",
      "Epoch 127/150\n",
      "32584/32584 [==============================] - 1s 30us/step - loss: 0.4064 - acc: 0.8270 - val_loss: 0.4274 - val_acc: 0.8203\n",
      "Epoch 128/150\n",
      "32584/32584 [==============================] - 1s 30us/step - loss: 0.4058 - acc: 0.8272 - val_loss: 0.4192 - val_acc: 0.8218\n",
      "Epoch 129/150\n",
      "32584/32584 [==============================] - 1s 30us/step - loss: 0.4053 - acc: 0.8276 - val_loss: 0.4148 - val_acc: 0.8221\n",
      "Epoch 130/150\n",
      "32584/32584 [==============================] - 1s 30us/step - loss: 0.4045 - acc: 0.8278 - val_loss: 0.4308 - val_acc: 0.8203\n",
      "Epoch 131/150\n",
      "32584/32584 [==============================] - 1s 30us/step - loss: 0.4036 - acc: 0.8274 - val_loss: 0.4113 - val_acc: 0.8225\n",
      "Epoch 132/150\n",
      "32584/32584 [==============================] - 1s 29us/step - loss: 0.4034 - acc: 0.8279 - val_loss: 0.4234 - val_acc: 0.8203\n",
      "Epoch 133/150\n",
      "32584/32584 [==============================] - 1s 30us/step - loss: 0.4026 - acc: 0.8276 - val_loss: 0.4147 - val_acc: 0.8227\n",
      "Epoch 134/150\n",
      "32584/32584 [==============================] - 1s 30us/step - loss: 0.4031 - acc: 0.8279 - val_loss: 0.4191 - val_acc: 0.8283\n",
      "Epoch 135/150\n",
      "32584/32584 [==============================] - 1s 30us/step - loss: 0.4017 - acc: 0.8279 - val_loss: 0.4281 - val_acc: 0.8209\n",
      "Epoch 136/150\n",
      "32584/32584 [==============================] - 1s 30us/step - loss: 0.4016 - acc: 0.8277 - val_loss: 0.4092 - val_acc: 0.8233\n",
      "Epoch 137/150\n",
      "32584/32584 [==============================] - 1s 30us/step - loss: 0.4011 - acc: 0.8282 - val_loss: 0.4182 - val_acc: 0.8216\n",
      "Epoch 138/150\n",
      "32584/32584 [==============================] - 1s 28us/step - loss: 0.4005 - acc: 0.8280 - val_loss: 0.4123 - val_acc: 0.8233\n",
      "Epoch 139/150\n",
      "32584/32584 [==============================] - 1s 30us/step - loss: 0.4000 - acc: 0.8284 - val_loss: 0.4091 - val_acc: 0.8238\n",
      "Epoch 140/150\n",
      "32584/32584 [==============================] - 1s 29us/step - loss: 0.3990 - acc: 0.8283 - val_loss: 0.4407 - val_acc: 0.8210\n",
      "Epoch 141/150\n",
      "32584/32584 [==============================] - 1s 29us/step - loss: 0.3993 - acc: 0.8285 - val_loss: 0.4103 - val_acc: 0.8238\n",
      "Epoch 142/150\n",
      "32584/32584 [==============================] - 1s 28us/step - loss: 0.3981 - acc: 0.8284 - val_loss: 0.4243 - val_acc: 0.8216\n",
      "Epoch 143/150\n",
      "32584/32584 [==============================] - 1s 29us/step - loss: 0.3977 - acc: 0.8287 - val_loss: 0.4051 - val_acc: 0.8238\n",
      "Epoch 144/150\n",
      "32584/32584 [==============================] - 1s 29us/step - loss: 0.3975 - acc: 0.8284 - val_loss: 0.4210 - val_acc: 0.8321\n",
      "Epoch 145/150\n",
      "32584/32584 [==============================] - 1s 29us/step - loss: 0.3971 - acc: 0.8290 - val_loss: 0.4099 - val_acc: 0.8241\n",
      "Epoch 146/150\n",
      "32584/32584 [==============================] - 1s 28us/step - loss: 0.3966 - acc: 0.8288 - val_loss: 0.4644 - val_acc: 0.8215\n",
      "Epoch 147/150\n",
      "32584/32584 [==============================] - 1s 29us/step - loss: 0.3965 - acc: 0.8291 - val_loss: 0.4115 - val_acc: 0.8300\n",
      "Epoch 148/150\n",
      "32584/32584 [==============================] - 1s 28us/step - loss: 0.3954 - acc: 0.8291 - val_loss: 0.4115 - val_acc: 0.8289\n",
      "Epoch 149/150\n",
      "32584/32584 [==============================] - 1s 28us/step - loss: 0.3950 - acc: 0.8290 - val_loss: 0.3991 - val_acc: 0.8278\n",
      "Epoch 150/150\n",
      "32584/32584 [==============================] - 1s 29us/step - loss: 0.3939 - acc: 0.8293 - val_loss: 0.4061 - val_acc: 0.8245\n"
     ]
    }
   ],
   "source": [
    "model4_history = mlp_model4.fit(X_train, y_train, epochs=150, batch_size=64, validation_split=0.2)"
   ]
  },
  {
   "cell_type": "markdown",
   "metadata": {},
   "source": [
    "##### Plot"
   ]
  },
  {
   "cell_type": "code",
   "execution_count": 110,
   "metadata": {},
   "outputs": [
    {
     "name": "stdout",
     "output_type": "stream",
     "text": [
      "dict_keys(['loss', 'val_acc', 'val_loss', 'acc'])\n"
     ]
    }
   ],
   "source": [
    "print(model4_history.history.keys())"
   ]
  },
  {
   "cell_type": "code",
   "execution_count": 111,
   "metadata": {},
   "outputs": [
    {
     "data": {
      "image/png": "[encoded data removed]",
      "text/plain": [
       "<matplotlib.figure.Figure at 0x1e1e16ed940>"
      ]
     },
     "metadata": {},
     "output_type": "display_data"
    }
   ],
   "source": [
    "plt.plot(model4_history.history['acc'])\n",
    "plt.plot(model4_history.history['val_acc'])\n",
    "plt.title('Accuracy Plot')\n",
    "plt.ylabel('Accuracy')\n",
    "plt.xlabel('Epoch')\n",
    "plt.legend(['Train', 'Validation'])\n",
    "plt.show()"
   ]
  },
  {
   "cell_type": "code",
   "execution_count": 112,
   "metadata": {},
   "outputs": [
    {
     "data": {
      "image/png": "[encoded data removed]",
      "text/plain": [
       "<matplotlib.figure.Figure at 0x1e1e11f3630>"
      ]
     },
     "metadata": {},
     "output_type": "display_data"
    }
   ],
   "source": [
    "plt.plot(model4_history.history['loss'])\n",
    "plt.plot(model4_history.history['val_loss'])\n",
    "plt.title('Loss Function Plot')\n",
    "plt.ylabel('Loss')\n",
    "plt.xlabel('Epoch')\n",
    "plt.legend(['Train', 'Validation'])\n",
    "plt.show()"
   ]
  },
  {
   "cell_type": "markdown",
   "metadata": {},
   "source": [
    "#### Predictions"
   ]
  },
  {
   "cell_type": "code",
   "execution_count": 113,
   "metadata": {
    "collapsed": true
   },
   "outputs": [],
   "source": [
    "train_model4_pred = mlp_model4.predict_classes(X_train)\n",
    "test_model4_pred = mlp_model4.predict_classes(X_test)"
   ]
  },
  {
   "cell_type": "markdown",
   "metadata": {},
   "source": [
    "#### Getting evaluation metrics and evaluating model performance"
   ]
  },
  {
   "cell_type": "code",
   "execution_count": 114,
   "metadata": {},
   "outputs": [
    {
     "name": "stdout",
     "output_type": "stream",
     "text": [
      "[[32701   351]\n",
      " [ 6680   998]]\n",
      "[[14024   141]\n",
      " [ 2852   439]]\n"
     ]
    }
   ],
   "source": [
    "confusion_matrix_train = confusion_matrix(y_train, train_model4_pred)\n",
    "confusion_matrix_test = confusion_matrix(y_test, test_model4_pred)\n",
    "\n",
    "print(confusion_matrix_train)\n",
    "print(confusion_matrix_test)"
   ]
  },
  {
   "cell_type": "markdown",
   "metadata": {},
   "source": [
    "#### Calculate Accuracy, True Positive Rate and True Negative Rates"
   ]
  },
  {
   "cell_type": "code",
   "execution_count": 115,
   "metadata": {},
   "outputs": [
    {
     "name": "stdout",
     "output_type": "stream",
     "text": [
      "Train TNR:  0.989380370326\n",
      "Train TPR:  0.129981766085\n",
      "Train Accuracy:  0.827375398969\n",
      "-----------------------\n",
      "Test TNR:  0.990045887752\n",
      "Test TPR:  0.133394105135\n",
      "Test Accuracy:  0.828540329973\n"
     ]
    }
   ],
   "source": [
    "Accuracy_Train_M4 =(confusion_matrix_train[0,0]+confusion_matrix_train[1,1])/(confusion_matrix_train[0,0]+confusion_matrix_train[0,1]+confusion_matrix_train[1,0]+confusion_matrix_train[1,1])\n",
    "TNR_Train_M4 = confusion_matrix_train[0,0]/(confusion_matrix_train[0,0]+confusion_matrix_train[0,1])\n",
    "TPR_Train_M4 = confusion_matrix_train[1,1]/(confusion_matrix_train[1,0]+confusion_matrix_train[1,1])\n",
    "\n",
    "print(\"Train TNR: \",TNR_Train_M4)\n",
    "print(\"Train TPR: \",TPR_Train_M4)\n",
    "print(\"Train Accuracy: \",Accuracy_Train_M4)\n",
    "\n",
    "print(\"-----------------------\")\n",
    "\n",
    "Accuracy_Test_M4 = (confusion_matrix_test[0,0]+confusion_matrix_test[1,1])/(confusion_matrix_test[0,0]+confusion_matrix_test[0,1]+confusion_matrix_test[1,0]+confusion_matrix_test[1,1])\n",
    "TNR_Test_M4 = confusion_matrix_test[0,0]/(confusion_matrix_test[0,0] +confusion_matrix_test[0,1])\n",
    "TPR_Test_M4 = confusion_matrix_test[1,1]/(confusion_matrix_test[1,0] +confusion_matrix_test[1,1])\n",
    "\n",
    "print(\"Test TNR: \",TNR_Test_M4)\n",
    "print(\"Test TPR: \",TPR_Test_M4)\n",
    "print(\"Test Accuracy: \",Accuracy_Test_M4)"
   ]
  },
  {
   "cell_type": "markdown",
   "metadata": {},
   "source": [
    "### MLP with 3 layers\n",
    "\n",
    "    1st hidden layer with 25 neurons\n",
    "    2nd hidden layer with 20 neurons"
   ]
  },
  {
   "cell_type": "code",
   "execution_count": 116,
   "metadata": {
    "collapsed": true
   },
   "outputs": [],
   "source": [
    "mlp_model5 = Sequential()\n",
    "\n",
    "mlp_model5.add(Dense(25,input_dim=21,activation='tanh',kernel_initializer='normal'))\n",
    "mlp_model5.add(Dense(20,activation='tanh',kernel_initializer='normal'))\n",
    "mlp_model5.add(Dense(1, activation='sigmoid', kernel_initializer='normal'))"
   ]
  },
  {
   "cell_type": "code",
   "execution_count": 117,
   "metadata": {},
   "outputs": [
    {
     "name": "stdout",
     "output_type": "stream",
     "text": [
      "_________________________________________________________________\n",
      "Layer (type)                 Output Shape              Param #   \n",
      "=================================================================\n",
      "dense_16 (Dense)             (None, 25)                550       \n",
      "_________________________________________________________________\n",
      "dense_17 (Dense)             (None, 20)                520       \n",
      "_________________________________________________________________\n",
      "dense_18 (Dense)             (None, 1)                 21        \n",
      "=================================================================\n",
      "Total params: 1,091\n",
      "Trainable params: 1,091\n",
      "Non-trainable params: 0\n",
      "_________________________________________________________________\n"
     ]
    }
   ],
   "source": [
    "mlp_model5.summary()"
   ]
  },
  {
   "cell_type": "code",
   "execution_count": 118,
   "metadata": {
    "collapsed": true
   },
   "outputs": [],
   "source": [
    "mlp_model5.compile(loss='binary_crossentropy', optimizer='sgd', metrics=['accuracy'])"
   ]
  },
  {
   "cell_type": "code",
   "execution_count": 119,
   "metadata": {},
   "outputs": [
    {
     "name": "stdout",
     "output_type": "stream",
     "text": [
      "Train on 32584 samples, validate on 8146 samples\n",
      "Epoch 1/100\n",
      "32584/32584 [==============================] - 2s 47us/step - loss: 0.5598 - acc: 0.8130 - val_loss: 0.5081 - val_acc: 0.8048\n",
      "Epoch 2/100\n",
      "32584/32584 [==============================] - 1s 30us/step - loss: 0.4880 - acc: 0.8132 - val_loss: 0.4937 - val_acc: 0.8048\n",
      "Epoch 3/100\n",
      "32584/32584 [==============================] - 1s 30us/step - loss: 0.4813 - acc: 0.8132 - val_loss: 0.4928 - val_acc: 0.8048\n",
      "Epoch 4/100\n",
      "32584/32584 [==============================] - 1s 30us/step - loss: 0.4803 - acc: 0.8132 - val_loss: 0.4926 - val_acc: 0.8048\n",
      "Epoch 5/100\n",
      "32584/32584 [==============================] - 1s 30us/step - loss: 0.4798 - acc: 0.8132 - val_loss: 0.4923 - val_acc: 0.8048\n",
      "Epoch 6/100\n",
      "32584/32584 [==============================] - 1s 30us/step - loss: 0.4793 - acc: 0.8132 - val_loss: 0.4919 - val_acc: 0.8048\n",
      "Epoch 7/100\n",
      "32584/32584 [==============================] - 1s 29us/step - loss: 0.4787 - acc: 0.8132 - val_loss: 0.4915 - val_acc: 0.8048\n",
      "Epoch 8/100\n",
      "32584/32584 [==============================] - 1s 30us/step - loss: 0.4780 - acc: 0.8132 - val_loss: 0.4910 - val_acc: 0.8048\n",
      "Epoch 9/100\n",
      "32584/32584 [==============================] - 1s 29us/step - loss: 0.4773 - acc: 0.8132 - val_loss: 0.4903 - val_acc: 0.8048\n",
      "Epoch 10/100\n",
      "32584/32584 [==============================] - 1s 29us/step - loss: 0.4764 - acc: 0.8132 - val_loss: 0.4897 - val_acc: 0.8048\n",
      "Epoch 11/100\n",
      "32584/32584 [==============================] - 1s 29us/step - loss: 0.4755 - acc: 0.8132 - val_loss: 0.4889 - val_acc: 0.8048\n",
      "Epoch 12/100\n",
      "32584/32584 [==============================] - 1s 29us/step - loss: 0.4745 - acc: 0.8132 - val_loss: 0.4882 - val_acc: 0.8048\n",
      "Epoch 13/100\n",
      "32584/32584 [==============================] - 1s 29us/step - loss: 0.4734 - acc: 0.8132 - val_loss: 0.4873 - val_acc: 0.8048\n",
      "Epoch 14/100\n",
      "32584/32584 [==============================] - 1s 29us/step - loss: 0.4723 - acc: 0.8133 - val_loss: 0.4866 - val_acc: 0.8048\n",
      "Epoch 15/100\n",
      "32584/32584 [==============================] - 1s 29us/step - loss: 0.4713 - acc: 0.8134 - val_loss: 0.4859 - val_acc: 0.8048\n",
      "Epoch 16/100\n",
      "32584/32584 [==============================] - 1s 29us/step - loss: 0.4703 - acc: 0.8134 - val_loss: 0.4851 - val_acc: 0.8046\n",
      "Epoch 17/100\n",
      "32584/32584 [==============================] - 1s 32us/step - loss: 0.4694 - acc: 0.8133 - val_loss: 0.4845 - val_acc: 0.8044\n",
      "Epoch 18/100\n",
      "32584/32584 [==============================] - 1s 29us/step - loss: 0.4686 - acc: 0.8133 - val_loss: 0.4838 - val_acc: 0.8046\n",
      "Epoch 19/100\n",
      "32584/32584 [==============================] - 1s 29us/step - loss: 0.4679 - acc: 0.8133 - val_loss: 0.4831 - val_acc: 0.8047\n",
      "Epoch 20/100\n",
      "32584/32584 [==============================] - 1s 29us/step - loss: 0.4672 - acc: 0.8134 - val_loss: 0.4825 - val_acc: 0.8048\n",
      "Epoch 21/100\n",
      "32584/32584 [==============================] - 1s 29us/step - loss: 0.4665 - acc: 0.8135 - val_loss: 0.4818 - val_acc: 0.8048\n",
      "Epoch 22/100\n",
      "32584/32584 [==============================] - 1s 28us/step - loss: 0.4659 - acc: 0.8136 - val_loss: 0.4811 - val_acc: 0.8053\n",
      "Epoch 23/100\n",
      "32584/32584 [==============================] - 1s 29us/step - loss: 0.4652 - acc: 0.8137 - val_loss: 0.4803 - val_acc: 0.8052\n",
      "Epoch 24/100\n",
      "32584/32584 [==============================] - 1s 29us/step - loss: 0.4646 - acc: 0.8137 - val_loss: 0.4796 - val_acc: 0.8057\n",
      "Epoch 25/100\n",
      "32584/32584 [==============================] - 1s 29us/step - loss: 0.4640 - acc: 0.8138 - val_loss: 0.4791 - val_acc: 0.8059\n",
      "Epoch 26/100\n",
      "32584/32584 [==============================] - 1s 28us/step - loss: 0.4634 - acc: 0.8139 - val_loss: 0.4782 - val_acc: 0.8065\n",
      "Epoch 27/100\n",
      "32584/32584 [==============================] - 1s 29us/step - loss: 0.4628 - acc: 0.8139 - val_loss: 0.4775 - val_acc: 0.8067\n",
      "Epoch 28/100\n",
      "32584/32584 [==============================] - 1s 28us/step - loss: 0.4623 - acc: 0.8140 - val_loss: 0.4769 - val_acc: 0.8067\n",
      "Epoch 29/100\n",
      "32584/32584 [==============================] - 1s 28us/step - loss: 0.4617 - acc: 0.8140 - val_loss: 0.4764 - val_acc: 0.8069\n",
      "Epoch 30/100\n",
      "32584/32584 [==============================] - 1s 28us/step - loss: 0.4611 - acc: 0.8139 - val_loss: 0.4755 - val_acc: 0.8070\n",
      "Epoch 31/100\n",
      "32584/32584 [==============================] - 1s 28us/step - loss: 0.4606 - acc: 0.8141 - val_loss: 0.4749 - val_acc: 0.8074\n",
      "Epoch 32/100\n",
      "32584/32584 [==============================] - 1s 28us/step - loss: 0.4600 - acc: 0.8143 - val_loss: 0.4741 - val_acc: 0.8071\n",
      "Epoch 33/100\n",
      "32584/32584 [==============================] - 1s 29us/step - loss: 0.4593 - acc: 0.8145 - val_loss: 0.4737 - val_acc: 0.8074\n",
      "Epoch 34/100\n",
      "32584/32584 [==============================] - 1s 28us/step - loss: 0.4588 - acc: 0.8146 - val_loss: 0.4727 - val_acc: 0.8073\n",
      "Epoch 35/100\n",
      "32584/32584 [==============================] - 1s 28us/step - loss: 0.4583 - acc: 0.8147 - val_loss: 0.4722 - val_acc: 0.8074\n",
      "Epoch 36/100\n",
      "32584/32584 [==============================] - 1s 28us/step - loss: 0.4576 - acc: 0.8148 - val_loss: 0.4715 - val_acc: 0.8085\n",
      "Epoch 37/100\n",
      "32584/32584 [==============================] - 1s 28us/step - loss: 0.4571 - acc: 0.8148 - val_loss: 0.4707 - val_acc: 0.8084\n",
      "Epoch 38/100\n",
      "32584/32584 [==============================] - 1s 28us/step - loss: 0.4565 - acc: 0.8149 - val_loss: 0.4702 - val_acc: 0.8086\n",
      "Epoch 39/100\n",
      "32584/32584 [==============================] - 1s 28us/step - loss: 0.4559 - acc: 0.8152 - val_loss: 0.4695 - val_acc: 0.8087\n",
      "Epoch 40/100\n",
      "32584/32584 [==============================] - 1s 28us/step - loss: 0.4553 - acc: 0.8155 - val_loss: 0.4689 - val_acc: 0.8090\n",
      "Epoch 41/100\n",
      "32584/32584 [==============================] - 1s 28us/step - loss: 0.4547 - acc: 0.8156 - val_loss: 0.4682 - val_acc: 0.8091\n",
      "Epoch 42/100\n",
      "32584/32584 [==============================] - 1s 28us/step - loss: 0.4541 - acc: 0.8156 - val_loss: 0.4675 - val_acc: 0.8091\n",
      "Epoch 43/100\n",
      "32584/32584 [==============================] - 1s 28us/step - loss: 0.4536 - acc: 0.8159 - val_loss: 0.4669 - val_acc: 0.8097\n",
      "Epoch 44/100\n",
      "32584/32584 [==============================] - 1s 27us/step - loss: 0.4530 - acc: 0.8161 - val_loss: 0.4667 - val_acc: 0.8092\n",
      "Epoch 45/100\n",
      "32584/32584 [==============================] - 1s 28us/step - loss: 0.4524 - acc: 0.8163 - val_loss: 0.4658 - val_acc: 0.8101\n",
      "Epoch 46/100\n",
      "32584/32584 [==============================] - 1s 28us/step - loss: 0.4518 - acc: 0.8164 - val_loss: 0.4650 - val_acc: 0.8103\n",
      "Epoch 47/100\n",
      "32584/32584 [==============================] - 1s 27us/step - loss: 0.4513 - acc: 0.8166 - val_loss: 0.4644 - val_acc: 0.8103\n",
      "Epoch 48/100\n",
      "32584/32584 [==============================] - 1s 27us/step - loss: 0.4505 - acc: 0.8166 - val_loss: 0.4635 - val_acc: 0.8103\n",
      "Epoch 49/100\n",
      "32584/32584 [==============================] - 1s 28us/step - loss: 0.4500 - acc: 0.8166 - val_loss: 0.4630 - val_acc: 0.8105\n",
      "Epoch 50/100\n",
      "32584/32584 [==============================] - 1s 27us/step - loss: 0.4494 - acc: 0.8168 - val_loss: 0.4635 - val_acc: 0.8105\n",
      "Epoch 51/100\n",
      "32584/32584 [==============================] - 1s 27us/step - loss: 0.4489 - acc: 0.8171 - val_loss: 0.4621 - val_acc: 0.8108\n",
      "Epoch 52/100\n",
      "32584/32584 [==============================] - 1s 27us/step - loss: 0.4483 - acc: 0.8172 - val_loss: 0.4613 - val_acc: 0.8112\n",
      "Epoch 53/100\n",
      "32584/32584 [==============================] - 1s 28us/step - loss: 0.4477 - acc: 0.8174 - val_loss: 0.4607 - val_acc: 0.8113\n",
      "Epoch 54/100\n",
      "32584/32584 [==============================] - 1s 28us/step - loss: 0.4471 - acc: 0.8174 - val_loss: 0.4601 - val_acc: 0.8111\n",
      "Epoch 55/100\n",
      "32584/32584 [==============================] - 1s 28us/step - loss: 0.4466 - acc: 0.8176 - val_loss: 0.4593 - val_acc: 0.8113\n",
      "Epoch 56/100\n",
      "32584/32584 [==============================] - 1s 28us/step - loss: 0.4460 - acc: 0.8178 - val_loss: 0.4587 - val_acc: 0.8118\n",
      "Epoch 57/100\n",
      "32584/32584 [==============================] - 1s 28us/step - loss: 0.4454 - acc: 0.8179 - val_loss: 0.4582 - val_acc: 0.8118\n",
      "Epoch 58/100\n",
      "32584/32584 [==============================] - 1s 28us/step - loss: 0.4448 - acc: 0.8180 - val_loss: 0.4572 - val_acc: 0.8122\n",
      "Epoch 59/100\n",
      "32584/32584 [==============================] - 1s 30us/step - loss: 0.4442 - acc: 0.8183 - val_loss: 0.4570 - val_acc: 0.8121\n",
      "Epoch 60/100\n",
      "32584/32584 [==============================] - 1s 30us/step - loss: 0.4437 - acc: 0.8181 - val_loss: 0.4573 - val_acc: 0.8124\n",
      "Epoch 61/100\n",
      "32584/32584 [==============================] - 1s 30us/step - loss: 0.4431 - acc: 0.8184 - val_loss: 0.4554 - val_acc: 0.8132\n",
      "Epoch 62/100\n",
      "32584/32584 [==============================] - 1s 30us/step - loss: 0.4427 - acc: 0.8184 - val_loss: 0.4549 - val_acc: 0.8134\n",
      "Epoch 63/100\n",
      "32584/32584 [==============================] - 1s 30us/step - loss: 0.4419 - acc: 0.8186 - val_loss: 0.4545 - val_acc: 0.8137\n",
      "Epoch 64/100\n",
      "32584/32584 [==============================] - 1s 29us/step - loss: 0.4414 - acc: 0.8188 - val_loss: 0.4539 - val_acc: 0.8140\n",
      "Epoch 65/100\n",
      "32584/32584 [==============================] - 1s 30us/step - loss: 0.4408 - acc: 0.8188 - val_loss: 0.4534 - val_acc: 0.8141\n",
      "Epoch 66/100\n",
      "32584/32584 [==============================] - 1s 30us/step - loss: 0.4403 - acc: 0.8189 - val_loss: 0.4530 - val_acc: 0.8144\n",
      "Epoch 67/100\n",
      "32584/32584 [==============================] - 1s 30us/step - loss: 0.4398 - acc: 0.8191 - val_loss: 0.4522 - val_acc: 0.8143\n",
      "Epoch 68/100\n",
      "32584/32584 [==============================] - 1s 30us/step - loss: 0.4392 - acc: 0.8193 - val_loss: 0.4521 - val_acc: 0.8141\n",
      "Epoch 69/100\n",
      "32584/32584 [==============================] - 1s 29us/step - loss: 0.4387 - acc: 0.8194 - val_loss: 0.4510 - val_acc: 0.8145\n",
      "Epoch 70/100\n",
      "32584/32584 [==============================] - 1s 29us/step - loss: 0.4381 - acc: 0.8198 - val_loss: 0.4500 - val_acc: 0.8149\n",
      "Epoch 71/100\n",
      "32584/32584 [==============================] - 1s 29us/step - loss: 0.4374 - acc: 0.8197 - val_loss: 0.4500 - val_acc: 0.8149\n",
      "Epoch 72/100\n",
      "32584/32584 [==============================] - 1s 30us/step - loss: 0.4370 - acc: 0.8199 - val_loss: 0.4495 - val_acc: 0.8148\n",
      "Epoch 73/100\n",
      "32584/32584 [==============================] - 1s 30us/step - loss: 0.4365 - acc: 0.8201 - val_loss: 0.4484 - val_acc: 0.8159\n",
      "Epoch 74/100\n",
      "32584/32584 [==============================] - 1s 29us/step - loss: 0.4359 - acc: 0.8201 - val_loss: 0.4471 - val_acc: 0.8151\n",
      "Epoch 75/100\n",
      "32584/32584 [==============================] - 1s 30us/step - loss: 0.4352 - acc: 0.8203 - val_loss: 0.4481 - val_acc: 0.8162\n",
      "Epoch 76/100\n",
      "32584/32584 [==============================] - 1s 29us/step - loss: 0.4348 - acc: 0.8205 - val_loss: 0.4486 - val_acc: 0.8149\n",
      "Epoch 77/100\n",
      "32584/32584 [==============================] - 1s 29us/step - loss: 0.4342 - acc: 0.8206 - val_loss: 0.4464 - val_acc: 0.8164\n",
      "Epoch 78/100\n",
      "32584/32584 [==============================] - 1s 29us/step - loss: 0.4337 - acc: 0.8209 - val_loss: 0.4487 - val_acc: 0.8170\n",
      "Epoch 79/100\n",
      "32584/32584 [==============================] - 1s 29us/step - loss: 0.4333 - acc: 0.8212 - val_loss: 0.4453 - val_acc: 0.8162\n",
      "Epoch 80/100\n",
      "32584/32584 [==============================] - 1s 29us/step - loss: 0.4327 - acc: 0.8212 - val_loss: 0.4456 - val_acc: 0.8171\n",
      "Epoch 81/100\n",
      "32584/32584 [==============================] - 1s 29us/step - loss: 0.4321 - acc: 0.8215 - val_loss: 0.4447 - val_acc: 0.8173\n",
      "Epoch 82/100\n",
      "32584/32584 [==============================] - 1s 29us/step - loss: 0.4316 - acc: 0.8213 - val_loss: 0.4431 - val_acc: 0.8173\n",
      "Epoch 83/100\n",
      "32584/32584 [==============================] - 1s 29us/step - loss: 0.4310 - acc: 0.8217 - val_loss: 0.4420 - val_acc: 0.8173\n",
      "Epoch 84/100\n",
      "32584/32584 [==============================] - 1s 29us/step - loss: 0.4308 - acc: 0.8216 - val_loss: 0.4410 - val_acc: 0.8171\n",
      "Epoch 85/100\n",
      "32584/32584 [==============================] - 1s 29us/step - loss: 0.4300 - acc: 0.8215 - val_loss: 0.4428 - val_acc: 0.8172\n",
      "Epoch 86/100\n",
      "32584/32584 [==============================] - 1s 28us/step - loss: 0.4296 - acc: 0.8220 - val_loss: 0.4442 - val_acc: 0.8162\n",
      "Epoch 87/100\n",
      "32584/32584 [==============================] - 1s 30us/step - loss: 0.4292 - acc: 0.8218 - val_loss: 0.4413 - val_acc: 0.8175\n",
      "Epoch 88/100\n",
      "32584/32584 [==============================] - 1s 31us/step - loss: 0.4282 - acc: 0.8221 - val_loss: 0.4388 - val_acc: 0.8177\n",
      "Epoch 89/100\n",
      "32584/32584 [==============================] - 1s 29us/step - loss: 0.4279 - acc: 0.8220 - val_loss: 0.4416 - val_acc: 0.8171\n",
      "Epoch 90/100\n",
      "32584/32584 [==============================] - 1s 30us/step - loss: 0.4275 - acc: 0.8225 - val_loss: 0.4387 - val_acc: 0.8179\n",
      "Epoch 91/100\n",
      "32584/32584 [==============================] - 1s 29us/step - loss: 0.4269 - acc: 0.8221 - val_loss: 0.4368 - val_acc: 0.8179\n",
      "Epoch 92/100\n",
      "32584/32584 [==============================] - 1s 28us/step - loss: 0.4263 - acc: 0.8222 - val_loss: 0.4379 - val_acc: 0.8181\n",
      "Epoch 93/100\n",
      "32584/32584 [==============================] - 1s 29us/step - loss: 0.4260 - acc: 0.8226 - val_loss: 0.4378 - val_acc: 0.8178\n",
      "Epoch 94/100\n",
      "32584/32584 [==============================] - 1s 29us/step - loss: 0.4255 - acc: 0.8227 - val_loss: 0.4412 - val_acc: 0.8172\n",
      "Epoch 95/100\n",
      "32584/32584 [==============================] - 1s 29us/step - loss: 0.4251 - acc: 0.8226 - val_loss: 0.4386 - val_acc: 0.8176\n",
      "Epoch 96/100\n",
      "32584/32584 [==============================] - 1s 28us/step - loss: 0.4245 - acc: 0.8229 - val_loss: 0.4388 - val_acc: 0.8176\n",
      "Epoch 97/100\n",
      "32584/32584 [==============================] - 1s 29us/step - loss: 0.4238 - acc: 0.8233 - val_loss: 0.4381 - val_acc: 0.8175\n",
      "Epoch 98/100\n",
      "32584/32584 [==============================] - 1s 28us/step - loss: 0.4234 - acc: 0.8229 - val_loss: 0.4334 - val_acc: 0.8181\n",
      "Epoch 99/100\n",
      "32584/32584 [==============================] - 1s 28us/step - loss: 0.4229 - acc: 0.8232 - val_loss: 0.4337 - val_acc: 0.8191\n",
      "Epoch 100/100\n",
      "32584/32584 [==============================] - 1s 29us/step - loss: 0.4223 - acc: 0.8233 - val_loss: 0.4359 - val_acc: 0.8179\n"
     ]
    }
   ],
   "source": [
    "model5_history = mlp_model5.fit(X_train, y_train, epochs=100, batch_size=64, validation_split=0.2)"
   ]
  },
  {
   "cell_type": "markdown",
   "metadata": {},
   "source": [
    "##### Plot"
   ]
  },
  {
   "cell_type": "code",
   "execution_count": 120,
   "metadata": {},
   "outputs": [
    {
     "name": "stdout",
     "output_type": "stream",
     "text": [
      "dict_keys(['loss', 'val_acc', 'val_loss', 'acc'])\n"
     ]
    }
   ],
   "source": [
    "print(model5_history.history.keys())"
   ]
  },
  {
   "cell_type": "code",
   "execution_count": 121,
   "metadata": {},
   "outputs": [
    {
     "data": {
      "image/png": "[encoded data removed]",
      "text/plain": [
       "<matplotlib.figure.Figure at 0x1e1e3c74d30>"
      ]
     },
     "metadata": {},
     "output_type": "display_data"
    }
   ],
   "source": [
    "plt.plot(model5_history.history['acc'])\n",
    "plt.plot(model5_history.history['val_acc'])\n",
    "plt.title('Accuracy Plot')\n",
    "plt.ylabel('Accuracy')\n",
    "plt.xlabel('Epoch')\n",
    "plt.legend(['Train', 'Validation'])\n",
    "plt.show()"
   ]
  },
  {
   "cell_type": "code",
   "execution_count": 122,
   "metadata": {},
   "outputs": [
    {
     "data": {
      "image/png": "[encoded data removed]",
      "text/plain": [
       "<matplotlib.figure.Figure at 0x1e1e3d8ccc0>"
      ]
     },
     "metadata": {},
     "output_type": "display_data"
    }
   ],
   "source": [
    "plt.plot(model5_history.history['loss'])\n",
    "plt.plot(model5_history.history['val_loss'])\n",
    "plt.title('Loss Function Plot')\n",
    "plt.ylabel('Loss')\n",
    "plt.xlabel('Epoch')\n",
    "plt.legend(['Train', 'Validation'])\n",
    "plt.show()"
   ]
  },
  {
   "cell_type": "markdown",
   "metadata": {},
   "source": [
    "#### Predictions"
   ]
  },
  {
   "cell_type": "code",
   "execution_count": 123,
   "metadata": {
    "collapsed": true
   },
   "outputs": [],
   "source": [
    "train_model5_pred = mlp_model5.predict_classes(X_train)\n",
    "test_model5_pred = mlp_model5.predict_classes(X_test)"
   ]
  },
  {
   "cell_type": "markdown",
   "metadata": {},
   "source": [
    "#### Getting evaluation metrics and evaluating model performance"
   ]
  },
  {
   "cell_type": "code",
   "execution_count": 124,
   "metadata": {},
   "outputs": [
    {
     "name": "stdout",
     "output_type": "stream",
     "text": [
      "[[32829   223]\n",
      " [ 7051   627]]\n",
      "[[14068    97]\n",
      " [ 3024   267]]\n"
     ]
    }
   ],
   "source": [
    "confusion_matrix_train = confusion_matrix(y_train, train_model5_pred)\n",
    "confusion_matrix_test = confusion_matrix(y_test, test_model5_pred)\n",
    "\n",
    "print(confusion_matrix_train)\n",
    "print(confusion_matrix_test)"
   ]
  },
  {
   "cell_type": "markdown",
   "metadata": {},
   "source": [
    "#### Calculate Accuracy, True Positive Rate and True Negative Rates"
   ]
  },
  {
   "cell_type": "code",
   "execution_count": 125,
   "metadata": {},
   "outputs": [
    {
     "name": "stdout",
     "output_type": "stream",
     "text": [
      "Train TNR:  0.993253055791\n",
      "Train TPR:  0.0816618911175\n",
      "Train Accuracy:  0.821409280629\n",
      "-----------------------\n",
      "Test TNR:  0.993152135545\n",
      "Test TPR:  0.081130355515\n",
      "Test Accuracy:  0.821207607699\n"
     ]
    }
   ],
   "source": [
    "Accuracy_Train_M5 =(confusion_matrix_train[0,0]+confusion_matrix_train[1,1])/(confusion_matrix_train[0,0]+confusion_matrix_train[0,1]+confusion_matrix_train[1,0]+confusion_matrix_train[1,1])\n",
    "TNR_Train_M5 = confusion_matrix_train[0,0]/(confusion_matrix_train[0,0]+confusion_matrix_train[0,1])\n",
    "TPR_Train_M5 = confusion_matrix_train[1,1]/(confusion_matrix_train[1,0]+confusion_matrix_train[1,1])\n",
    "\n",
    "print(\"Train TNR: \",TNR_Train_M5)\n",
    "print(\"Train TPR: \",TPR_Train_M5)\n",
    "print(\"Train Accuracy: \",Accuracy_Train_M5)\n",
    "print(\"-----------------------\")\n",
    "\n",
    "Accuracy_Test_M5 = (confusion_matrix_test[0,0]+confusion_matrix_test[1,1])/(confusion_matrix_test[0,0]+confusion_matrix_test[0,1]+confusion_matrix_test[1,0]+confusion_matrix_test[1,1])\n",
    "TNR_Test_M5 = confusion_matrix_test[0,0]/(confusion_matrix_test[0,0] +confusion_matrix_test[0,1])\n",
    "TPR_Test_M5 = confusion_matrix_test[1,1]/(confusion_matrix_test[1,0] +confusion_matrix_test[1,1])\n",
    "\n",
    "print(\"Test TNR: \",TNR_Test_M5)\n",
    "print(\"Test TPR: \",TPR_Test_M5)\n",
    "print(\"Test Accuracy: \",Accuracy_Test_M5)"
   ]
  },
  {
   "cell_type": "markdown",
   "metadata": {},
   "source": [
    "Observation:\n",
    "\n",
    "    Based on the TPR: 2 layer mlp, with 25 nodes in hiddent layer"
   ]
  },
  {
   "cell_type": "markdown",
   "metadata": {},
   "source": [
    "## Find best parameter"
   ]
  },
  {
   "cell_type": "markdown",
   "metadata": {},
   "source": [
    "#### Function for creation of model"
   ]
  },
  {
   "cell_type": "code",
   "execution_count": 126,
   "metadata": {
    "collapsed": true
   },
   "outputs": [],
   "source": [
    "def model_def(h_activation, o_activation, kernel_init):\n",
    "    \n",
    "    model=Sequential()\n",
    "    \n",
    "    model.add(Dense(25,input_dim=21,activation='tanh',kernel_initializer='normal'))\n",
    "    model.add(Dense(20,activation='tanh',kernel_initializer='normal'))\n",
    "    model.add(Dense(1, activation='sigmoid', kernel_initializer='normal'))\n",
    "    \n",
    "    return model "
   ]
  },
  {
   "cell_type": "markdown",
   "metadata": {},
   "source": [
    "#### Store the best parameters"
   ]
  },
  {
   "cell_type": "code",
   "execution_count": 127,
   "metadata": {
    "collapsed": true
   },
   "outputs": [],
   "source": [
    "best_params={}"
   ]
  },
  {
   "cell_type": "markdown",
   "metadata": {},
   "source": [
    "### Find the best Learning rate"
   ]
  },
  {
   "cell_type": "markdown",
   "metadata": {},
   "source": [
    "    Using logarithmic scale randomly generate values between 0.0001 to 1 "
   ]
  },
  {
   "cell_type": "code",
   "execution_count": 128,
   "metadata": {},
   "outputs": [
    {
     "data": {
      "text/plain": [
       "[0.00040000000000000002,\n",
       " 0.40639999999999998,\n",
       " 0.13389999999999999,\n",
       " 0.0091000000000000004,\n",
       " 0.15459999999999999,\n",
       " 0.0001,\n",
       " 0.3846,\n",
       " 0.001,\n",
       " 0.00050000000000000001,\n",
       " 0.0001]"
      ]
     },
     "execution_count": 128,
     "metadata": {},
     "output_type": "execute_result"
    }
   ],
   "source": [
    "NUM_LR = 10 \n",
    "\n",
    "lrs = [round(i, 4) for i in list(10 ** (-4 * np.random.rand(NUM_LR)))]\n",
    "\n",
    "lrs"
   ]
  },
  {
   "cell_type": "code",
   "execution_count": 130,
   "metadata": {},
   "outputs": [
    {
     "name": "stdout",
     "output_type": "stream",
     "text": [
      "Epoch 1/1\n",
      "40730/40730 [==============================] - 3s 63us/step - loss: 0.6697 - acc: 0.8098\n",
      "Epoch 1/1\n",
      "40730/40730 [==============================] - 3s 69us/step - loss: 0.4684 - acc: 0.8129\n",
      "Epoch 1/1\n",
      "40730/40730 [==============================] - 3s 71us/step - loss: 0.4761 - acc: 0.8112\n",
      "Epoch 1/1\n",
      "40730/40730 [==============================] - 3s 85us/step - loss: 0.5218 - acc: 0.8115\n",
      "Epoch 1/1\n",
      "40730/40730 [==============================] - 3s 79us/step - loss: 0.4759 - acc: 0.8115\n",
      "Epoch 1/1\n",
      "40730/40730 [==============================] - 3s 72us/step - loss: 0.6871 - acc: 0.7959\n",
      "Epoch 1/1\n",
      "40730/40730 [==============================] - 3s 76us/step - loss: 0.4680 - acc: 0.8135\n",
      "Epoch 1/1\n",
      "40730/40730 [==============================] - 3s 80us/step - loss: 0.6405 - acc: 0.8079\n",
      "Epoch 1/1\n",
      "40730/40730 [==============================] - 3s 77us/step - loss: 0.6632 - acc: 0.8089\n",
      "Epoch 1/1\n",
      "40730/40730 [==============================] - 3s 74us/step - loss: 0.6858 - acc: 0.8017\n"
     ]
    }
   ],
   "source": [
    "hist_loss = []\n",
    "\n",
    "for lr in lrs:\n",
    "        \n",
    "    lr_model = model_def(h_activation='tanh', o_activation='sigmoid', kernel_init='normal')\n",
    "    \n",
    "    # Compile model\n",
    "    sgd = optimizers.SGD(lr=lr)\n",
    "    \n",
    "    lr_model.compile(loss='binary_crossentropy', optimizer=sgd, metrics=['accuracy'])\n",
    "    \n",
    "    # Fit the model\n",
    "    lr_model_history = lr_model.fit(X_train,y_train)\n",
    "    \n",
    "    hist_loss.append(lr_model_history.history['loss'])"
   ]
  },
  {
   "cell_type": "code",
   "execution_count": 131,
   "metadata": {},
   "outputs": [
    {
     "data": {
      "text/html": [
       "<div>\n",
       "<style>\n",
       "    .dataframe thead tr:only-child th {\n",
       "        text-align: right;\n",
       "    }\n",
       "\n",
       "    .dataframe thead th {\n",
       "        text-align: left;\n",
       "    }\n",
       "\n",
       "    .dataframe tbody tr th {\n",
       "        vertical-align: top;\n",
       "    }\n",
       "</style>\n",
       "<table border=\"1\" class=\"dataframe\">\n",
       "  <thead>\n",
       "    <tr style=\"text-align: right;\">\n",
       "      <th></th>\n",
       "      <th>lr</th>\n",
       "      <th>loss</th>\n",
       "    </tr>\n",
       "  </thead>\n",
       "  <tbody>\n",
       "    <tr>\n",
       "      <th>0</th>\n",
       "      <td>0.3846</td>\n",
       "      <td>[0.468011284384]</td>\n",
       "    </tr>\n",
       "    <tr>\n",
       "      <th>1</th>\n",
       "      <td>0.4064</td>\n",
       "      <td>[0.468404055711]</td>\n",
       "    </tr>\n",
       "    <tr>\n",
       "      <th>2</th>\n",
       "      <td>0.1546</td>\n",
       "      <td>[0.475853659954]</td>\n",
       "    </tr>\n",
       "    <tr>\n",
       "      <th>3</th>\n",
       "      <td>0.1339</td>\n",
       "      <td>[0.476079792633]</td>\n",
       "    </tr>\n",
       "    <tr>\n",
       "      <th>4</th>\n",
       "      <td>0.0091</td>\n",
       "      <td>[0.521821638585]</td>\n",
       "    </tr>\n",
       "    <tr>\n",
       "      <th>5</th>\n",
       "      <td>0.001</td>\n",
       "      <td>[0.640487836992]</td>\n",
       "    </tr>\n",
       "    <tr>\n",
       "      <th>6</th>\n",
       "      <td>0.0005</td>\n",
       "      <td>[0.663206822147]</td>\n",
       "    </tr>\n",
       "    <tr>\n",
       "      <th>7</th>\n",
       "      <td>0.0004</td>\n",
       "      <td>[0.669724884271]</td>\n",
       "    </tr>\n",
       "    <tr>\n",
       "      <th>8</th>\n",
       "      <td>0.0001</td>\n",
       "      <td>[0.685805027197]</td>\n",
       "    </tr>\n",
       "    <tr>\n",
       "      <th>9</th>\n",
       "      <td>0.0001</td>\n",
       "      <td>[0.68707441568]</td>\n",
       "    </tr>\n",
       "  </tbody>\n",
       "</table>\n",
       "</div>"
      ],
      "text/plain": [
       "       lr              loss\n",
       "0  0.3846  [0.468011284384]\n",
       "1  0.4064  [0.468404055711]\n",
       "2  0.1546  [0.475853659954]\n",
       "3  0.1339  [0.476079792633]\n",
       "4  0.0091  [0.521821638585]\n",
       "5   0.001  [0.640487836992]\n",
       "6  0.0005  [0.663206822147]\n",
       "7  0.0004  [0.669724884271]\n",
       "8  0.0001  [0.685805027197]\n",
       "9  0.0001   [0.68707441568]"
      ]
     },
     "execution_count": 131,
     "metadata": {},
     "output_type": "execute_result"
    }
   ],
   "source": [
    "# Get the lr and loss Dataframe\n",
    "loss_lr = pd.DataFrame([lrs,hist_loss]).T  \n",
    "\n",
    "#Give the coloumn names\n",
    "loss_lr.columns=['lr', 'loss']\n",
    "\n",
    "#Sort the values and reset the index\n",
    "loss_lr=loss_lr.sort_values('loss').reset_index().drop('index',axis=1)\n",
    "loss_lr"
   ]
  },
  {
   "cell_type": "code",
   "execution_count": 132,
   "metadata": {
    "collapsed": true
   },
   "outputs": [],
   "source": [
    "#pick the top lr\n",
    "best_params['best_learning_rate'] = loss_lr.loc[:,'lr'][0]"
   ]
  },
  {
   "cell_type": "markdown",
   "metadata": {},
   "source": [
    "#### Build model with the best learning rate"
   ]
  },
  {
   "cell_type": "markdown",
   "metadata": {},
   "source": [
    "#### Got the below value as best learning rate after different experiments"
   ]
  },
  {
   "cell_type": "code",
   "execution_count": 133,
   "metadata": {
    "collapsed": true
   },
   "outputs": [],
   "source": [
    "bst_lr_model = model_def(h_activation='tanh', o_activation='sigmoid', kernel_init='normal')"
   ]
  },
  {
   "cell_type": "code",
   "execution_count": 134,
   "metadata": {},
   "outputs": [
    {
     "name": "stdout",
     "output_type": "stream",
     "text": [
      "_________________________________________________________________\n",
      "Layer (type)                 Output Shape              Param #   \n",
      "=================================================================\n",
      "dense_49 (Dense)             (None, 25)                550       \n",
      "_________________________________________________________________\n",
      "dense_50 (Dense)             (None, 20)                520       \n",
      "_________________________________________________________________\n",
      "dense_51 (Dense)             (None, 1)                 21        \n",
      "=================================================================\n",
      "Total params: 1,091\n",
      "Trainable params: 1,091\n",
      "Non-trainable params: 0\n",
      "_________________________________________________________________\n"
     ]
    }
   ],
   "source": [
    "bst_lr_model.summary()"
   ]
  },
  {
   "cell_type": "code",
   "execution_count": 135,
   "metadata": {
    "collapsed": true
   },
   "outputs": [],
   "source": [
    "sgd = optimizers.SGD(lr=best_params['best_learning_rate'])\n",
    "bst_lr_model.compile(loss='binary_crossentropy', optimizer=sgd, metrics=['accuracy'])"
   ]
  },
  {
   "cell_type": "code",
   "execution_count": 136,
   "metadata": {},
   "outputs": [
    {
     "name": "stdout",
     "output_type": "stream",
     "text": [
      "Train on 32584 samples, validate on 8146 samples\n",
      "Epoch 1/100\n",
      "32584/32584 [==============================] - 3s 78us/step - loss: 0.4742 - acc: 0.8132 - val_loss: 0.4751 - val_acc: 0.8071\n",
      "Epoch 2/100\n",
      "32584/32584 [==============================] - 1s 35us/step - loss: 0.4562 - acc: 0.8164 - val_loss: 0.6162 - val_acc: 0.6957\n",
      "Epoch 3/100\n",
      "32584/32584 [==============================] - 1s 33us/step - loss: 0.4485 - acc: 0.8183 - val_loss: 0.4857 - val_acc: 0.8118\n",
      "Epoch 4/100\n",
      "32584/32584 [==============================] - 1s 32us/step - loss: 0.4429 - acc: 0.8205 - val_loss: 0.4840 - val_acc: 0.8192\n",
      "Epoch 5/100\n",
      "32584/32584 [==============================] - 1s 31us/step - loss: 0.4381 - acc: 0.8218 - val_loss: 0.5287 - val_acc: 0.8135\n",
      "Epoch 6/100\n",
      "32584/32584 [==============================] - 1s 31us/step - loss: 0.4338 - acc: 0.8218 - val_loss: 0.4643 - val_acc: 0.8166\n",
      "Epoch 7/100\n",
      "32584/32584 [==============================] - 1s 32us/step - loss: 0.4309 - acc: 0.8229 - val_loss: 0.5467 - val_acc: 0.8139\n",
      "Epoch 8/100\n",
      "32584/32584 [==============================] - 1s 29us/step - loss: 0.4280 - acc: 0.8229 - val_loss: 0.4278 - val_acc: 0.8191\n",
      "Epoch 9/100\n",
      "32584/32584 [==============================] - 1s 31us/step - loss: 0.4260 - acc: 0.8231 - val_loss: 0.4403 - val_acc: 0.8200\n",
      "Epoch 10/100\n",
      "32584/32584 [==============================] - 1s 31us/step - loss: 0.4246 - acc: 0.8229 - val_loss: 0.4416 - val_acc: 0.8237\n",
      "Epoch 11/100\n",
      "32584/32584 [==============================] - 1s 32us/step - loss: 0.4198 - acc: 0.8256 - val_loss: 0.4269 - val_acc: 0.8203\n",
      "Epoch 12/100\n",
      "32584/32584 [==============================] - 1s 31us/step - loss: 0.4201 - acc: 0.8250 - val_loss: 0.5629 - val_acc: 0.8152\n",
      "Epoch 13/100\n",
      "32584/32584 [==============================] - 1s 31us/step - loss: 0.4189 - acc: 0.8254 - val_loss: 0.4526 - val_acc: 0.8127\n",
      "Epoch 14/100\n",
      "32584/32584 [==============================] - 1s 31us/step - loss: 0.4166 - acc: 0.8262 - val_loss: 0.6885 - val_acc: 0.4206\n",
      "Epoch 15/100\n",
      "32584/32584 [==============================] - 1s 31us/step - loss: 0.4173 - acc: 0.8249 - val_loss: 0.4794 - val_acc: 0.8176\n",
      "Epoch 16/100\n",
      "32584/32584 [==============================] - 1s 31us/step - loss: 0.4142 - acc: 0.8261 - val_loss: 0.4772 - val_acc: 0.7817\n",
      "Epoch 17/100\n",
      "32584/32584 [==============================] - 1s 31us/step - loss: 0.4140 - acc: 0.8258 - val_loss: 0.4733 - val_acc: 0.8194\n",
      "Epoch 18/100\n",
      "32584/32584 [==============================] - 1s 31us/step - loss: 0.4136 - acc: 0.8259 - val_loss: 0.9162 - val_acc: 0.3028\n",
      "Epoch 19/100\n",
      "32584/32584 [==============================] - 1s 30us/step - loss: 0.4116 - acc: 0.8268 - val_loss: 0.4926 - val_acc: 0.8187\n",
      "Epoch 20/100\n",
      "32584/32584 [==============================] - 1s 31us/step - loss: 0.4112 - acc: 0.8270 - val_loss: 0.6179 - val_acc: 0.5200\n",
      "Epoch 21/100\n",
      "32584/32584 [==============================] - 1s 30us/step - loss: 0.4101 - acc: 0.8259 - val_loss: 0.4655 - val_acc: 0.8289\n",
      "Epoch 22/100\n",
      "32584/32584 [==============================] - 1s 30us/step - loss: 0.4081 - acc: 0.8280 - val_loss: 0.4072 - val_acc: 0.8237\n",
      "Epoch 23/100\n",
      "32584/32584 [==============================] - 1s 31us/step - loss: 0.4075 - acc: 0.8283 - val_loss: 0.4500 - val_acc: 0.8194\n",
      "Epoch 24/100\n",
      "32584/32584 [==============================] - 1s 31us/step - loss: 0.4073 - acc: 0.8273 - val_loss: 0.5048 - val_acc: 0.8193\n",
      "Epoch 25/100\n",
      "32584/32584 [==============================] - 1s 30us/step - loss: 0.4066 - acc: 0.8286 - val_loss: 0.4407 - val_acc: 0.8095\n",
      "Epoch 26/100\n",
      "32584/32584 [==============================] - 1s 30us/step - loss: 0.4059 - acc: 0.8295 - val_loss: 0.4042 - val_acc: 0.8288\n",
      "Epoch 27/100\n",
      "32584/32584 [==============================] - 1s 30us/step - loss: 0.4040 - acc: 0.8280 - val_loss: 0.5337 - val_acc: 0.7741\n",
      "Epoch 28/100\n",
      "32584/32584 [==============================] - 1s 30us/step - loss: 0.4029 - acc: 0.8277 - val_loss: 0.7060 - val_acc: 0.4462\n",
      "Epoch 29/100\n",
      "32584/32584 [==============================] - 1s 30us/step - loss: 0.4036 - acc: 0.8282 - val_loss: 0.4262 - val_acc: 0.8221\n",
      "Epoch 30/100\n",
      "32584/32584 [==============================] - 1s 32us/step - loss: 0.4032 - acc: 0.8294 - val_loss: 0.4663 - val_acc: 0.8199\n",
      "Epoch 31/100\n",
      "32584/32584 [==============================] - 1s 31us/step - loss: 0.4021 - acc: 0.8285 - val_loss: 0.6516 - val_acc: 0.4837\n",
      "Epoch 32/100\n",
      "32584/32584 [==============================] - 1s 30us/step - loss: 0.3999 - acc: 0.8288 - val_loss: 0.4077 - val_acc: 0.8324\n",
      "Epoch 33/100\n",
      "32584/32584 [==============================] - 1s 31us/step - loss: 0.3994 - acc: 0.8291 - val_loss: 0.4247 - val_acc: 0.8263\n",
      "Epoch 34/100\n",
      "32584/32584 [==============================] - 1s 31us/step - loss: 0.3982 - acc: 0.8291 - val_loss: 0.3947 - val_acc: 0.8274\n",
      "Epoch 35/100\n",
      "32584/32584 [==============================] - 1s 32us/step - loss: 0.3974 - acc: 0.8299 - val_loss: 0.5882 - val_acc: 0.8191\n",
      "Epoch 36/100\n",
      "32584/32584 [==============================] - 1s 30us/step - loss: 0.3980 - acc: 0.8295 - val_loss: 0.6673 - val_acc: 0.8188\n",
      "Epoch 37/100\n",
      "32584/32584 [==============================] - 1s 30us/step - loss: 0.3975 - acc: 0.8298 - val_loss: 0.8954 - val_acc: 0.3720\n",
      "Epoch 38/100\n",
      "32584/32584 [==============================] - 1s 30us/step - loss: 0.3978 - acc: 0.8273 - val_loss: 0.4654 - val_acc: 0.8225\n",
      "Epoch 39/100\n",
      "32584/32584 [==============================] - 1s 30us/step - loss: 0.3972 - acc: 0.8309 - val_loss: 0.4134 - val_acc: 0.8330\n",
      "Epoch 40/100\n",
      "32584/32584 [==============================] - 1s 30us/step - loss: 0.3971 - acc: 0.8299 - val_loss: 0.5851 - val_acc: 0.8178\n",
      "Epoch 41/100\n",
      "32584/32584 [==============================] - 1s 29us/step - loss: 0.3977 - acc: 0.8311 - val_loss: 0.5099 - val_acc: 0.8141\n",
      "Epoch 42/100\n",
      "32584/32584 [==============================] - 1s 30us/step - loss: 0.3936 - acc: 0.8315 - val_loss: 0.4079 - val_acc: 0.8208\n",
      "Epoch 43/100\n",
      "32584/32584 [==============================] - 1s 29us/step - loss: 0.3924 - acc: 0.8328 - val_loss: 0.4395 - val_acc: 0.8330\n",
      "Epoch 44/100\n",
      "32584/32584 [==============================] - 1s 30us/step - loss: 0.3918 - acc: 0.8326 - val_loss: 0.6188 - val_acc: 0.8194\n",
      "Epoch 45/100\n",
      "32584/32584 [==============================] - 1s 29us/step - loss: 0.3921 - acc: 0.8319 - val_loss: 0.4746 - val_acc: 0.8246\n",
      "Epoch 46/100\n",
      "32584/32584 [==============================] - 1s 30us/step - loss: 0.3921 - acc: 0.8322 - val_loss: 0.4566 - val_acc: 0.8247\n",
      "Epoch 47/100\n",
      "32584/32584 [==============================] - 1s 31us/step - loss: 0.3927 - acc: 0.8316 - val_loss: 0.8110 - val_acc: 0.8161\n",
      "Epoch 48/100\n",
      "32584/32584 [==============================] - 1s 31us/step - loss: 0.3925 - acc: 0.8317 - val_loss: 0.3843 - val_acc: 0.8326\n",
      "Epoch 49/100\n",
      "32584/32584 [==============================] - 1s 31us/step - loss: 0.3911 - acc: 0.8334 - val_loss: 0.4825 - val_acc: 0.8245\n",
      "Epoch 50/100\n",
      "32584/32584 [==============================] - 1s 30us/step - loss: 0.3887 - acc: 0.8324 - val_loss: 0.4644 - val_acc: 0.8110\n",
      "Epoch 51/100\n",
      "32584/32584 [==============================] - 1s 30us/step - loss: 0.3887 - acc: 0.8331 - val_loss: 0.4790 - val_acc: 0.8243\n",
      "Epoch 52/100\n",
      "32584/32584 [==============================] - 1s 28us/step - loss: 0.3885 - acc: 0.8349 - val_loss: 0.4735 - val_acc: 0.8257\n",
      "Epoch 53/100\n",
      "32584/32584 [==============================] - 1s 30us/step - loss: 0.3875 - acc: 0.8323 - val_loss: 0.4248 - val_acc: 0.8141\n",
      "Epoch 54/100\n",
      "32584/32584 [==============================] - 1s 33us/step - loss: 0.3884 - acc: 0.8318 - val_loss: 0.4575 - val_acc: 0.7666\n",
      "Epoch 55/100\n",
      "32584/32584 [==============================] - 1s 31us/step - loss: 0.3861 - acc: 0.8347 - val_loss: 0.4916 - val_acc: 0.8232\n",
      "Epoch 56/100\n",
      "32584/32584 [==============================] - 1s 30us/step - loss: 0.3867 - acc: 0.8351 - val_loss: 0.5970 - val_acc: 0.8209\n",
      "Epoch 57/100\n",
      "32584/32584 [==============================] - 1s 31us/step - loss: 0.3865 - acc: 0.8355 - val_loss: 0.4574 - val_acc: 0.8256\n",
      "Epoch 58/100\n",
      "32584/32584 [==============================] - 1s 30us/step - loss: 0.3862 - acc: 0.8339 - val_loss: 0.4067 - val_acc: 0.8295\n",
      "Epoch 59/100\n",
      "32584/32584 [==============================] - 1s 33us/step - loss: 0.3840 - acc: 0.8351 - val_loss: 0.4145 - val_acc: 0.8319\n",
      "Epoch 60/100\n",
      "32584/32584 [==============================] - 1s 32us/step - loss: 0.3844 - acc: 0.8335 - val_loss: 0.4015 - val_acc: 0.8276\n",
      "Epoch 61/100\n",
      "32584/32584 [==============================] - 1s 33us/step - loss: 0.3840 - acc: 0.8330 - val_loss: 0.4102 - val_acc: 0.8301\n",
      "Epoch 62/100\n",
      "32584/32584 [==============================] - 1s 32us/step - loss: 0.3861 - acc: 0.8335 - val_loss: 0.3953 - val_acc: 0.8312\n",
      "Epoch 63/100\n",
      "32584/32584 [==============================] - 1s 32us/step - loss: 0.3829 - acc: 0.8358 - val_loss: 0.5740 - val_acc: 0.6101\n",
      "Epoch 64/100\n",
      "32584/32584 [==============================] - 1s 32us/step - loss: 0.3826 - acc: 0.8342 - val_loss: 0.5352 - val_acc: 0.6441\n",
      "Epoch 65/100\n",
      "32584/32584 [==============================] - 1s 32us/step - loss: 0.3829 - acc: 0.8368 - val_loss: 0.4592 - val_acc: 0.7971\n",
      "Epoch 66/100\n",
      "32584/32584 [==============================] - 1s 32us/step - loss: 0.3823 - acc: 0.8350 - val_loss: 0.3796 - val_acc: 0.8292\n",
      "Epoch 67/100\n",
      "32584/32584 [==============================] - 1s 32us/step - loss: 0.3817 - acc: 0.8348 - val_loss: 0.7787 - val_acc: 0.4147\n",
      "Epoch 68/100\n",
      "32584/32584 [==============================] - 1s 32us/step - loss: 0.3816 - acc: 0.8343 - val_loss: 0.4047 - val_acc: 0.8302\n",
      "Epoch 69/100\n",
      "32584/32584 [==============================] - 1s 32us/step - loss: 0.3793 - acc: 0.8363 - val_loss: 0.5534 - val_acc: 0.6251\n",
      "Epoch 70/100\n",
      "32584/32584 [==============================] - 1s 32us/step - loss: 0.3801 - acc: 0.8343 - val_loss: 0.3848 - val_acc: 0.8315\n",
      "Epoch 71/100\n",
      "32584/32584 [==============================] - 1s 32us/step - loss: 0.3800 - acc: 0.8379 - val_loss: 0.4978 - val_acc: 0.7192\n",
      "Epoch 72/100\n",
      "32584/32584 [==============================] - 1s 32us/step - loss: 0.3809 - acc: 0.8364 - val_loss: 0.4363 - val_acc: 0.8305\n",
      "Epoch 73/100\n",
      "32584/32584 [==============================] - 1s 32us/step - loss: 0.3785 - acc: 0.8377 - val_loss: 0.8767 - val_acc: 0.3905\n",
      "Epoch 74/100\n",
      "32584/32584 [==============================] - 1s 32us/step - loss: 0.3817 - acc: 0.8354 - val_loss: 0.4496 - val_acc: 0.8279\n",
      "Epoch 75/100\n",
      "32584/32584 [==============================] - 1s 32us/step - loss: 0.3777 - acc: 0.8406 - val_loss: 0.5121 - val_acc: 0.7154\n",
      "Epoch 76/100\n",
      "32584/32584 [==============================] - 1s 32us/step - loss: 0.3777 - acc: 0.8387 - val_loss: 0.5293 - val_acc: 0.8227\n",
      "Epoch 77/100\n",
      "32584/32584 [==============================] - 1s 31us/step - loss: 0.3753 - acc: 0.8370 - val_loss: 0.4494 - val_acc: 0.8267\n",
      "Epoch 78/100\n",
      "32584/32584 [==============================] - 1s 31us/step - loss: 0.3769 - acc: 0.8380 - val_loss: 0.4560 - val_acc: 0.8198\n",
      "Epoch 79/100\n",
      "32584/32584 [==============================] - 1s 31us/step - loss: 0.3737 - acc: 0.8399 - val_loss: 0.4767 - val_acc: 0.7816\n",
      "Epoch 80/100\n",
      "32584/32584 [==============================] - 1s 31us/step - loss: 0.3763 - acc: 0.8383 - val_loss: 0.3991 - val_acc: 0.8240\n",
      "Epoch 81/100\n",
      "32584/32584 [==============================] - 1s 31us/step - loss: 0.3754 - acc: 0.8389 - val_loss: 0.3940 - val_acc: 0.8387\n",
      "Epoch 82/100\n",
      "32584/32584 [==============================] - 1s 31us/step - loss: 0.3755 - acc: 0.8402 - val_loss: 0.6618 - val_acc: 0.5225\n",
      "Epoch 83/100\n",
      "32584/32584 [==============================] - 1s 31us/step - loss: 0.3745 - acc: 0.8387 - val_loss: 0.3780 - val_acc: 0.8342\n",
      "Epoch 84/100\n",
      "32584/32584 [==============================] - 1s 31us/step - loss: 0.3758 - acc: 0.8394 - val_loss: 0.5226 - val_acc: 0.8265\n",
      "Epoch 85/100\n",
      "32584/32584 [==============================] - 1s 31us/step - loss: 0.3740 - acc: 0.8378 - val_loss: 0.3717 - val_acc: 0.8354\n",
      "Epoch 86/100\n",
      "32584/32584 [==============================] - 1s 32us/step - loss: 0.3756 - acc: 0.8380 - val_loss: 0.4138 - val_acc: 0.8475\n",
      "Epoch 87/100\n",
      "32584/32584 [==============================] - 1s 32us/step - loss: 0.3753 - acc: 0.8390 - val_loss: 0.4740 - val_acc: 0.8085\n",
      "Epoch 88/100\n",
      "32584/32584 [==============================] - 1s 31us/step - loss: 0.3741 - acc: 0.8363 - val_loss: 0.4895 - val_acc: 0.7390\n",
      "Epoch 89/100\n",
      "32584/32584 [==============================] - 1s 31us/step - loss: 0.3740 - acc: 0.8388 - val_loss: 0.4158 - val_acc: 0.8278\n",
      "Epoch 90/100\n",
      "32584/32584 [==============================] - 1s 31us/step - loss: 0.3729 - acc: 0.8384 - val_loss: 0.4793 - val_acc: 0.7983\n",
      "Epoch 91/100\n",
      "32584/32584 [==============================] - 1s 31us/step - loss: 0.3735 - acc: 0.8412 - val_loss: 0.4249 - val_acc: 0.8312\n",
      "Epoch 92/100\n",
      "32584/32584 [==============================] - 1s 31us/step - loss: 0.3722 - acc: 0.8388 - val_loss: 0.4966 - val_acc: 0.8263\n",
      "Epoch 93/100\n",
      "32584/32584 [==============================] - 1s 31us/step - loss: 0.3738 - acc: 0.8385 - val_loss: 0.4210 - val_acc: 0.8346\n",
      "Epoch 94/100\n",
      "32584/32584 [==============================] - 1s 31us/step - loss: 0.3710 - acc: 0.8399 - val_loss: 0.4068 - val_acc: 0.8497\n",
      "Epoch 95/100\n",
      "32584/32584 [==============================] - 1s 31us/step - loss: 0.3693 - acc: 0.8424 - val_loss: 1.0953 - val_acc: 0.3713\n",
      "Epoch 96/100\n",
      "32584/32584 [==============================] - 1s 31us/step - loss: 0.3732 - acc: 0.8386 - val_loss: 0.4070 - val_acc: 0.8326\n",
      "Epoch 97/100\n",
      "32584/32584 [==============================] - 1s 31us/step - loss: 0.3712 - acc: 0.8396 - val_loss: 0.3589 - val_acc: 0.8386\n",
      "Epoch 98/100\n",
      "32584/32584 [==============================] - 1s 31us/step - loss: 0.3691 - acc: 0.8402 - val_loss: 0.3627 - val_acc: 0.8426\n",
      "Epoch 99/100\n",
      "32584/32584 [==============================] - 1s 31us/step - loss: 0.3703 - acc: 0.8401 - val_loss: 0.7853 - val_acc: 0.4820\n",
      "Epoch 100/100\n",
      "32584/32584 [==============================] - 1s 30us/step - loss: 0.3711 - acc: 0.8384 - val_loss: 0.3857 - val_acc: 0.8326\n"
     ]
    }
   ],
   "source": [
    "bst_lr_model_history = bst_lr_model.fit(X_train, y_train, epochs=100, batch_size=64, validation_split=0.2, shuffle=True)"
   ]
  },
  {
   "cell_type": "markdown",
   "metadata": {},
   "source": [
    "##### Plot"
   ]
  },
  {
   "cell_type": "code",
   "execution_count": 137,
   "metadata": {},
   "outputs": [
    {
     "name": "stdout",
     "output_type": "stream",
     "text": [
      "dict_keys(['loss', 'val_acc', 'val_loss', 'acc'])\n"
     ]
    }
   ],
   "source": [
    "print(bst_lr_model.history.history.keys())"
   ]
  },
  {
   "cell_type": "code",
   "execution_count": 138,
   "metadata": {},
   "outputs": [
    {
     "data": {
      "image/png": "[encoded data removed]",
      "text/plain": [
       "<matplotlib.figure.Figure at 0x1e1eb1ccba8>"
      ]
     },
     "metadata": {},
     "output_type": "display_data"
    }
   ],
   "source": [
    "plt.plot(bst_lr_model.history.history['acc'])\n",
    "plt.title('Accuracy Plot')\n",
    "plt.ylabel('Accuracy')\n",
    "plt.xlabel('Epoch')\n",
    "plt.legend(['Train', 'Validation'])\n",
    "plt.show()"
   ]
  },
  {
   "cell_type": "code",
   "execution_count": 139,
   "metadata": {},
   "outputs": [
    {
     "data": {
      "image/png": "[encoded data removed]",
      "text/plain": [
       "<matplotlib.figure.Figure at 0x1e1eb2dd780>"
      ]
     },
     "metadata": {},
     "output_type": "display_data"
    }
   ],
   "source": [
    "plt.plot(bst_lr_model.history.history['loss'])\n",
    "plt.title('Loss Function Plot')\n",
    "plt.ylabel('Loss')\n",
    "plt.xlabel('Epoch')\n",
    "plt.legend(['Train', 'Validation'])\n",
    "plt.show()"
   ]
  },
  {
   "cell_type": "markdown",
   "metadata": {},
   "source": [
    "#### Predictions"
   ]
  },
  {
   "cell_type": "code",
   "execution_count": 140,
   "metadata": {
    "collapsed": true
   },
   "outputs": [],
   "source": [
    "train_bst_lr_model_pred = bst_lr_model.predict_classes(X_train)\n",
    "test_bst_lr_model_pred = bst_lr_model.predict_classes(X_test)"
   ]
  },
  {
   "cell_type": "markdown",
   "metadata": {},
   "source": [
    "#### Getting evaluation metrics and evaluating model performance"
   ]
  },
  {
   "cell_type": "code",
   "execution_count": 141,
   "metadata": {},
   "outputs": [
    {
     "name": "stdout",
     "output_type": "stream",
     "text": [
      "[[32409   643]\n",
      " [ 6038  1640]]\n",
      "[[13862   303]\n",
      " [ 2594   697]]\n"
     ]
    }
   ],
   "source": [
    "confusion_matrix_train = confusion_matrix(y_train, train_bst_lr_model_pred)\n",
    "confusion_matrix_test = confusion_matrix(y_test, test_bst_lr_model_pred)\n",
    "\n",
    "print(confusion_matrix_train)\n",
    "print(confusion_matrix_test)"
   ]
  },
  {
   "cell_type": "markdown",
   "metadata": {},
   "source": [
    "#### Calculate Accuracy, True Positive Rate and True Negative Rates"
   ]
  },
  {
   "cell_type": "code",
   "execution_count": 142,
   "metadata": {},
   "outputs": [
    {
     "name": "stdout",
     "output_type": "stream",
     "text": [
      "Train TNR:  0.980545806608\n",
      "Train TPR:  0.213597290961\n",
      "Train Accuracy:  0.835968573533\n",
      "-----------------------\n",
      "Test TNR:  0.978609248147\n",
      "Test TPR:  0.211789729565\n",
      "Test Accuracy:  0.834039871677\n"
     ]
    }
   ],
   "source": [
    "Accuracy_Train_M6 =(confusion_matrix_train[0,0]+confusion_matrix_train[1,1])/(confusion_matrix_train[0,0]+confusion_matrix_train[0,1]+confusion_matrix_train[1,0]+confusion_matrix_train[1,1])\n",
    "TNR_Train_M6 = confusion_matrix_train[0,0]/(confusion_matrix_train[0,0]+confusion_matrix_train[0,1])\n",
    "TPR_Train_M6 = confusion_matrix_train[1,1]/(confusion_matrix_train[1,0]+confusion_matrix_train[1,1])\n",
    "\n",
    "print(\"Train TNR: \",TNR_Train_M6)\n",
    "print(\"Train TPR: \",TPR_Train_M6)\n",
    "print(\"Train Accuracy: \",Accuracy_Train_M6)\n",
    "print(\"-----------------------\")\n",
    "\n",
    "Accuracy_Test_M6 = (confusion_matrix_test[0,0]+confusion_matrix_test[1,1])/(confusion_matrix_test[0,0]+confusion_matrix_test[0,1]+confusion_matrix_test[1,0]+confusion_matrix_test[1,1])\n",
    "TNR_Test_M6 = confusion_matrix_test[0,0]/(confusion_matrix_test[0,0] +confusion_matrix_test[0,1])\n",
    "TPR_Test_M6 = confusion_matrix_test[1,1]/(confusion_matrix_test[1,0] +confusion_matrix_test[1,1])\n",
    "\n",
    "print(\"Test TNR: \",TNR_Test_M6)\n",
    "print(\"Test TPR: \",TPR_Test_M6)\n",
    "print(\"Test Accuracy: \",Accuracy_Test_M6)"
   ]
  },
  {
   "cell_type": "markdown",
   "metadata": {},
   "source": [
    "#### Find the best Batch size "
   ]
  },
  {
   "cell_type": "code",
   "execution_count": 143,
   "metadata": {
    "collapsed": true
   },
   "outputs": [],
   "source": [
    "batch_sizes = [32, 64, 128, 256]"
   ]
  },
  {
   "cell_type": "code",
   "execution_count": 144,
   "metadata": {},
   "outputs": [
    {
     "name": "stdout",
     "output_type": "stream",
     "text": [
      "Train on 32584 samples, validate on 8146 samples\n",
      "Epoch 1/10\n",
      "32584/32584 [==============================] - 3s 104us/step - loss: 0.4675 - acc: 0.8141 - val_loss: 0.4718 - val_acc: 0.8111\n",
      "Epoch 2/10\n",
      "32584/32584 [==============================] - 2s 62us/step - loss: 0.4515 - acc: 0.8172 - val_loss: 0.4858 - val_acc: 0.8121\n",
      "Epoch 3/10\n",
      "32584/32584 [==============================] - 2s 61us/step - loss: 0.4435 - acc: 0.8194 - val_loss: 0.4573 - val_acc: 0.8183\n",
      "Epoch 4/10\n",
      "32584/32584 [==============================] - 2s 62us/step - loss: 0.4384 - acc: 0.8208 - val_loss: 0.4772 - val_acc: 0.8151\n",
      "Epoch 5/10\n",
      "32584/32584 [==============================] - 2s 62us/step - loss: 0.4338 - acc: 0.8214 - val_loss: 0.4959 - val_acc: 0.8149\n",
      "Epoch 6/10\n",
      "32584/32584 [==============================] - 2s 64us/step - loss: 0.4301 - acc: 0.8227 - val_loss: 0.4288 - val_acc: 0.8194\n",
      "Epoch 7/10\n",
      "32584/32584 [==============================] - 2s 63us/step - loss: 0.4268 - acc: 0.8234 - val_loss: 0.5201 - val_acc: 0.8156\n",
      "Epoch 8/10\n",
      "32584/32584 [==============================] - 2s 62us/step - loss: 0.4240 - acc: 0.8236 - val_loss: 0.4801 - val_acc: 0.8157\n",
      "Epoch 9/10\n",
      "32584/32584 [==============================] - 2s 62us/step - loss: 0.4195 - acc: 0.8232 - val_loss: 0.4615 - val_acc: 0.7901\n",
      "Epoch 10/10\n",
      "32584/32584 [==============================] - 2s 62us/step - loss: 0.4183 - acc: 0.8257 - val_loss: 0.4178 - val_acc: 0.8240\n",
      "Train on 32584 samples, validate on 8146 samples\n",
      "Epoch 1/10\n",
      "32584/32584 [==============================] - 2s 63us/step - loss: 0.4743 - acc: 0.8122 - val_loss: 0.4776 - val_acc: 0.8070\n",
      "Epoch 2/10\n",
      "32584/32584 [==============================] - 1s 32us/step - loss: 0.4565 - acc: 0.8162 - val_loss: 0.4647 - val_acc: 0.8117\n",
      "Epoch 3/10\n",
      "32584/32584 [==============================] - 1s 33us/step - loss: 0.4487 - acc: 0.8183 - val_loss: 0.6285 - val_acc: 0.6991\n",
      "Epoch 4/10\n",
      "32584/32584 [==============================] - 1s 32us/step - loss: 0.4435 - acc: 0.8187 - val_loss: 0.4635 - val_acc: 0.8137\n",
      "Epoch 5/10\n",
      "32584/32584 [==============================] - 1s 32us/step - loss: 0.4380 - acc: 0.8202 - val_loss: 0.4799 - val_acc: 0.8135\n",
      "Epoch 6/10\n",
      "32584/32584 [==============================] - 1s 32us/step - loss: 0.4371 - acc: 0.8211 - val_loss: 0.4860 - val_acc: 0.7994\n",
      "Epoch 7/10\n",
      "32584/32584 [==============================] - 1s 32us/step - loss: 0.4316 - acc: 0.8226 - val_loss: 0.4684 - val_acc: 0.8160\n",
      "Epoch 8/10\n",
      "32584/32584 [==============================] - 1s 33us/step - loss: 0.4294 - acc: 0.8229 - val_loss: 0.4806 - val_acc: 0.8238\n",
      "Epoch 9/10\n",
      "32584/32584 [==============================] - 1s 33us/step - loss: 0.4275 - acc: 0.8231 - val_loss: 0.6752 - val_acc: 0.3996\n",
      "Epoch 10/10\n",
      "32584/32584 [==============================] - 1s 33us/step - loss: 0.4261 - acc: 0.8237 - val_loss: 0.4355 - val_acc: 0.8177\n",
      "Train on 32584 samples, validate on 8146 samples\n",
      "Epoch 1/10\n",
      "32584/32584 [==============================] - 2s 55us/step - loss: 0.4825 - acc: 0.8129 - val_loss: 0.4850 - val_acc: 0.8044\n",
      "Epoch 2/10\n",
      "32584/32584 [==============================] - 1s 17us/step - loss: 0.4645 - acc: 0.8137 - val_loss: 0.4752 - val_acc: 0.8075\n",
      "Epoch 3/10\n",
      "32584/32584 [==============================] - 1s 16us/step - loss: 0.4556 - acc: 0.8159 - val_loss: 0.4822 - val_acc: 0.8095\n",
      "Epoch 4/10\n",
      "32584/32584 [==============================] - 1s 17us/step - loss: 0.4517 - acc: 0.8174 - val_loss: 0.4591 - val_acc: 0.8121\n",
      "Epoch 5/10\n",
      "32584/32584 [==============================] - 1s 17us/step - loss: 0.4457 - acc: 0.8189 - val_loss: 0.4990 - val_acc: 0.8181\n",
      "Epoch 6/10\n",
      "32584/32584 [==============================] - 1s 16us/step - loss: 0.4434 - acc: 0.8193 - val_loss: 0.4495 - val_acc: 0.8159\n",
      "Epoch 7/10\n",
      "32584/32584 [==============================] - 1s 16us/step - loss: 0.4387 - acc: 0.8213 - val_loss: 0.4475 - val_acc: 0.8151\n",
      "Epoch 8/10\n",
      "32584/32584 [==============================] - 1s 17us/step - loss: 0.4377 - acc: 0.8208 - val_loss: 0.4374 - val_acc: 0.8162\n",
      "Epoch 9/10\n",
      "32584/32584 [==============================] - 1s 16us/step - loss: 0.4353 - acc: 0.8218 - val_loss: 0.4368 - val_acc: 0.8164\n",
      "Epoch 10/10\n",
      "32584/32584 [==============================] - 1s 17us/step - loss: 0.4330 - acc: 0.8218 - val_loss: 0.4349 - val_acc: 0.8187\n",
      "Train on 32584 samples, validate on 8146 samples\n",
      "Epoch 1/10\n",
      "32584/32584 [==============================] - 2s 47us/step - loss: 0.4903 - acc: 0.8129 - val_loss: 0.4908 - val_acc: 0.8048\n",
      "Epoch 2/10\n",
      "32584/32584 [==============================] - 0s 9us/step - loss: 0.4738 - acc: 0.8131 - val_loss: 0.4856 - val_acc: 0.8046\n",
      "Epoch 3/10\n",
      "32584/32584 [==============================] - 0s 9us/step - loss: 0.4660 - acc: 0.8138 - val_loss: 0.4780 - val_acc: 0.8065\n",
      "Epoch 4/10\n",
      "32584/32584 [==============================] - 0s 9us/step - loss: 0.4606 - acc: 0.8144 - val_loss: 0.4714 - val_acc: 0.8079\n",
      "Epoch 5/10\n",
      "32584/32584 [==============================] - 0s 9us/step - loss: 0.4558 - acc: 0.8156 - val_loss: 0.4746 - val_acc: 0.8089\n",
      "Epoch 6/10\n",
      "32584/32584 [==============================] - 0s 9us/step - loss: 0.4515 - acc: 0.8166 - val_loss: 0.4628 - val_acc: 0.8110\n",
      "Epoch 7/10\n",
      "32584/32584 [==============================] - 0s 9us/step - loss: 0.4491 - acc: 0.8179 - val_loss: 0.4778 - val_acc: 0.8114\n",
      "Epoch 8/10\n",
      "32584/32584 [==============================] - 0s 9us/step - loss: 0.4464 - acc: 0.8186 - val_loss: 0.4792 - val_acc: 0.8105\n",
      "Epoch 9/10\n",
      "32584/32584 [==============================] - 0s 9us/step - loss: 0.4457 - acc: 0.8190 - val_loss: 0.4533 - val_acc: 0.8138\n",
      "Epoch 10/10\n",
      "32584/32584 [==============================] - 0s 9us/step - loss: 0.4406 - acc: 0.8200 - val_loss: 0.4482 - val_acc: 0.8159\n"
     ]
    }
   ],
   "source": [
    "history=[]\n",
    "\n",
    "for batch_size in batch_sizes:\n",
    "        \n",
    "    bs_model = model_def(h_activation='tanh', o_activation='sigmoid', kernel_init='normal')\n",
    "    \n",
    "     # Compile model\n",
    "    sgd = optimizers.SGD(lr=best_params['best_learning_rate'])\n",
    "    bs_model.compile(loss='binary_crossentropy', optimizer=sgd, metrics=['accuracy'])\n",
    "    \n",
    "    #Fit the model\n",
    "    bs_model_history = bs_model.fit(X_train, y_train, batch_size=batch_size, epochs=10,\n",
    "                                    validation_split=0.2, shuffle=True)\n",
    "    \n",
    "    history.append(bs_model_history)"
   ]
  },
  {
   "cell_type": "markdown",
   "metadata": {},
   "source": [
    "###### Summarize history for train loss"
   ]
  },
  {
   "cell_type": "code",
   "execution_count": 145,
   "metadata": {},
   "outputs": [
    {
     "data": {
      "image/png": "[encoded data removed]",
      "text/plain": [
       "<matplotlib.figure.Figure at 0x1e1e98ea828>"
      ]
     },
     "metadata": {},
     "output_type": "display_data"
    }
   ],
   "source": [
    "for i in range(0, len(history)):\n",
    "    plt.plot(history[i].history['loss'])\n",
    "plt.title('Model Train Loss')\n",
    "plt.ylabel('loss')\n",
    "plt.xlabel('epochs')  \n",
    "plt.legend(batch_sizes, loc='upper left')\n",
    "plt.show()"
   ]
  },
  {
   "cell_type": "markdown",
   "metadata": {},
   "source": [
    "###### Summarize history for test loss"
   ]
  },
  {
   "cell_type": "code",
   "execution_count": 146,
   "metadata": {},
   "outputs": [
    {
     "data": {
      "image/png": "[encoded data removed]",
      "text/plain": [
       "<matplotlib.figure.Figure at 0x1e1e3d1cdd8>"
      ]
     },
     "metadata": {},
     "output_type": "display_data"
    }
   ],
   "source": [
    "for i in range(0, len(history)):\n",
    "    plt.plot(history[i].history['val_loss'])\n",
    "plt.title('Model Test Loss')\n",
    "plt.ylabel('loss')\n",
    "plt.xlabel('epoch')  \n",
    "plt.legend(batch_sizes, loc='upper left')\n",
    "plt.show()"
   ]
  },
  {
   "cell_type": "markdown",
   "metadata": {},
   "source": [
    "#### Build model with the best batch size"
   ]
  },
  {
   "cell_type": "code",
   "execution_count": 148,
   "metadata": {
    "collapsed": true
   },
   "outputs": [],
   "source": [
    "best_params['best_batch_size'] =32"
   ]
  },
  {
   "cell_type": "code",
   "execution_count": 149,
   "metadata": {
    "collapsed": true
   },
   "outputs": [],
   "source": [
    "   \n",
    "bst_bs_model = model_def(h_activation='tanh', o_activation='sigmoid', kernel_init='normal')"
   ]
  },
  {
   "cell_type": "code",
   "execution_count": 153,
   "metadata": {
    "collapsed": true
   },
   "outputs": [],
   "source": [
    "sgd = optimizers.SGD(lr=best_params['best_learning_rate'])\n",
    "bst_bs_model.compile(loss='binary_crossentropy', optimizer=sgd, metrics=['accuracy'])"
   ]
  },
  {
   "cell_type": "code",
   "execution_count": 152,
   "metadata": {},
   "outputs": [
    {
     "data": {
      "text/plain": [
       "{'best_batch_size': 32, 'best_learning_rate': 0.3846}"
      ]
     },
     "execution_count": 152,
     "metadata": {},
     "output_type": "execute_result"
    }
   ],
   "source": [
    "best_params"
   ]
  },
  {
   "cell_type": "code",
   "execution_count": 154,
   "metadata": {},
   "outputs": [
    {
     "name": "stdout",
     "output_type": "stream",
     "text": [
      "Train on 32584 samples, validate on 8146 samples\n",
      "Epoch 1/100\n",
      "32584/32584 [==============================] - 3s 99us/step - loss: 0.4674 - acc: 0.8146 - val_loss: 0.4929 - val_acc: 0.8081\n",
      "Epoch 2/100\n",
      "32584/32584 [==============================] - 2s 62us/step - loss: 0.4501 - acc: 0.8181 - val_loss: 0.4590 - val_acc: 0.8134\n",
      "Epoch 3/100\n",
      "32584/32584 [==============================] - 2s 63us/step - loss: 0.4433 - acc: 0.8191 - val_loss: 0.5617 - val_acc: 0.8213\n",
      "Epoch 4/100\n",
      "32584/32584 [==============================] - 2s 64us/step - loss: 0.4380 - acc: 0.8206 - val_loss: 0.4373 - val_acc: 0.8168\n",
      "Epoch 5/100\n",
      "32584/32584 [==============================] - 2s 64us/step - loss: 0.4321 - acc: 0.8209 - val_loss: 0.4545 - val_acc: 0.8172\n",
      "Epoch 6/100\n",
      "32584/32584 [==============================] - 2s 65us/step - loss: 0.4290 - acc: 0.8225 - val_loss: 0.4259 - val_acc: 0.8188\n",
      "Epoch 7/100\n",
      "32584/32584 [==============================] - 2s 65us/step - loss: 0.4250 - acc: 0.8233 - val_loss: 0.4456 - val_acc: 0.8184\n",
      "Epoch 8/100\n",
      "32584/32584 [==============================] - 2s 64us/step - loss: 0.4251 - acc: 0.8232 - val_loss: 0.4490 - val_acc: 0.8159\n",
      "Epoch 9/100\n",
      "32584/32584 [==============================] - 2s 64us/step - loss: 0.4201 - acc: 0.8257 - val_loss: 0.4441 - val_acc: 0.8193\n",
      "Epoch 10/100\n",
      "32584/32584 [==============================] - 2s 65us/step - loss: 0.4175 - acc: 0.8253 - val_loss: 0.4596 - val_acc: 0.8189\n",
      "Epoch 11/100\n",
      "32584/32584 [==============================] - 2s 64us/step - loss: 0.4159 - acc: 0.8251 - val_loss: 0.4174 - val_acc: 0.8195\n",
      "Epoch 12/100\n",
      "32584/32584 [==============================] - 2s 65us/step - loss: 0.4142 - acc: 0.8247 - val_loss: 0.4578 - val_acc: 0.8194\n",
      "Epoch 13/100\n",
      "32584/32584 [==============================] - 2s 64us/step - loss: 0.4135 - acc: 0.8250 - val_loss: 0.4548 - val_acc: 0.8289\n",
      "Epoch 14/100\n",
      "32584/32584 [==============================] - 2s 63us/step - loss: 0.4090 - acc: 0.8262 - val_loss: 0.4130 - val_acc: 0.8265\n",
      "Epoch 15/100\n",
      "32584/32584 [==============================] - 2s 63us/step - loss: 0.4094 - acc: 0.8274 - val_loss: 0.4171 - val_acc: 0.8213\n",
      "Epoch 16/100\n",
      "32584/32584 [==============================] - 2s 63us/step - loss: 0.4098 - acc: 0.8267 - val_loss: 0.4332 - val_acc: 0.8204\n",
      "Epoch 17/100\n",
      "32584/32584 [==============================] - 2s 62us/step - loss: 0.4082 - acc: 0.8279 - val_loss: 0.4018 - val_acc: 0.8245\n",
      "Epoch 18/100\n",
      "32584/32584 [==============================] - 2s 62us/step - loss: 0.4067 - acc: 0.8273 - val_loss: 0.4326 - val_acc: 0.8235\n",
      "Epoch 19/100\n",
      "32584/32584 [==============================] - 2s 63us/step - loss: 0.4042 - acc: 0.8291 - val_loss: 0.4011 - val_acc: 0.8243\n",
      "Epoch 20/100\n",
      "32584/32584 [==============================] - 2s 62us/step - loss: 0.4035 - acc: 0.8288 - val_loss: 0.4019 - val_acc: 0.8260\n",
      "Epoch 21/100\n",
      "32584/32584 [==============================] - 2s 63us/step - loss: 0.4034 - acc: 0.8281 - val_loss: 0.4266 - val_acc: 0.8236\n",
      "Epoch 22/100\n",
      "32584/32584 [==============================] - 2s 62us/step - loss: 0.4011 - acc: 0.8285 - val_loss: 0.5042 - val_acc: 0.8214\n",
      "Epoch 23/100\n",
      "32584/32584 [==============================] - 2s 62us/step - loss: 0.4032 - acc: 0.8295 - val_loss: 0.5096 - val_acc: 0.8210\n",
      "Epoch 24/100\n",
      "32584/32584 [==============================] - 2s 62us/step - loss: 0.4006 - acc: 0.8284 - val_loss: 0.4317 - val_acc: 0.8330\n",
      "Epoch 25/100\n",
      "32584/32584 [==============================] - 2s 62us/step - loss: 0.3998 - acc: 0.8301 - val_loss: 0.4705 - val_acc: 0.8290\n",
      "Epoch 26/100\n",
      "32584/32584 [==============================] - 2s 64us/step - loss: 0.3994 - acc: 0.8299 - val_loss: 0.4138 - val_acc: 0.8311\n",
      "Epoch 27/100\n",
      "32584/32584 [==============================] - 2s 62us/step - loss: 0.3959 - acc: 0.8302 - val_loss: 0.4503 - val_acc: 0.7982\n",
      "Epoch 28/100\n",
      "32584/32584 [==============================] - 2s 62us/step - loss: 0.3970 - acc: 0.8318 - val_loss: 0.3950 - val_acc: 0.8279\n",
      "Epoch 29/100\n",
      "32584/32584 [==============================] - 2s 63us/step - loss: 0.3960 - acc: 0.8301 - val_loss: 0.4395 - val_acc: 0.8330\n",
      "Epoch 30/100\n",
      "32584/32584 [==============================] - 2s 62us/step - loss: 0.3942 - acc: 0.8322 - val_loss: 0.4716 - val_acc: 0.8232\n",
      "Epoch 31/100\n",
      "32584/32584 [==============================] - 2s 61us/step - loss: 0.3927 - acc: 0.8316 - val_loss: 0.4840 - val_acc: 0.8240\n",
      "Epoch 32/100\n",
      "32584/32584 [==============================] - 2s 62us/step - loss: 0.3944 - acc: 0.8330 - val_loss: 0.4298 - val_acc: 0.8306\n",
      "Epoch 33/100\n",
      "32584/32584 [==============================] - 2s 61us/step - loss: 0.3926 - acc: 0.8312 - val_loss: 0.4581 - val_acc: 0.8241\n",
      "Epoch 34/100\n",
      "32584/32584 [==============================] - 2s 62us/step - loss: 0.3912 - acc: 0.8334 - val_loss: 0.4227 - val_acc: 0.8289\n",
      "Epoch 35/100\n",
      "32584/32584 [==============================] - 2s 61us/step - loss: 0.3926 - acc: 0.8313 - val_loss: 0.4347 - val_acc: 0.8332\n",
      "Epoch 36/100\n",
      "32584/32584 [==============================] - 2s 62us/step - loss: 0.3892 - acc: 0.8330 - val_loss: 0.3973 - val_acc: 0.8351\n",
      "Epoch 37/100\n",
      "32584/32584 [==============================] - 2s 60us/step - loss: 0.3887 - acc: 0.8315 - val_loss: 0.3845 - val_acc: 0.8349\n",
      "Epoch 38/100\n",
      "32584/32584 [==============================] - 2s 63us/step - loss: 0.3882 - acc: 0.8313 - val_loss: 0.5897 - val_acc: 0.6109\n",
      "Epoch 39/100\n",
      "32584/32584 [==============================] - 2s 57us/step - loss: 0.3863 - acc: 0.8320 - val_loss: 0.3781 - val_acc: 0.8360\n",
      "Epoch 40/100\n",
      "32584/32584 [==============================] - 2s 73us/step - loss: 0.3889 - acc: 0.8316 - val_loss: 0.3981 - val_acc: 0.8290\n",
      "Epoch 41/100\n",
      "32584/32584 [==============================] - 3s 78us/step - loss: 0.3864 - acc: 0.8346 - val_loss: 0.4846 - val_acc: 0.7363\n",
      "Epoch 42/100\n",
      "32584/32584 [==============================] - 3s 77us/step - loss: 0.3853 - acc: 0.8337 - val_loss: 0.3835 - val_acc: 0.8310\n",
      "Epoch 43/100\n",
      "32584/32584 [==============================] - 2s 73us/step - loss: 0.3835 - acc: 0.8338 - val_loss: 0.3795 - val_acc: 0.8332\n",
      "Epoch 44/100\n",
      "32584/32584 [==============================] - 2s 62us/step - loss: 0.3839 - acc: 0.8323 - val_loss: 0.4210 - val_acc: 0.8306\n",
      "Epoch 45/100\n",
      "32584/32584 [==============================] - 2s 60us/step - loss: 0.3847 - acc: 0.8339 - val_loss: 0.5880 - val_acc: 0.8221\n",
      "Epoch 46/100\n",
      "32584/32584 [==============================] - 2s 59us/step - loss: 0.3823 - acc: 0.8365 - val_loss: 0.3731 - val_acc: 0.8322\n",
      "Epoch 47/100\n",
      "32584/32584 [==============================] - 2s 59us/step - loss: 0.3828 - acc: 0.8347 - val_loss: 0.3817 - val_acc: 0.8319\n",
      "Epoch 48/100\n",
      "32584/32584 [==============================] - 2s 60us/step - loss: 0.3794 - acc: 0.8349 - val_loss: 0.3799 - val_acc: 0.8405\n",
      "Epoch 49/100\n",
      "32584/32584 [==============================] - 2s 59us/step - loss: 0.3805 - acc: 0.8348 - val_loss: 0.5337 - val_acc: 0.6771\n",
      "Epoch 50/100\n",
      "32584/32584 [==============================] - 2s 60us/step - loss: 0.3797 - acc: 0.8345 - val_loss: 0.4120 - val_acc: 0.8376\n",
      "Epoch 51/100\n",
      "32584/32584 [==============================] - 2s 60us/step - loss: 0.3781 - acc: 0.8363 - val_loss: 0.4550 - val_acc: 0.8306\n",
      "Epoch 52/100\n",
      "32584/32584 [==============================] - 2s 60us/step - loss: 0.3815 - acc: 0.8344 - val_loss: 0.8045 - val_acc: 0.4384\n",
      "Epoch 53/100\n",
      "32584/32584 [==============================] - 2s 60us/step - loss: 0.3801 - acc: 0.8363 - val_loss: 0.3826 - val_acc: 0.8308\n",
      "Epoch 54/100\n",
      "32584/32584 [==============================] - 2s 61us/step - loss: 0.3763 - acc: 0.8383 - val_loss: 0.4271 - val_acc: 0.8070\n",
      "Epoch 55/100\n",
      "32584/32584 [==============================] - 2s 61us/step - loss: 0.3769 - acc: 0.8372 - val_loss: 0.5198 - val_acc: 0.8258\n",
      "Epoch 56/100\n",
      "32584/32584 [==============================] - 2s 64us/step - loss: 0.3789 - acc: 0.8362 - val_loss: 0.3689 - val_acc: 0.8366\n",
      "Epoch 57/100\n",
      "32584/32584 [==============================] - 2s 63us/step - loss: 0.3766 - acc: 0.8360 - val_loss: 0.5154 - val_acc: 0.6727\n",
      "Epoch 58/100\n",
      "32584/32584 [==============================] - 2s 60us/step - loss: 0.3737 - acc: 0.8375 - val_loss: 0.4193 - val_acc: 0.8313\n",
      "Epoch 59/100\n",
      "32584/32584 [==============================] - 2s 64us/step - loss: 0.3757 - acc: 0.8365 - val_loss: 0.3729 - val_acc: 0.8360\n",
      "Epoch 60/100\n",
      "32584/32584 [==============================] - 2s 67us/step - loss: 0.3736 - acc: 0.8382 - val_loss: 0.4263 - val_acc: 0.8329\n",
      "Epoch 61/100\n",
      "32584/32584 [==============================] - 2s 64us/step - loss: 0.3742 - acc: 0.8365 - val_loss: 0.4187 - val_acc: 0.8409\n",
      "Epoch 62/100\n",
      "32584/32584 [==============================] - 2s 65us/step - loss: 0.3750 - acc: 0.8374 - val_loss: 0.4282 - val_acc: 0.8384\n",
      "Epoch 63/100\n",
      "32584/32584 [==============================] - 2s 65us/step - loss: 0.3736 - acc: 0.8373 - val_loss: 0.4155 - val_acc: 0.8328\n",
      "Epoch 64/100\n",
      "32584/32584 [==============================] - 2s 64us/step - loss: 0.3722 - acc: 0.8392 - val_loss: 0.8178 - val_acc: 0.4639\n",
      "Epoch 65/100\n",
      "32584/32584 [==============================] - 2s 65us/step - loss: 0.3719 - acc: 0.8387 - val_loss: 0.4249 - val_acc: 0.8301\n",
      "Epoch 66/100\n",
      "32584/32584 [==============================] - 2s 63us/step - loss: 0.3708 - acc: 0.8393 - val_loss: 0.3971 - val_acc: 0.8502\n",
      "Epoch 67/100\n",
      "32584/32584 [==============================] - 2s 64us/step - loss: 0.3708 - acc: 0.8390 - val_loss: 0.4521 - val_acc: 0.7815\n",
      "Epoch 68/100\n",
      "32584/32584 [==============================] - 2s 65us/step - loss: 0.3709 - acc: 0.8384 - val_loss: 0.3482 - val_acc: 0.8434\n",
      "Epoch 69/100\n",
      "32584/32584 [==============================] - 2s 63us/step - loss: 0.3730 - acc: 0.8383 - val_loss: 0.3829 - val_acc: 0.8283\n",
      "Epoch 70/100\n",
      "32584/32584 [==============================] - 2s 66us/step - loss: 0.3678 - acc: 0.8415 - val_loss: 0.3668 - val_acc: 0.8441\n",
      "Epoch 71/100\n",
      "32584/32584 [==============================] - 2s 64us/step - loss: 0.3699 - acc: 0.8395 - val_loss: 0.3549 - val_acc: 0.8413\n",
      "Epoch 72/100\n",
      "32584/32584 [==============================] - 2s 62us/step - loss: 0.3722 - acc: 0.8387 - val_loss: 0.5194 - val_acc: 0.6915\n",
      "Epoch 73/100\n",
      "32584/32584 [==============================] - 2s 62us/step - loss: 0.3678 - acc: 0.8392 - val_loss: 0.3634 - val_acc: 0.8391\n",
      "Epoch 74/100\n",
      "32584/32584 [==============================] - 2s 63us/step - loss: 0.3681 - acc: 0.8387 - val_loss: 0.3984 - val_acc: 0.8275\n",
      "Epoch 75/100\n",
      "32584/32584 [==============================] - 2s 62us/step - loss: 0.3670 - acc: 0.8403 - val_loss: 0.4102 - val_acc: 0.8387\n",
      "Epoch 76/100\n",
      "32584/32584 [==============================] - 2s 62us/step - loss: 0.3678 - acc: 0.8412 - val_loss: 0.4494 - val_acc: 0.8344\n",
      "Epoch 77/100\n",
      "32584/32584 [==============================] - 2s 63us/step - loss: 0.3665 - acc: 0.8402 - val_loss: 0.3899 - val_acc: 0.8419\n",
      "Epoch 78/100\n",
      "32584/32584 [==============================] - 2s 63us/step - loss: 0.3649 - acc: 0.8418 - val_loss: 0.3640 - val_acc: 0.8416\n",
      "Epoch 79/100\n",
      "32584/32584 [==============================] - 2s 62us/step - loss: 0.3656 - acc: 0.8407 - val_loss: 0.3671 - val_acc: 0.8392\n",
      "Epoch 80/100\n",
      "32584/32584 [==============================] - 2s 63us/step - loss: 0.3650 - acc: 0.8415 - val_loss: 0.3933 - val_acc: 0.8364\n",
      "Epoch 81/100\n",
      "32584/32584 [==============================] - 2s 62us/step - loss: 0.3665 - acc: 0.8396 - val_loss: 0.3541 - val_acc: 0.8440\n",
      "Epoch 82/100\n",
      "32584/32584 [==============================] - 2s 64us/step - loss: 0.3648 - acc: 0.8411 - val_loss: 0.5155 - val_acc: 0.8310\n",
      "Epoch 83/100\n",
      "32584/32584 [==============================] - 2s 62us/step - loss: 0.3646 - acc: 0.8416 - val_loss: 0.3970 - val_acc: 0.8329\n",
      "Epoch 84/100\n",
      "32584/32584 [==============================] - 2s 66us/step - loss: 0.3672 - acc: 0.8404 - val_loss: 0.4071 - val_acc: 0.8195\n",
      "Epoch 85/100\n",
      "32584/32584 [==============================] - 2s 62us/step - loss: 0.3622 - acc: 0.8428 - val_loss: 0.3440 - val_acc: 0.8462\n",
      "Epoch 86/100\n",
      "32584/32584 [==============================] - 2s 62us/step - loss: 0.3646 - acc: 0.8411 - val_loss: 0.4066 - val_acc: 0.8356\n",
      "Epoch 87/100\n",
      "32584/32584 [==============================] - 2s 62us/step - loss: 0.3646 - acc: 0.8410 - val_loss: 0.3530 - val_acc: 0.8543\n",
      "Epoch 88/100\n",
      "32584/32584 [==============================] - 2s 61us/step - loss: 0.3631 - acc: 0.8412 - val_loss: 0.3733 - val_acc: 0.8376\n",
      "Epoch 89/100\n",
      "32584/32584 [==============================] - 2s 63us/step - loss: 0.3628 - acc: 0.8405 - val_loss: 0.4380 - val_acc: 0.8294\n",
      "Epoch 90/100\n",
      "32584/32584 [==============================] - 2s 62us/step - loss: 0.3629 - acc: 0.8392 - val_loss: 0.5511 - val_acc: 0.6353\n",
      "Epoch 91/100\n",
      "32584/32584 [==============================] - 2s 63us/step - loss: 0.3612 - acc: 0.8422 - val_loss: 0.3858 - val_acc: 0.8360\n",
      "Epoch 92/100\n",
      "32584/32584 [==============================] - 2s 63us/step - loss: 0.3615 - acc: 0.8424 - val_loss: 0.3766 - val_acc: 0.8575\n",
      "Epoch 93/100\n",
      "32584/32584 [==============================] - 2s 63us/step - loss: 0.3619 - acc: 0.8439 - val_loss: 0.3790 - val_acc: 0.8361\n",
      "Epoch 94/100\n",
      "32584/32584 [==============================] - 2s 63us/step - loss: 0.3587 - acc: 0.8435 - val_loss: 0.3796 - val_acc: 0.8414\n",
      "Epoch 95/100\n",
      "32584/32584 [==============================] - 2s 63us/step - loss: 0.3603 - acc: 0.8433 - val_loss: 0.3921 - val_acc: 0.8346\n",
      "Epoch 96/100\n",
      "32584/32584 [==============================] - 2s 64us/step - loss: 0.3606 - acc: 0.8405 - val_loss: 0.4222 - val_acc: 0.8381\n",
      "Epoch 97/100\n",
      "32584/32584 [==============================] - 2s 61us/step - loss: 0.3588 - acc: 0.8433 - val_loss: 0.3501 - val_acc: 0.8367\n",
      "Epoch 98/100\n",
      "32584/32584 [==============================] - 2s 63us/step - loss: 0.3596 - acc: 0.8407 - val_loss: 0.6547 - val_acc: 0.8135\n",
      "Epoch 99/100\n",
      "32584/32584 [==============================] - 2s 62us/step - loss: 0.3595 - acc: 0.8434 - val_loss: 0.3552 - val_acc: 0.8429\n",
      "Epoch 100/100\n",
      "32584/32584 [==============================] - 2s 62us/step - loss: 0.3597 - acc: 0.8431 - val_loss: 0.3614 - val_acc: 0.8383\n"
     ]
    }
   ],
   "source": [
    "bst_bs_model_history = bst_bs_model.fit(X_train, y_train, epochs=100, \n",
    "                                        batch_size=best_params['best_batch_size'],\n",
    "                                        validation_split=0.2, shuffle=True)"
   ]
  },
  {
   "cell_type": "markdown",
   "metadata": {},
   "source": [
    "##### Plot"
   ]
  },
  {
   "cell_type": "code",
   "execution_count": 155,
   "metadata": {},
   "outputs": [
    {
     "name": "stdout",
     "output_type": "stream",
     "text": [
      "dict_keys(['loss', 'val_acc', 'val_loss', 'acc'])\n"
     ]
    }
   ],
   "source": [
    "print(bst_bs_model.history.history.keys())"
   ]
  },
  {
   "cell_type": "code",
   "execution_count": 156,
   "metadata": {},
   "outputs": [
    {
     "data": {
      "image/png": "[encoded data removed]",
      "text/plain": [
       "<matplotlib.figure.Figure at 0x1e1eb2e6908>"
      ]
     },
     "metadata": {},
     "output_type": "display_data"
    }
   ],
   "source": [
    "plt.plot(bst_bs_model.history.history['acc'])\n",
    "plt.title('Accuracy Plot')\n",
    "plt.ylabel('Accuracy')\n",
    "plt.xlabel('Epoch')\n",
    "plt.legend(['Train', 'Validation'])\n",
    "plt.show()"
   ]
  },
  {
   "cell_type": "code",
   "execution_count": 157,
   "metadata": {},
   "outputs": [
    {
     "data": {
      "image/png": "[encoded data removed]",
      "text/plain": [
       "<matplotlib.figure.Figure at 0x1e1eddcde80>"
      ]
     },
     "metadata": {},
     "output_type": "display_data"
    }
   ],
   "source": [
    "plt.plot(bst_bs_model.history.history['loss'])\n",
    "plt.title('Loss Function Plot')\n",
    "plt.ylabel('Loss')\n",
    "plt.xlabel('Epoch')\n",
    "plt.legend(['Train', 'Validation'])\n",
    "plt.show()"
   ]
  },
  {
   "cell_type": "markdown",
   "metadata": {},
   "source": [
    "#### Predictions"
   ]
  },
  {
   "cell_type": "code",
   "execution_count": 158,
   "metadata": {
    "collapsed": true
   },
   "outputs": [],
   "source": [
    "train_bst_bs_model_pred = bst_bs_model.predict_classes(X_train)\n",
    "test_bst_bs_model_pred = bst_bs_model.predict_classes(X_test)"
   ]
  },
  {
   "cell_type": "markdown",
   "metadata": {},
   "source": [
    "#### Getting evaluation metrics and evaluating model performance"
   ]
  },
  {
   "cell_type": "code",
   "execution_count": 159,
   "metadata": {},
   "outputs": [
    {
     "name": "stdout",
     "output_type": "stream",
     "text": [
      "[[32666   386]\n",
      " [ 6009  1669]]\n",
      "[[13993   172]\n",
      " [ 2601   690]]\n"
     ]
    }
   ],
   "source": [
    "confusion_matrix_train = confusion_matrix(y_train, train_bst_bs_model_pred)\n",
    "confusion_matrix_test = confusion_matrix(y_test, test_bst_bs_model_pred)\n",
    "\n",
    "print(confusion_matrix_train)\n",
    "print(confusion_matrix_test)"
   ]
  },
  {
   "cell_type": "markdown",
   "metadata": {},
   "source": [
    "#### Calculate Accuracy, True Positive Rate and True Negative Rates"
   ]
  },
  {
   "cell_type": "code",
   "execution_count": 160,
   "metadata": {},
   "outputs": [
    {
     "name": "stdout",
     "output_type": "stream",
     "text": [
      "Train TNR:  0.988321432894\n",
      "Train TPR:  0.217374316228\n",
      "Train Accuracy:  0.842990424748\n",
      "-----------------------\n",
      "Test TNR:  0.987857394988\n",
      "Test TPR:  0.2096627165\n",
      "Test Accuracy:  0.841143446379\n"
     ]
    }
   ],
   "source": [
    "Accuracy_Train_M6 =(confusion_matrix_train[0,0]+confusion_matrix_train[1,1])/(confusion_matrix_train[0,0]+confusion_matrix_train[0,1]+confusion_matrix_train[1,0]+confusion_matrix_train[1,1])\n",
    "TNR_Train_M6 = confusion_matrix_train[0,0]/(confusion_matrix_train[0,0]+confusion_matrix_train[0,1])\n",
    "TPR_Train_M6 = confusion_matrix_train[1,1]/(confusion_matrix_train[1,0]+confusion_matrix_train[1,1])\n",
    "\n",
    "print(\"Train TNR: \",TNR_Train_M6)\n",
    "print(\"Train TPR: \",TPR_Train_M6)\n",
    "print(\"Train Accuracy: \",Accuracy_Train_M6)\n",
    "\n",
    "print(\"-----------------------\")\n",
    "\n",
    "Accuracy_Test_M6 = (confusion_matrix_test[0,0]+confusion_matrix_test[1,1])/(confusion_matrix_test[0,0]+confusion_matrix_test[0,1]+confusion_matrix_test[1,0]+confusion_matrix_test[1,1])\n",
    "TNR_Test_M6 = confusion_matrix_test[0,0]/(confusion_matrix_test[0,0] +confusion_matrix_test[0,1])\n",
    "TPR_Test_M6 = confusion_matrix_test[1,1]/(confusion_matrix_test[1,0] +confusion_matrix_test[1,1])\n",
    "\n",
    "print(\"Test TNR: \",TNR_Test_M6)\n",
    "print(\"Test TPR: \",TPR_Test_M6)\n",
    "print(\"Test Accuracy: \",Accuracy_Test_M6)"
   ]
  },
  {
   "cell_type": "markdown",
   "metadata": {
    "collapsed": true
   },
   "source": [
    "### Reference Links:\n",
    "\n",
    "https://machinelearningmastery.com/adam-optimization-algorithm-for-deep-learning/\n",
    "\n",
    "https://keras.io/"
   ]
  }
 ],
 "metadata": {
  "kernelspec": {
   "display_name": "Python 3",
   "language": "python",
   "name": "python3"
  },
  "language_info": {
   "codemirror_mode": {
    "name": "ipython",
    "version": 3
   },
   "file_extension": ".py",
   "mimetype": "text/x-python",
   "name": "python",
   "nbconvert_exporter": "python",
   "pygments_lexer": "ipython3",
   "version": "3.7.7"
  }
 },
 "nbformat": 4,
 "nbformat_minor": 2
}
