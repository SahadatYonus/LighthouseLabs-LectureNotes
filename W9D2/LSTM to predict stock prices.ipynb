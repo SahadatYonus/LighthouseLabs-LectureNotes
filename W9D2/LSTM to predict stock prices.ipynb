{
 "cells": [
  {
   "cell_type": "markdown",
   "metadata": {},
   "source": [
    "### Why we use LSTM\n",
    "1. RNNs have vanishing gradient problem\n",
    "2. LSTM's solve this problem\n",
    "\n",
    "[source: 'http://colah.github.io/posts/2015-08-Understanding-LSTMs/' ]"
   ]
  },
  {
   "cell_type": "code",
   "execution_count": null,
   "metadata": {},
   "outputs": [],
   "source": [
    "from PIL import Image\n",
    "Image.open('./RNN cell.jpg') "
   ]
  },
  {
   "cell_type": "code",
   "execution_count": null,
   "metadata": {},
   "outputs": [],
   "source": [
    "Image.open('./LSTM cell.jpg') "
   ]
  },
  {
   "cell_type": "markdown",
   "metadata": {},
   "source": [
    "In LSTM memory state passes freely through time and backwar through time( sometimes getting cancelled but not mostly). This makes it a good sequence model"
   ]
  },
  {
   "cell_type": "markdown",
   "metadata": {},
   "source": [
    "#### Simple TensorFlow LSTM Example\n",
    "[source: Jeff Heaton Deep Learning Course ]"
   ]
  },
  {
   "cell_type": "code",
   "execution_count": null,
   "metadata": {},
   "outputs": [],
   "source": [
    "from tensorflow.keras.preprocessing import sequence\n",
    "from tensorflow.keras.models import Sequential\n",
    "from tensorflow.keras.layers import Dense, Embedding\n",
    "from tensorflow.keras.layers import LSTM\n",
    "import numpy as np\n",
    "\n",
    "max_features = 4 # 0,1,2,3 (total of 4)\n",
    "x = [\n",
    "    [[0],[1],[1],[0],[0],[0]],\n",
    "    [[0],[0],[0],[2],[2],[0]],\n",
    "    [[0],[0],[0],[0],[3],[3]],\n",
    "    [[0],[2],[2],[0],[0],[0]],\n",
    "    [[0],[0],[3],[3],[0],[0]],\n",
    "    [[0],[0],[0],[0],[1],[1]]\n",
    "]\n",
    "x = np.array(x,dtype=np.float32)\n",
    "y = np.array([1,2,3,2,3,1],dtype=np.int32)\n",
    "\n",
    "# Convert y2 to dummy variables\n",
    "y2 = np.zeros((y.shape[0], max_features),dtype=np.float32)\n",
    "y2[np.arange(y.shape[0]), y] = 1.0\n",
    "print(y2)\n",
    "\n",
    "print('Build model...')\n",
    "model = Sequential()\n",
    "model.add(LSTM(128, dropout=0.2, recurrent_dropout=0.2, \\\n",
    "               input_shape=(None, 1)))\n",
    "model.add(Dense(4, activation='sigmoid'))\n",
    "\n",
    "# try using different optimizers and different optimizer configs\n",
    "model.compile(loss='categorical_crossentropy',\n",
    "              optimizer='adam',\n",
    "              metrics=['accuracy'])\n",
    "\n",
    "print('Train...')\n",
    "model.fit(x,y2,epochs=200)\n",
    "pred = model.predict(x)\n",
    "predict_classes = np.argmax(pred,axis=1)\n",
    "print(\"Predicted classes: {}\",predict_classes)\n",
    "print(\"Expected classes: {}\",predict_classes)"
   ]
  },
  {
   "cell_type": "code",
   "execution_count": null,
   "metadata": {},
   "outputs": [],
   "source": [
    "def runit(model, inp):\n",
    "    inp = np.array(inp,dtype=np.float32)\n",
    "    pred = model.predict(inp)\n",
    "    return np.argmax(pred[0])\n",
    "\n",
    "print( runit( model, [[[0],[0],[0],[0],[0],[1]]] ))\n"
   ]
  },
  {
   "cell_type": "markdown",
   "metadata": {},
   "source": [
    "### Stock Prediction\n",
    "[source: 'https://stackabuse.com/time-series-analysis-with-lstm-using-pythons-keras-library/' ]\n"
   ]
  },
  {
   "cell_type": "code",
   "execution_count": 28,
   "metadata": {},
   "outputs": [],
   "source": [
    "import numpy as np\n",
    "import matplotlib.pyplot as plt\n",
    "import pandas as pd"
   ]
  },
  {
   "cell_type": "markdown",
   "metadata": {},
   "source": [
    "#### For training our algorithm, we will be using the Apple stock prices from 1st January 2013 to 31 December 2017. For the sake of prediction, we will use the Apple stock prices for the month of January 2018."
   ]
  },
  {
   "cell_type": "code",
   "execution_count": 29,
   "metadata": {},
   "outputs": [],
   "source": [
    "apple_training_complete = pd.read_csv('./AAPL (1).csv')"
   ]
  },
  {
   "cell_type": "code",
   "execution_count": 30,
   "metadata": {},
   "outputs": [],
   "source": [
    "apple_training_processed = apple_training_complete.iloc[:, 1:2].values\n"
   ]
  },
  {
   "cell_type": "markdown",
   "metadata": {},
   "source": [
    "### Normalizing the data"
   ]
  },
  {
   "cell_type": "code",
   "execution_count": 32,
   "metadata": {},
   "outputs": [],
   "source": [
    "from sklearn.preprocessing import MinMaxScaler\n",
    "scaler = MinMaxScaler(feature_range = (0, 1))\n",
    "\n",
    "apple_training_scaled = scaler.fit_transform(apple_training_processed)"
   ]
  },
  {
   "cell_type": "markdown",
   "metadata": {},
   "source": [
    "#### Convert Training Data to Right Shape"
   ]
  },
  {
   "cell_type": "markdown",
   "metadata": {},
   "source": [
    "we are going to predict the opening stock price of the data based on the opening stock prices for the past 60 days"
   ]
  },
  {
   "cell_type": "code",
   "execution_count": 34,
   "metadata": {},
   "outputs": [
    {
     "data": {
      "text/plain": [
       "(1259, 1)"
      ]
     },
     "execution_count": 34,
     "metadata": {},
     "output_type": "execute_result"
    }
   ],
   "source": [
    "apple_training_scaled.shape"
   ]
  },
  {
   "cell_type": "markdown",
   "metadata": {},
   "source": [
    "#### create feature set and labels"
   ]
  },
  {
   "cell_type": "code",
   "execution_count": 36,
   "metadata": {},
   "outputs": [],
   "source": [
    "features_set, labels = np.array(features_set), np.array(labels)"
   ]
  },
  {
   "cell_type": "markdown",
   "metadata": {},
   "source": [
    "#### Since we are only using one feature, i.e Open, the number of indicators will be one. Execute the following script:"
   ]
  },
  {
   "cell_type": "code",
   "execution_count": 42,
   "metadata": {},
   "outputs": [],
   "source": [
    "features_set = np.reshape(features_set, (features_set.shape[0], features_set.shape[1], 1))\n"
   ]
  },
  {
   "cell_type": "code",
   "execution_count": null,
   "metadata": {},
   "outputs": [],
   "source": []
  },
  {
   "cell_type": "markdown",
   "metadata": {},
   "source": [
    "####  Define the LSTM Recurrent Neural Network. Here, you can add more LSTM layers and adjust the dropout in order to improve the accuracy of the model"
   ]
  },
  {
   "cell_type": "code",
   "execution_count": 41,
   "metadata": {},
   "outputs": [],
   "source": [
    "from tensorflow.keras.models import Sequential\n",
    "from tensorflow.keras.layers import Dense\n",
    "from tensorflow.keras.layers import LSTM\n",
    "from tensorflow.keras.layers import Dropout"
   ]
  },
  {
   "cell_type": "markdown",
   "metadata": {},
   "source": [
    "#### To add a layer to the sequential model, the add method is used. Inside the add method, we passed our LSTM layer. The first parameter to the LSTM layer is the number of neurons or nodes that we want in the layer. The second parameter is return_sequences, which is set to true since we will add more layers to the model. The first parameter to the input_shape is the number of time steps while the last parameter is the number of indicators.\n",
    "\n",
    "#### Let's now add a dropout layer to our model. Dropout layer is added to avoid over-fitting, which is a phenomenon where a machine learning model performs better on the training data compared to the test data. Execute the following script to add dropout layer."
   ]
  },
  {
   "cell_type": "code",
   "execution_count": 43,
   "metadata": {},
   "outputs": [],
   "source": [
    "model = Sequential()\n",
    "model.add(LSTM(units=50, return_sequences=True, input_shape=(features_set.shape[1], 1)))\n",
    "model.add(Dropout(0.2))\n",
    "model.add(LSTM(units=50, return_sequences=True))\n",
    "model.add(Dropout(0.2))\n",
    "\n",
    "model.add(LSTM(units=50, return_sequences=True))\n",
    "model.add(Dropout(0.2))\n",
    "\n",
    "model.add(LSTM(units=50))\n",
    "model.add(Dropout(0.2))\n",
    "model.add(Dense(units = 1))\n"
   ]
  },
  {
   "cell_type": "code",
   "execution_count": 44,
   "metadata": {},
   "outputs": [],
   "source": [
    "model.compile(optimizer = 'adam', loss = 'mean_squared_error')\n"
   ]
  },
  {
   "cell_type": "markdown",
   "metadata": {},
   "source": [
    "#### fit on training data"
   ]
  },
  {
   "cell_type": "code",
   "execution_count": 45,
   "metadata": {},
   "outputs": [
    {
     "name": "stdout",
     "output_type": "stream",
     "text": [
      "Train on 1199 samples\n",
      "Epoch 1/100\n",
      "1199/1199 [==============================] - 6s 5ms/sample - loss: 0.0441\n",
      "Epoch 2/100\n",
      "1199/1199 [==============================] - 1s 467us/sample - loss: 0.0058\n",
      "Epoch 3/100\n",
      "1199/1199 [==============================] - 1s 538us/sample - loss: 0.0047\n",
      "Epoch 4/100\n",
      "1199/1199 [==============================] - 1s 529us/sample - loss: 0.0048\n",
      "Epoch 5/100\n",
      "1199/1199 [==============================] - 1s 496us/sample - loss: 0.0047\n",
      "Epoch 6/100\n",
      "1199/1199 [==============================] - ETA: 0s - loss: 0.004 - 1s 480us/sample - loss: 0.0040\n",
      "Epoch 7/100\n",
      "1199/1199 [==============================] - 1s 472us/sample - loss: 0.0037\n",
      "Epoch 8/100\n",
      "1199/1199 [==============================] - 1s 467us/sample - loss: 0.0035\n",
      "Epoch 9/100\n",
      "1199/1199 [==============================] - 1s 496us/sample - loss: 0.0036\n",
      "Epoch 10/100\n",
      "1199/1199 [==============================] - 1s 496us/sample - loss: 0.0038\n",
      "Epoch 11/100\n",
      "1199/1199 [==============================] - 1s 485us/sample - loss: 0.0037\n",
      "Epoch 12/100\n",
      "1199/1199 [==============================] - 1s 467us/sample - loss: 0.0036\n",
      "Epoch 13/100\n",
      "1199/1199 [==============================] - 1s 518us/sample - loss: 0.0033\n",
      "Epoch 14/100\n",
      "1199/1199 [==============================] - 1s 464us/sample - loss: 0.0030\n",
      "Epoch 15/100\n",
      "1199/1199 [==============================] - 1s 473us/sample - loss: 0.0031\n",
      "Epoch 16/100\n",
      "1199/1199 [==============================] - 1s 531us/sample - loss: 0.0031\n",
      "Epoch 17/100\n",
      "1199/1199 [==============================] - 1s 519us/sample - loss: 0.0035\n",
      "Epoch 18/100\n",
      "1199/1199 [==============================] - 1s 519us/sample - loss: 0.0037\n",
      "Epoch 19/100\n",
      "1199/1199 [==============================] - 1s 577us/sample - loss: 0.0028\n",
      "Epoch 20/100\n",
      "1199/1199 [==============================] - 1s 560us/sample - loss: 0.0029\n",
      "Epoch 21/100\n",
      "1199/1199 [==============================] - 1s 711us/sample - loss: 0.0027\n",
      "Epoch 22/100\n",
      "1199/1199 [==============================] - 1s 639us/sample - loss: 0.0024\n",
      "Epoch 23/100\n",
      "1199/1199 [==============================] - 1s 636us/sample - loss: 0.0026\n",
      "Epoch 24/100\n",
      "1199/1199 [==============================] - 1s 472us/sample - loss: 0.0024\n",
      "Epoch 25/100\n",
      "1199/1199 [==============================] - 1s 484us/sample - loss: 0.0023\n",
      "Epoch 26/100\n",
      "1199/1199 [==============================] - 1s 471us/sample - loss: 0.0027s - loss: 0.00\n",
      "Epoch 27/100\n",
      "1199/1199 [==============================] - 1s 513us/sample - loss: 0.0026\n",
      "Epoch 28/100\n",
      "1199/1199 [==============================] - 1s 490us/sample - loss: 0.0024\n",
      "Epoch 29/100\n",
      "1199/1199 [==============================] - 1s 457us/sample - loss: 0.0022\n",
      "Epoch 30/100\n",
      "1199/1199 [==============================] - 1s 521us/sample - loss: 0.0021\n",
      "Epoch 31/100\n",
      "1199/1199 [==============================] - 1s 632us/sample - loss: 0.0022s - loss: 0.0\n",
      "Epoch 32/100\n",
      "1199/1199 [==============================] - 1s 520us/sample - loss: 0.0021\n",
      "Epoch 33/100\n",
      "1199/1199 [==============================] - 1s 630us/sample - loss: 0.0024\n",
      "Epoch 34/100\n",
      "1199/1199 [==============================] - 1s 583us/sample - loss: 0.0023\n",
      "Epoch 35/100\n",
      "1199/1199 [==============================] - 1s 534us/sample - loss: 0.0021\n",
      "Epoch 36/100\n",
      "1199/1199 [==============================] - 1s 468us/sample - loss: 0.0022\n",
      "Epoch 37/100\n",
      "1199/1199 [==============================] - 1s 467us/sample - loss: 0.0018\n",
      "Epoch 38/100\n",
      "1199/1199 [==============================] - 1s 498us/sample - loss: 0.0022\n",
      "Epoch 39/100\n",
      "1199/1199 [==============================] - 1s 454us/sample - loss: 0.0021\n",
      "Epoch 40/100\n",
      "1199/1199 [==============================] - 1s 461us/sample - loss: 0.0024\n",
      "Epoch 41/100\n",
      "1199/1199 [==============================] - 1s 480us/sample - loss: 0.0022\n",
      "Epoch 42/100\n",
      "1199/1199 [==============================] - 1s 482us/sample - loss: 0.0025\n",
      "Epoch 43/100\n",
      "1199/1199 [==============================] - 1s 474us/sample - loss: 0.0018\n",
      "Epoch 44/100\n",
      "1199/1199 [==============================] - 1s 463us/sample - loss: 0.0017\n",
      "Epoch 45/100\n",
      "1199/1199 [==============================] - 1s 445us/sample - loss: 0.0022\n",
      "Epoch 46/100\n",
      "1199/1199 [==============================] - 1s 477us/sample - loss: 0.0021\n",
      "Epoch 47/100\n",
      "1199/1199 [==============================] - 1s 440us/sample - loss: 0.0017\n",
      "Epoch 48/100\n",
      "1199/1199 [==============================] - 1s 479us/sample - loss: 0.0018\n",
      "Epoch 49/100\n",
      "1199/1199 [==============================] - 1s 500us/sample - loss: 0.0020\n",
      "Epoch 50/100\n",
      "1199/1199 [==============================] - 1s 671us/sample - loss: 0.0020\n",
      "Epoch 51/100\n",
      "1199/1199 [==============================] - 1s 472us/sample - loss: 0.0019\n",
      "Epoch 52/100\n",
      "1199/1199 [==============================] - 1s 547us/sample - loss: 0.0021\n",
      "Epoch 53/100\n",
      "1199/1199 [==============================] - 1s 522us/sample - loss: 0.0017\n",
      "Epoch 54/100\n",
      "1199/1199 [==============================] - 1s 497us/sample - loss: 0.0017\n",
      "Epoch 55/100\n",
      "1199/1199 [==============================] - 1s 459us/sample - loss: 0.0016\n",
      "Epoch 56/100\n",
      "1199/1199 [==============================] - 1s 475us/sample - loss: 0.0017\n",
      "Epoch 57/100\n",
      "1199/1199 [==============================] - 1s 434us/sample - loss: 0.0015\n",
      "Epoch 58/100\n",
      "1199/1199 [==============================] - 1s 430us/sample - loss: 0.0016\n",
      "Epoch 59/100\n",
      "1199/1199 [==============================] - 1s 427us/sample - loss: 0.0016\n",
      "Epoch 60/100\n",
      "1199/1199 [==============================] - 1s 478us/sample - loss: 0.0019\n",
      "Epoch 61/100\n",
      "1199/1199 [==============================] - 1s 437us/sample - loss: 0.0016\n",
      "Epoch 62/100\n",
      "1199/1199 [==============================] - 1s 511us/sample - loss: 0.0015\n",
      "Epoch 63/100\n",
      "1199/1199 [==============================] - 1s 486us/sample - loss: 0.0017\n",
      "Epoch 64/100\n",
      "1199/1199 [==============================] - 1s 433us/sample - loss: 0.0017\n",
      "Epoch 65/100\n",
      "1199/1199 [==============================] - 1s 428us/sample - loss: 0.0016\n",
      "Epoch 66/100\n",
      "1199/1199 [==============================] - 1s 459us/sample - loss: 0.0017\n",
      "Epoch 67/100\n",
      "1199/1199 [==============================] - 1s 473us/sample - loss: 0.0015\n",
      "Epoch 68/100\n",
      "1199/1199 [==============================] - 1s 446us/sample - loss: 0.0013\n",
      "Epoch 69/100\n",
      "1199/1199 [==============================] - 1s 452us/sample - loss: 0.0015\n",
      "Epoch 70/100\n",
      "1199/1199 [==============================] - 1s 500us/sample - loss: 0.0013\n",
      "Epoch 71/100\n",
      "1199/1199 [==============================] - 1s 495us/sample - loss: 0.0014\n",
      "Epoch 72/100\n",
      "1199/1199 [==============================] - 1s 642us/sample - loss: 0.0014\n",
      "Epoch 73/100\n",
      "1199/1199 [==============================] - 1s 473us/sample - loss: 0.0014\n",
      "Epoch 74/100\n",
      "1199/1199 [==============================] - 1s 482us/sample - loss: 0.0014\n",
      "Epoch 75/100\n",
      "1199/1199 [==============================] - 1s 611us/sample - loss: 0.0015\n",
      "Epoch 76/100\n",
      "1199/1199 [==============================] - 1s 673us/sample - loss: 0.0015\n",
      "Epoch 77/100\n",
      "1199/1199 [==============================] - 1s 733us/sample - loss: 0.0014\n",
      "Epoch 78/100\n",
      "1199/1199 [==============================] - 1s 460us/sample - loss: 0.0013\n",
      "Epoch 79/100\n",
      "1199/1199 [==============================] - 1s 568us/sample - loss: 0.0013\n",
      "Epoch 80/100\n",
      "1199/1199 [==============================] - 1s 451us/sample - loss: 0.0013\n",
      "Epoch 81/100\n",
      "1199/1199 [==============================] - ETA: 0s - loss: 0.001 - 1s 429us/sample - loss: 0.0013\n",
      "Epoch 82/100\n",
      "1199/1199 [==============================] - 1s 480us/sample - loss: 0.0013\n",
      "Epoch 83/100\n",
      "1199/1199 [==============================] - 1s 457us/sample - loss: 0.0014\n",
      "Epoch 84/100\n",
      "1199/1199 [==============================] - 1s 460us/sample - loss: 0.0013s - loss: \n",
      "Epoch 85/100\n",
      "1199/1199 [==============================] - 1s 486us/sample - loss: 0.0013\n",
      "Epoch 86/100\n",
      "1199/1199 [==============================] - 1s 438us/sample - loss: 0.0013\n",
      "Epoch 87/100\n",
      "1199/1199 [==============================] - 1s 450us/sample - loss: 0.0012\n",
      "Epoch 88/100\n",
      "1199/1199 [==============================] - 1s 481us/sample - loss: 0.0013\n",
      "Epoch 89/100\n",
      "1199/1199 [==============================] - 1s 445us/sample - loss: 0.0013\n",
      "Epoch 90/100\n",
      "1199/1199 [==============================] - 1s 462us/sample - loss: 0.0013\n",
      "Epoch 91/100\n",
      "1199/1199 [==============================] - 1s 454us/sample - loss: 0.0013\n"
     ]
    },
    {
     "name": "stdout",
     "output_type": "stream",
     "text": [
      "Epoch 92/100\n",
      "1199/1199 [==============================] - 1s 490us/sample - loss: 0.0012\n",
      "Epoch 93/100\n",
      "1199/1199 [==============================] - 1s 431us/sample - loss: 0.0013\n",
      "Epoch 94/100\n",
      "1199/1199 [==============================] - 1s 458us/sample - loss: 0.0011\n",
      "Epoch 95/100\n",
      "1199/1199 [==============================] - 1s 438us/sample - loss: 0.0013\n",
      "Epoch 96/100\n",
      "1199/1199 [==============================] - 1s 457us/sample - loss: 9.6232e-04\n",
      "Epoch 97/100\n",
      "1199/1199 [==============================] - 1s 491us/sample - loss: 0.0011\n",
      "Epoch 98/100\n",
      "1199/1199 [==============================] - 1s 474us/sample - loss: 0.0010s - loss: 0.0\n",
      "Epoch 99/100\n",
      "1199/1199 [==============================] - 1s 498us/sample - loss: 0.0012\n",
      "Epoch 100/100\n",
      "1199/1199 [==============================] - 1s 482us/sample - loss: 0.0010\n"
     ]
    },
    {
     "data": {
      "text/plain": [
       "<tensorflow.python.keras.callbacks.History at 0x14bb1bad188>"
      ]
     },
     "execution_count": 45,
     "metadata": {},
     "output_type": "execute_result"
    }
   ],
   "source": [
    "model.fit(features_set, labels, epochs = 100, batch_size = 32)\n"
   ]
  },
  {
   "cell_type": "markdown",
   "metadata": {},
   "source": [
    "#### test Results"
   ]
  },
  {
   "cell_type": "code",
   "execution_count": 46,
   "metadata": {},
   "outputs": [],
   "source": [
    "apple_testing_complete = pd.read_csv('./AAPL (2).csv')\n",
    "apple_testing_processed = apple_testing_complete.iloc[:, 1:2].values"
   ]
  },
  {
   "cell_type": "markdown",
   "metadata": {},
   "source": [
    "#### Now let's prepare our test inputs. The input for each day should contain the opening stock prices for the previous 60 days. That means we need opening stock prices for the 20 test days for the month of January 2018 and the 60 stock prices from the last 60 days for the training set. Execute the following script to fetch those 80 values."
   ]
  },
  {
   "cell_type": "code",
   "execution_count": 47,
   "metadata": {},
   "outputs": [],
   "source": [
    "apple_total = pd.concat((apple_training_complete['Open'], apple_testing_complete['Open']), axis=0)\n"
   ]
  },
  {
   "cell_type": "code",
   "execution_count": 48,
   "metadata": {},
   "outputs": [],
   "source": [
    "test_inputs = apple_total[len(apple_total) - len(apple_testing_complete) - 60:].values\n"
   ]
  },
  {
   "cell_type": "code",
   "execution_count": 49,
   "metadata": {},
   "outputs": [],
   "source": [
    "test_inputs = test_inputs.reshape(-1,1)\n",
    "test_inputs = scaler.transform(test_inputs)"
   ]
  },
  {
   "cell_type": "code",
   "execution_count": 50,
   "metadata": {},
   "outputs": [],
   "source": [
    "test_features = []\n",
    "for i in range(60, 80):\n",
    "    test_features.append(test_inputs[i-60:i, 0])"
   ]
  },
  {
   "cell_type": "code",
   "execution_count": 51,
   "metadata": {},
   "outputs": [],
   "source": [
    "test_features = np.array(test_features)\n",
    "test_features = np.reshape(test_features, (test_features.shape[0], test_features.shape[1], 1))"
   ]
  },
  {
   "cell_type": "code",
   "execution_count": 52,
   "metadata": {},
   "outputs": [],
   "source": [
    "predictions = model.predict(test_features)\n"
   ]
  },
  {
   "cell_type": "code",
   "execution_count": 53,
   "metadata": {},
   "outputs": [],
   "source": [
    "predictions = scaler.inverse_transform(predictions)\n"
   ]
  },
  {
   "cell_type": "code",
   "execution_count": 54,
   "metadata": {},
   "outputs": [
    {
     "data": {
      "image/png": "[encoded data removed]",
      "text/plain": [
       "<Figure size 720x432 with 1 Axes>"
      ]
     },
     "metadata": {
      "needs_background": "light"
     },
     "output_type": "display_data"
    }
   ],
   "source": [
    "plt.figure(figsize=(10,6))\n",
    "plt.plot(apple_testing_processed, color='blue', label='Actual Apple Stock Price')\n",
    "plt.plot(predictions , color='red', label='Predicted Apple Stock Price')\n",
    "plt.title('Apple Stock Price Prediction')\n",
    "plt.xlabel('Date')\n",
    "plt.ylabel('Apple Stock Price')\n",
    "plt.legend()\n",
    "plt.show()"
   ]
  },
  {
   "cell_type": "code",
   "execution_count": null,
   "metadata": {},
   "outputs": [],
   "source": []
  }
 ],
 "metadata": {
  "kernelspec": {
   "display_name": "Python 3",
   "language": "python",
   "name": "python3"
  },
  "language_info": {
   "codemirror_mode": {
    "name": "ipython",
    "version": 3
   },
   "file_extension": ".py",
   "mimetype": "text/x-python",
   "name": "python",
   "nbconvert_exporter": "python",
   "pygments_lexer": "ipython3",
   "version": "3.7.7"
  }
 },
 "nbformat": 4,
 "nbformat_minor": 4
}
