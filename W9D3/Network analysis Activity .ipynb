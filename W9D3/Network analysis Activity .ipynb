{
 "cells": [
  {
   "cell_type": "markdown",
   "metadata": {},
   "source": [
    "### import packages needed"
   ]
  },
  {
   "cell_type": "code",
   "execution_count": 5,
   "metadata": {},
   "outputs": [],
   "source": [
    "import networkx as nx\n",
    "import pandas as pd\n",
    "import numpy as np\n",
    "import matplotlib.pyplot as plt\n",
    "%matplotlib inline"
   ]
  },
  {
   "cell_type": "markdown",
   "metadata": {},
   "source": [
    "#### Import data into pandas dataframes. name these dataframes as nodes and edges respectively."
   ]
  },
  {
   "cell_type": "code",
   "execution_count": 8,
   "metadata": {},
   "outputs": [],
   "source": [
    "nodes = pd.read_csv('./stack_network_nodes.csv')\n",
    "edges = pd.read_csv('./stack_network_links.csv')"
   ]
  },
  {
   "cell_type": "markdown",
   "metadata": {},
   "source": [
    "#### Create graph"
   ]
  },
  {
   "cell_type": "code",
   "execution_count": 18,
   "metadata": {},
   "outputs": [],
   "source": [
    "G = nx.Graph()"
   ]
  },
  {
   "cell_type": "code",
   "execution_count": 19,
   "metadata": {},
   "outputs": [],
   "source": [
    "### add nodes\n",
    "for index, row in nodes.iterrows():\n",
    "    G.add_node(row[\"name\"],group = row[\"group\"], nodesize = row[\"nodesize\"] )"
   ]
  },
  {
   "cell_type": "code",
   "execution_count": 20,
   "metadata": {},
   "outputs": [],
   "source": [
    "### add edges.remember to specify u and v of edge which are source and target and also the weight.\n",
    "for index, row in edges.iterrows():\n",
    "    G.add_edge(row[\"source\"], row[\"target\"], weight = row[\"value\"])"
   ]
  },
  {
   "cell_type": "markdown",
   "metadata": {},
   "source": [
    "### plot graph"
   ]
  },
  {
   "cell_type": "code",
   "execution_count": 21,
   "metadata": {},
   "outputs": [
    {
     "data": {
      "image/png": "[encoded data removed]",
      "text/plain": [
       "<Figure size 432x288 with 1 Axes>"
      ]
     },
     "metadata": {},
     "output_type": "display_data"
    }
   ],
   "source": [
    "nx.draw_networkx(G,edge_color='#FFDEA2')"
   ]
  },
  {
   "cell_type": "code",
   "execution_count": 22,
   "metadata": {},
   "outputs": [
    {
     "name": "stdout",
     "output_type": "stream",
     "text": [
      "Name: \n",
      "Type: Graph\n",
      "Number of nodes: 115\n",
      "Number of edges: 245\n",
      "Average degree:   4.2609\n"
     ]
    }
   ],
   "source": [
    "print(nx.info(G))\n"
   ]
  },
  {
   "cell_type": "markdown",
   "metadata": {},
   "source": [
    "### Find degree centrality of graph"
   ]
  },
  {
   "cell_type": "code",
   "execution_count": 23,
   "metadata": {},
   "outputs": [
    {
     "data": {
      "text/plain": [
       "{'html': 0.05263157894736842,\n",
       " 'css': 0.12280701754385964,\n",
       " 'hibernate': 0.07894736842105263,\n",
       " 'spring': 0.07894736842105263,\n",
       " 'ruby': 0.017543859649122806,\n",
       " 'ruby-on-rails': 0.017543859649122806,\n",
       " 'ios': 0.05263157894736842,\n",
       " 'swift': 0.03508771929824561,\n",
       " 'html5': 0.08771929824561403,\n",
       " 'c': 0.03508771929824561,\n",
       " 'c++': 0.03508771929824561,\n",
       " 'asp.net': 0.11403508771929824,\n",
       " 'c#': 0.12280701754385964,\n",
       " 'objective-c': 0.043859649122807015,\n",
       " 'javascript': 0.10526315789473684,\n",
       " 'jquery': 0.14035087719298245,\n",
       " 'redux': 0.03508771929824561,\n",
       " 'reactjs': 0.07017543859649122,\n",
       " 'php': 0.08771929824561403,\n",
       " 'mysql': 0.09649122807017543,\n",
       " 'spring-mvc': 0.06140350877192982,\n",
       " '.net': 0.07017543859649122,\n",
       " 'react-native': 0.02631578947368421,\n",
       " 'spring-boot': 0.02631578947368421,\n",
       " 'less': 0.02631578947368421,\n",
       " 'sass': 0.07894736842105263,\n",
       " 'hadoop': 0.017543859649122806,\n",
       " 'apache-spark': 0.017543859649122806,\n",
       " 'sql-server': 0.07894736842105263,\n",
       " 'express': 0.043859649122807015,\n",
       " 'node.js': 0.06140350877192982,\n",
       " 'mongodb': 0.07017543859649122,\n",
       " 'iphone': 0.03508771929824561,\n",
       " 'github': 0.008771929824561403,\n",
       " 'git': 0.03508771929824561,\n",
       " 'excel': 0.017543859649122806,\n",
       " 'excel-vba': 0.017543859649122806,\n",
       " 'entity-framework': 0.07017543859649122,\n",
       " 'linq': 0.06140350877192982,\n",
       " 'wcf': 0.07017543859649122,\n",
       " 'wpf': 0.05263157894736842,\n",
       " 'android': 0.02631578947368421,\n",
       " 'java': 0.07017543859649122,\n",
       " 'scala': 0.02631578947368421,\n",
       " 'ajax': 0.06140350877192982,\n",
       " 'django': 0.02631578947368421,\n",
       " 'python': 0.06140350877192982,\n",
       " 'vba': 0.017543859649122806,\n",
       " 'xcode': 0.03508771929824561,\n",
       " 'apache': 0.02631578947368421,\n",
       " 'nginx': 0.02631578947368421,\n",
       " 'angularjs': 0.11403508771929824,\n",
       " 'asp.net-web-api': 0.06140350877192982,\n",
       " 'laravel': 0.03508771929824561,\n",
       " 'plsql': 0.017543859649122806,\n",
       " 'oracle': 0.017543859649122806,\n",
       " 'json': 0.03508771929824561,\n",
       " 'xml': 0.008771929824561403,\n",
       " 'flask': 0.017543859649122806,\n",
       " 'wordpress': 0.05263157894736842,\n",
       " 'java-ee': 0.03508771929824561,\n",
       " 'maven': 0.043859649122807015,\n",
       " 'jsp': 0.03508771929824561,\n",
       " 'bash': 0.02631578947368421,\n",
       " 'linux': 0.08771929824561403,\n",
       " 'angular2': 0.017543859649122806,\n",
       " 'typescript': 0.017543859649122806,\n",
       " 'codeigniter': 0.05263157894736842,\n",
       " 'tdd': 0.008771929824561403,\n",
       " 'agile': 0.008771929824561403,\n",
       " 'twitter-bootstrap': 0.05263157894736842,\n",
       " 'web-services': 0.02631578947368421,\n",
       " 'rest': 0.043859649122807015,\n",
       " 'testing': 0.008771929824561403,\n",
       " 'selenium': 0.008771929824561403,\n",
       " 'android-studio': 0.008771929824561403,\n",
       " 'redis': 0.03508771929824561,\n",
       " 'jenkins': 0.03508771929824561,\n",
       " 'docker': 0.03508771929824561,\n",
       " 'amazon-web-services': 0.03508771929824561,\n",
       " 'angular': 0.008771929824561403,\n",
       " 'osx': 0.03508771929824561,\n",
       " 'machine-learning': 0.017543859649122806,\n",
       " 'qt': 0.008771929824561403,\n",
       " 'windows': 0.02631578947368421,\n",
       " 'ubuntu': 0.008771929824561403,\n",
       " 'ionic-framework': 0.008771929824561403,\n",
       " 'elasticsearch': 0.017543859649122806,\n",
       " 'vue.js': 0.008771929824561403,\n",
       " 'r': 0.02631578947368421,\n",
       " 'embedded': 0.008771929824561403,\n",
       " 'go': 0.008771929824561403,\n",
       " 'visual-studio': 0.008771929824561403,\n",
       " 'postgresql': 0.05263157894736842,\n",
       " 'sql': 0.043859649122807015,\n",
       " 'unix': 0.008771929824561403,\n",
       " 'eclipse': 0.008771929824561403,\n",
       " 'vb.net': 0.02631578947368421,\n",
       " 'unity3d': 0.008771929824561403,\n",
       " 'devops': 0.02631578947368421,\n",
       " 'drupal': 0.008771929824561403,\n",
       " 'shell': 0.017543859649122806,\n",
       " 'bootstrap': 0.017543859649122806,\n",
       " 'xamarin': 0.008771929824561403,\n",
       " 'azure': 0.043859649122807015,\n",
       " 'mvc': 0.008771929824561403,\n",
       " 'haskell': 0.008771929824561403,\n",
       " 'api': 0.008771929824561403,\n",
       " 'twitter-bootstrap-3': 0.017543859649122806,\n",
       " 'regex': 0.008771929824561403,\n",
       " 'perl': 0.008771929824561403,\n",
       " 'cloud': 0.008771929824561403,\n",
       " 'photoshop': 0.008771929824561403,\n",
       " 'powershell': 0.008771929824561403,\n",
       " 'matlab': 0.008771929824561403}"
      ]
     },
     "execution_count": 23,
     "metadata": {},
     "output_type": "execute_result"
    }
   ],
   "source": [
    "nx.degree_centrality(G)"
   ]
  },
  {
   "cell_type": "markdown",
   "metadata": {},
   "source": [
    "### Find betweenness centrality of graph"
   ]
  },
  {
   "cell_type": "code",
   "execution_count": null,
   "metadata": {},
   "outputs": [],
   "source": []
  }
 ],
 "metadata": {
  "kernelspec": {
   "display_name": "Python 3",
   "language": "python",
   "name": "python3"
  },
  "language_info": {
   "codemirror_mode": {
    "name": "ipython",
    "version": 3
   },
   "file_extension": ".py",
   "mimetype": "text/x-python",
   "name": "python",
   "nbconvert_exporter": "python",
   "pygments_lexer": "ipython3",
   "version": "3.7.9"
  }
 },
 "nbformat": 4,
 "nbformat_minor": 4
}
